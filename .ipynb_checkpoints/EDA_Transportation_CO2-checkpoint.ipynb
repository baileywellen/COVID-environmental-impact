{
 "cells": [
  {
   "cell_type": "markdown",
   "metadata": {},
   "source": [
    "This notebook is meant to explore the relationship between our transportation data and the CO2 emissions"
   ]
  },
  {
   "cell_type": "code",
   "execution_count": 136,
   "metadata": {},
   "outputs": [],
   "source": [
    "import pandas as pd\n",
    "import matplotlib.pyplot as plt\n",
    "import seaborn as sns\n",
    "import numpy as np"
   ]
  },
  {
   "cell_type": "code",
   "execution_count": 95,
   "metadata": {},
   "outputs": [],
   "source": [
    "transportation_df = pd.read_csv(\".\\data\\Monthly_Transportation_Statistics.csv\")"
   ]
  },
  {
   "cell_type": "markdown",
   "metadata": {},
   "source": [
    "Extract the month and year from the datetime column and make new columns to hold those values "
   ]
  },
  {
   "cell_type": "code",
   "execution_count": 96,
   "metadata": {},
   "outputs": [],
   "source": [
    "transportation_df['Month'] = [int(datetime[0:2]) for datetime in transportation_df['Date']]\n",
    "transportation_df['Year'] = [int(datetime[6:10]) for datetime in transportation_df['Date']]"
   ]
  },
  {
   "cell_type": "code",
   "execution_count": 97,
   "metadata": {},
   "outputs": [
    {
     "data": {
      "text/html": [
       "<div>\n",
       "<style scoped>\n",
       "    .dataframe tbody tr th:only-of-type {\n",
       "        vertical-align: middle;\n",
       "    }\n",
       "\n",
       "    .dataframe tbody tr th {\n",
       "        vertical-align: top;\n",
       "    }\n",
       "\n",
       "    .dataframe thead th {\n",
       "        text-align: right;\n",
       "    }\n",
       "</style>\n",
       "<table border=\"1\" class=\"dataframe\">\n",
       "  <thead>\n",
       "    <tr style=\"text-align: right;\">\n",
       "      <th></th>\n",
       "      <th>Index</th>\n",
       "      <th>Date</th>\n",
       "      <th>Air Safety - General Aviation Fatalities</th>\n",
       "      <th>Highway Fatalities Per 100 Million Vehicle Miles Traveled</th>\n",
       "      <th>Highway Fatalities</th>\n",
       "      <th>U.S. Airline Traffic - Total - Seasonally Adjusted</th>\n",
       "      <th>U.S. Airline Traffic - International - Seasonally Adjusted</th>\n",
       "      <th>U.S. Airline Traffic - Domestic - Seasonally Adjusted</th>\n",
       "      <th>Transit Ridership - Other Transit Modes - Adjusted</th>\n",
       "      <th>Transit Ridership - Fixed Route Bus - Adjusted</th>\n",
       "      <th>...</th>\n",
       "      <th>Light truck sales SAAR (millions)</th>\n",
       "      <th>U.S. Airline Traffic - International - Non Seasonally Adjusted</th>\n",
       "      <th>Auto sales SAAR (millions)</th>\n",
       "      <th>U.S. Airline Traffic - Domestic - Non Seasonally Adjusted</th>\n",
       "      <th>Transborder - Total North American Freight</th>\n",
       "      <th>Transborder - U.S. - Mexico Freight</th>\n",
       "      <th>U.S. marketing air carriers on-time performance</th>\n",
       "      <th>Transborder - U.S. - Canada Freight</th>\n",
       "      <th>Month</th>\n",
       "      <th>Year</th>\n",
       "    </tr>\n",
       "  </thead>\n",
       "  <tbody>\n",
       "    <tr>\n",
       "      <th>880</th>\n",
       "      <td>880</td>\n",
       "      <td>05/01/2020 12:00:00 AM</td>\n",
       "      <td>22.0</td>\n",
       "      <td>NaN</td>\n",
       "      <td>NaN</td>\n",
       "      <td>8,430,000</td>\n",
       "      <td>190,000</td>\n",
       "      <td>8,240,000</td>\n",
       "      <td>5,630,575</td>\n",
       "      <td>128,612,616</td>\n",
       "      <td>...</td>\n",
       "      <td>9,488,000</td>\n",
       "      <td>190,000</td>\n",
       "      <td>2,709,000</td>\n",
       "      <td>8,240,000</td>\n",
       "      <td>56,068,942,704</td>\n",
       "      <td>25,367,164,296</td>\n",
       "      <td>0.890796</td>\n",
       "      <td>30,701,778,408</td>\n",
       "      <td>5</td>\n",
       "      <td>2020</td>\n",
       "    </tr>\n",
       "    <tr>\n",
       "      <th>881</th>\n",
       "      <td>881</td>\n",
       "      <td>06/01/2020 12:00:00 AM</td>\n",
       "      <td>29.0</td>\n",
       "      <td>NaN</td>\n",
       "      <td>NaN</td>\n",
       "      <td>16,489,999.999999998</td>\n",
       "      <td>400,000</td>\n",
       "      <td>16,090,000</td>\n",
       "      <td>7,069,441</td>\n",
       "      <td>159,137,385</td>\n",
       "      <td>...</td>\n",
       "      <td>10,102,000</td>\n",
       "      <td>400,000</td>\n",
       "      <td>2,967,000</td>\n",
       "      <td>16,090,000</td>\n",
       "      <td>82,051,488,527.99998</td>\n",
       "      <td>41,591,152,333</td>\n",
       "      <td>NaN</td>\n",
       "      <td>40,460,336,195</td>\n",
       "      <td>6</td>\n",
       "      <td>2020</td>\n",
       "    </tr>\n",
       "    <tr>\n",
       "      <th>882</th>\n",
       "      <td>882</td>\n",
       "      <td>07/01/2020 12:00:00 AM</td>\n",
       "      <td>55.0</td>\n",
       "      <td>NaN</td>\n",
       "      <td>NaN</td>\n",
       "      <td>NaN</td>\n",
       "      <td>NaN</td>\n",
       "      <td>NaN</td>\n",
       "      <td>6,906,061</td>\n",
       "      <td>176,412,126</td>\n",
       "      <td>...</td>\n",
       "      <td>11,023,000</td>\n",
       "      <td>NaN</td>\n",
       "      <td>3,498,000</td>\n",
       "      <td>NaN</td>\n",
       "      <td>90,959,108,077</td>\n",
       "      <td>47,536,726,155</td>\n",
       "      <td>NaN</td>\n",
       "      <td>43,422,381,922</td>\n",
       "      <td>7</td>\n",
       "      <td>2020</td>\n",
       "    </tr>\n",
       "    <tr>\n",
       "      <th>883</th>\n",
       "      <td>883</td>\n",
       "      <td>08/01/2020 12:00:00 AM</td>\n",
       "      <td>27.0</td>\n",
       "      <td>NaN</td>\n",
       "      <td>NaN</td>\n",
       "      <td>NaN</td>\n",
       "      <td>NaN</td>\n",
       "      <td>NaN</td>\n",
       "      <td>NaN</td>\n",
       "      <td>NaN</td>\n",
       "      <td>...</td>\n",
       "      <td>NaN</td>\n",
       "      <td>NaN</td>\n",
       "      <td>NaN</td>\n",
       "      <td>NaN</td>\n",
       "      <td>NaN</td>\n",
       "      <td>NaN</td>\n",
       "      <td>NaN</td>\n",
       "      <td>NaN</td>\n",
       "      <td>8</td>\n",
       "      <td>2020</td>\n",
       "    </tr>\n",
       "    <tr>\n",
       "      <th>884</th>\n",
       "      <td>884</td>\n",
       "      <td>09/01/2020 12:00:00 AM</td>\n",
       "      <td>NaN</td>\n",
       "      <td>NaN</td>\n",
       "      <td>NaN</td>\n",
       "      <td>NaN</td>\n",
       "      <td>NaN</td>\n",
       "      <td>NaN</td>\n",
       "      <td>NaN</td>\n",
       "      <td>NaN</td>\n",
       "      <td>...</td>\n",
       "      <td>NaN</td>\n",
       "      <td>NaN</td>\n",
       "      <td>NaN</td>\n",
       "      <td>NaN</td>\n",
       "      <td>NaN</td>\n",
       "      <td>NaN</td>\n",
       "      <td>NaN</td>\n",
       "      <td>NaN</td>\n",
       "      <td>9</td>\n",
       "      <td>2020</td>\n",
       "    </tr>\n",
       "  </tbody>\n",
       "</table>\n",
       "<p>5 rows × 138 columns</p>\n",
       "</div>"
      ],
      "text/plain": [
       "     Index                    Date  Air Safety - General Aviation Fatalities  \\\n",
       "880    880  05/01/2020 12:00:00 AM                                      22.0   \n",
       "881    881  06/01/2020 12:00:00 AM                                      29.0   \n",
       "882    882  07/01/2020 12:00:00 AM                                      55.0   \n",
       "883    883  08/01/2020 12:00:00 AM                                      27.0   \n",
       "884    884  09/01/2020 12:00:00 AM                                       NaN   \n",
       "\n",
       "     Highway Fatalities Per 100 Million Vehicle Miles Traveled  \\\n",
       "880                                                NaN           \n",
       "881                                                NaN           \n",
       "882                                                NaN           \n",
       "883                                                NaN           \n",
       "884                                                NaN           \n",
       "\n",
       "    Highway Fatalities U.S. Airline Traffic - Total - Seasonally Adjusted  \\\n",
       "880                NaN                                          8,430,000   \n",
       "881                NaN                               16,489,999.999999998   \n",
       "882                NaN                                                NaN   \n",
       "883                NaN                                                NaN   \n",
       "884                NaN                                                NaN   \n",
       "\n",
       "    U.S. Airline Traffic - International - Seasonally Adjusted  \\\n",
       "880                                            190,000           \n",
       "881                                            400,000           \n",
       "882                                                NaN           \n",
       "883                                                NaN           \n",
       "884                                                NaN           \n",
       "\n",
       "    U.S. Airline Traffic - Domestic - Seasonally Adjusted  \\\n",
       "880                                          8,240,000      \n",
       "881                                         16,090,000      \n",
       "882                                                NaN      \n",
       "883                                                NaN      \n",
       "884                                                NaN      \n",
       "\n",
       "    Transit Ridership - Other Transit Modes - Adjusted  \\\n",
       "880                                          5,630,575   \n",
       "881                                          7,069,441   \n",
       "882                                          6,906,061   \n",
       "883                                                NaN   \n",
       "884                                                NaN   \n",
       "\n",
       "    Transit Ridership - Fixed Route Bus - Adjusted  ...  \\\n",
       "880                                    128,612,616  ...   \n",
       "881                                    159,137,385  ...   \n",
       "882                                    176,412,126  ...   \n",
       "883                                            NaN  ...   \n",
       "884                                            NaN  ...   \n",
       "\n",
       "    Light truck sales SAAR (millions)  \\\n",
       "880                         9,488,000   \n",
       "881                        10,102,000   \n",
       "882                        11,023,000   \n",
       "883                               NaN   \n",
       "884                               NaN   \n",
       "\n",
       "    U.S. Airline Traffic - International - Non Seasonally Adjusted  \\\n",
       "880                                            190,000               \n",
       "881                                            400,000               \n",
       "882                                                NaN               \n",
       "883                                                NaN               \n",
       "884                                                NaN               \n",
       "\n",
       "    Auto sales SAAR (millions)  \\\n",
       "880                  2,709,000   \n",
       "881                  2,967,000   \n",
       "882                  3,498,000   \n",
       "883                        NaN   \n",
       "884                        NaN   \n",
       "\n",
       "    U.S. Airline Traffic - Domestic - Non Seasonally Adjusted  \\\n",
       "880                                          8,240,000          \n",
       "881                                         16,090,000          \n",
       "882                                                NaN          \n",
       "883                                                NaN          \n",
       "884                                                NaN          \n",
       "\n",
       "    Transborder - Total North American Freight  \\\n",
       "880                             56,068,942,704   \n",
       "881                       82,051,488,527.99998   \n",
       "882                             90,959,108,077   \n",
       "883                                        NaN   \n",
       "884                                        NaN   \n",
       "\n",
       "    Transborder - U.S. - Mexico Freight  \\\n",
       "880                      25,367,164,296   \n",
       "881                      41,591,152,333   \n",
       "882                      47,536,726,155   \n",
       "883                                 NaN   \n",
       "884                                 NaN   \n",
       "\n",
       "    U.S. marketing air carriers on-time performance  \\\n",
       "880                                        0.890796   \n",
       "881                                             NaN   \n",
       "882                                             NaN   \n",
       "883                                             NaN   \n",
       "884                                             NaN   \n",
       "\n",
       "    Transborder - U.S. - Canada Freight Month  Year  \n",
       "880                      30,701,778,408     5  2020  \n",
       "881                      40,460,336,195     6  2020  \n",
       "882                      43,422,381,922     7  2020  \n",
       "883                                 NaN     8  2020  \n",
       "884                                 NaN     9  2020  \n",
       "\n",
       "[5 rows x 138 columns]"
      ]
     },
     "execution_count": 97,
     "metadata": {},
     "output_type": "execute_result"
    }
   ],
   "source": [
    "transportation_df.tail()"
   ]
  },
  {
   "cell_type": "code",
   "execution_count": 98,
   "metadata": {},
   "outputs": [],
   "source": [
    "#make a df with only the air transportation data \n",
    "air_transport_df = transportation_df[[\"Month\", \"Year\", \"U.S. Airline Traffic - Total - Seasonally Adjusted\",  \"U.S. Airline Traffic - International - Seasonally Adjusted\", \"U.S. Airline Traffic - Domestic - Seasonally Adjusted\", \"U.S. Airline Traffic - Total - Non Seasonally Adjusted\",\"U.S. Airline Traffic - International - Non Seasonally Adjusted\",  \"U.S. Airline Traffic - Domestic - Non Seasonally Adjusted\"]]"
   ]
  },
  {
   "cell_type": "code",
   "execution_count": 99,
   "metadata": {},
   "outputs": [],
   "source": [
    "#Consider any NA values - for now, I am just going to fill the ones that are NAN with 0 in the columns I am looking at\n",
    "\n",
    "air_transport_df = air_transport_df.rename(columns = {'U.S. Airline Traffic - International - Non Seasonally Adjusted' : 'airline_international'})\n",
    "air_transport_df = air_transport_df.rename(columns = {'U.S. Airline Traffic - Domestic - Non Seasonally Adjusted' : 'airline_domestic'})\n",
    "air_transport_df['airline_domestic'] = air_transport_df['airline_domestic'].fillna(0)\n",
    "air_transport_df['airline_international'] = air_transport_df['airline_international'].fillna(0)\n",
    "\n",
    "#Let's just look at data since 2017\n",
    "air_transport_recent = air_transport_df[air_transport_df[\"Year\"] >= 2017]"
   ]
  },
  {
   "cell_type": "markdown",
   "metadata": {},
   "source": [
    "Let's set the index to be the month and year combined"
   ]
  },
  {
   "cell_type": "code",
   "execution_count": 100,
   "metadata": {},
   "outputs": [
    {
     "name": "stderr",
     "output_type": "stream",
     "text": [
      "C:\\Users\\baile\\anaconda3\\lib\\site-packages\\pandas\\core\\indexing.py:845: SettingWithCopyWarning: \n",
      "A value is trying to be set on a copy of a slice from a DataFrame.\n",
      "Try using .loc[row_indexer,col_indexer] = value instead\n",
      "\n",
      "See the caveats in the documentation: https://pandas.pydata.org/pandas-docs/stable/user_guide/indexing.html#returning-a-view-versus-a-copy\n",
      "  self.obj[key] = _infer_fill_value(value)\n",
      "C:\\Users\\baile\\anaconda3\\lib\\site-packages\\pandas\\core\\indexing.py:966: SettingWithCopyWarning: \n",
      "A value is trying to be set on a copy of a slice from a DataFrame.\n",
      "Try using .loc[row_indexer,col_indexer] = value instead\n",
      "\n",
      "See the caveats in the documentation: https://pandas.pydata.org/pandas-docs/stable/user_guide/indexing.html#returning-a-view-versus-a-copy\n",
      "  self.obj[item] = s\n"
     ]
    }
   ],
   "source": [
    "air_transport_recent.loc[:, \"Month-Year\"] = air_transport_recent.loc[:, \"Month\"].astype(str) + '-' + air_transport_recent.loc[:, \"Year\"].astype(str) \n",
    "air_transport_recent.set_index(\"Month-Year\", inplace = True)"
   ]
  },
  {
   "cell_type": "code",
   "execution_count": 121,
   "metadata": {},
   "outputs": [
    {
     "name": "stderr",
     "output_type": "stream",
     "text": [
      "C:\\Users\\baile\\anaconda3\\lib\\site-packages\\pandas\\core\\indexing.py:966: SettingWithCopyWarning: \n",
      "A value is trying to be set on a copy of a slice from a DataFrame.\n",
      "Try using .loc[row_indexer,col_indexer] = value instead\n",
      "\n",
      "See the caveats in the documentation: https://pandas.pydata.org/pandas-docs/stable/user_guide/indexing.html#returning-a-view-versus-a-copy\n",
      "  self.obj[item] = s\n"
     ]
    }
   ],
   "source": [
    "#take out any commas in the data\n",
    "air_transport_recent.loc[:, 'airline_international'] = air_transport_recent.loc[:, 'airline_international'].astype(str)\n",
    "air_transport_recent.loc[:, 'airline_international'] = [s.replace(',','') for s in air_transport_recent.loc[:, 'airline_international']]\n",
    "air_transport_recent.loc[:, 'airline_international'] = air_transport_recent.loc[:, 'airline_international'].astype(float)\n",
    "\n",
    "air_transport_recent.loc[:, 'airline_domestic'] = air_transport_recent.loc[:,'airline_domestic'].astype(str)\n",
    "air_transport_recent.loc[:, 'airline_domestic'] = [s.replace(',','') for s in air_transport_recent.loc[:, 'airline_domestic']]\n",
    "air_transport_recent.loc[:, 'airline_domestic'] = air_transport_recent.loc[:,'airline_domestic'].astype(float)\n"
   ]
  },
  {
   "cell_type": "markdown",
   "metadata": {},
   "source": [
    "Let's look at the total non seasonally adjusted data by month \n"
   ]
  },
  {
   "cell_type": "code",
   "execution_count": 139,
   "metadata": {},
   "outputs": [
    {
     "data": {
      "image/png": "[encoded data removed]",
      "text/plain": [
       "<Figure size 1800x720 with 1 Axes>"
      ]
     },
     "metadata": {},
     "output_type": "display_data"
    },
    {
     "data": {
      "text/plain": [
       "<Figure size 1800x360 with 0 Axes>"
      ]
     },
     "metadata": {},
     "output_type": "display_data"
    }
   ],
   "source": [
    "plt.plot(air_transport_recent[\"airline_domestic\"])\n",
    "plt.figure(figsize=(25, 5))\n",
    "plt.show()"
   ]
  },
  {
   "cell_type": "markdown",
   "metadata": {},
   "source": [
    "Next I want to add the CO2 data to confirm that it is correlated \n",
    "\n",
    "\n",
    "this whole process would also be good to do with driving data as well"
   ]
  },
  {
   "cell_type": "code",
   "execution_count": null,
   "metadata": {},
   "outputs": [],
   "source": []
  }
 ],
 "metadata": {
  "kernelspec": {
   "display_name": "Python 3",
   "language": "python",
   "name": "python3"
  },
  "language_info": {
   "codemirror_mode": {
    "name": "ipython",
    "version": 3
   },
   "file_extension": ".py",
   "mimetype": "text/x-python",
   "name": "python",
   "nbconvert_exporter": "python",
   "pygments_lexer": "ipython3",
   "version": "3.8.3"
  }
 },
 "nbformat": 4,
 "nbformat_minor": 2
}
