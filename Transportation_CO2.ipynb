{
 "cells": [
  {
   "cell_type": "markdown",
   "metadata": {},
   "source": [
    "This notebook is meant to explore the relationship between our transportation data and the CO2 emissions"
   ]
  },
  {
   "cell_type": "code",
   "execution_count": 13,
   "metadata": {},
   "outputs": [],
   "source": [
    "import pandas as pd\n",
    "import matplotlib.pyplot as plt\n",
    "import seaborn as sns\n",
    "import numpy as np\n",
    "from pandas.api.types import is_numeric_dtype\n",
    "from scipy import stats\n"
   ]
  },
  {
   "cell_type": "code",
   "execution_count": 14,
   "metadata": {},
   "outputs": [],
   "source": [
    "transportation_df = pd.read_csv(\"./data/raw_data/Monthly_Transportation_Statistics.csv\")"
   ]
  },
  {
   "cell_type": "markdown",
   "metadata": {},
   "source": [
    "Extract the month and year from the datetime column and make new columns to hold those values "
   ]
  },
  {
   "cell_type": "code",
   "execution_count": 15,
   "metadata": {},
   "outputs": [],
   "source": [
    "transportation_df['Month'] = [int(datetime.split('/')[0]) for datetime in transportation_df['Date']]\n",
    "transportation_df['Year'] = [int(datetime.split('/')[2][0:4]) for datetime in transportation_df['Date']]"
   ]
  },
  {
   "cell_type": "code",
   "execution_count": 16,
   "metadata": {},
   "outputs": [
    {
     "data": {
      "text/html": [
       "<div>\n",
       "<style scoped>\n",
       "    .dataframe tbody tr th:only-of-type {\n",
       "        vertical-align: middle;\n",
       "    }\n",
       "\n",
       "    .dataframe tbody tr th {\n",
       "        vertical-align: top;\n",
       "    }\n",
       "\n",
       "    .dataframe thead th {\n",
       "        text-align: right;\n",
       "    }\n",
       "</style>\n",
       "<table border=\"1\" class=\"dataframe\">\n",
       "  <thead>\n",
       "    <tr style=\"text-align: right;\">\n",
       "      <th></th>\n",
       "      <th>Index</th>\n",
       "      <th>Date</th>\n",
       "      <th>Air Safety - General Aviation Fatalities</th>\n",
       "      <th>Highway Fatalities Per 100 Million Vehicle Miles Traveled</th>\n",
       "      <th>Highway Fatalities</th>\n",
       "      <th>U.S. Airline Traffic - Total - Seasonally Adjusted</th>\n",
       "      <th>U.S. Airline Traffic - International - Seasonally Adjusted</th>\n",
       "      <th>U.S. Airline Traffic - Domestic - Seasonally Adjusted</th>\n",
       "      <th>Transit Ridership - Other Transit Modes - Adjusted</th>\n",
       "      <th>Transit Ridership - Fixed Route Bus - Adjusted</th>\n",
       "      <th>...</th>\n",
       "      <th>Light truck sales SAAR (millions)</th>\n",
       "      <th>U.S. Airline Traffic - International - Non Seasonally Adjusted</th>\n",
       "      <th>Auto sales SAAR (millions)</th>\n",
       "      <th>U.S. Airline Traffic - Domestic - Non Seasonally Adjusted</th>\n",
       "      <th>Transborder - Total North American Freight</th>\n",
       "      <th>Transborder - U.S. - Mexico Freight</th>\n",
       "      <th>U.S. marketing air carriers on-time performance</th>\n",
       "      <th>Transborder - U.S. - Canada Freight</th>\n",
       "      <th>Month</th>\n",
       "      <th>Year</th>\n",
       "    </tr>\n",
       "  </thead>\n",
       "  <tbody>\n",
       "    <tr>\n",
       "      <th>880</th>\n",
       "      <td>880</td>\n",
       "      <td>5/1/2020 0:00</td>\n",
       "      <td>22.0</td>\n",
       "      <td>NaN</td>\n",
       "      <td>NaN</td>\n",
       "      <td>8,430,000</td>\n",
       "      <td>190,000</td>\n",
       "      <td>8,240,000</td>\n",
       "      <td>5,630,575</td>\n",
       "      <td>128,612,616</td>\n",
       "      <td>...</td>\n",
       "      <td>9,488,000</td>\n",
       "      <td>190,000</td>\n",
       "      <td>2,709,000</td>\n",
       "      <td>8,240,000</td>\n",
       "      <td>56,068,942,704</td>\n",
       "      <td>25,367,164,296</td>\n",
       "      <td>0.890796</td>\n",
       "      <td>30,701,778,408</td>\n",
       "      <td>5</td>\n",
       "      <td>2020</td>\n",
       "    </tr>\n",
       "    <tr>\n",
       "      <th>881</th>\n",
       "      <td>881</td>\n",
       "      <td>6/1/2020 0:00</td>\n",
       "      <td>29.0</td>\n",
       "      <td>NaN</td>\n",
       "      <td>NaN</td>\n",
       "      <td>16,490,000.00</td>\n",
       "      <td>400,000</td>\n",
       "      <td>16,090,000</td>\n",
       "      <td>7,069,441</td>\n",
       "      <td>159,137,385</td>\n",
       "      <td>...</td>\n",
       "      <td>10,102,000</td>\n",
       "      <td>400,000</td>\n",
       "      <td>2,967,000</td>\n",
       "      <td>16,090,000</td>\n",
       "      <td>82,051,488,528.00</td>\n",
       "      <td>41,591,152,333</td>\n",
       "      <td>NaN</td>\n",
       "      <td>40,460,336,195</td>\n",
       "      <td>6</td>\n",
       "      <td>2020</td>\n",
       "    </tr>\n",
       "    <tr>\n",
       "      <th>882</th>\n",
       "      <td>882</td>\n",
       "      <td>7/1/2020 0:00</td>\n",
       "      <td>55.0</td>\n",
       "      <td>NaN</td>\n",
       "      <td>NaN</td>\n",
       "      <td>NaN</td>\n",
       "      <td>NaN</td>\n",
       "      <td>NaN</td>\n",
       "      <td>6,906,061</td>\n",
       "      <td>176,412,126</td>\n",
       "      <td>...</td>\n",
       "      <td>11,023,000</td>\n",
       "      <td>NaN</td>\n",
       "      <td>3,498,000</td>\n",
       "      <td>NaN</td>\n",
       "      <td>90,959,108,077</td>\n",
       "      <td>47,536,726,155</td>\n",
       "      <td>NaN</td>\n",
       "      <td>43,422,381,922</td>\n",
       "      <td>7</td>\n",
       "      <td>2020</td>\n",
       "    </tr>\n",
       "    <tr>\n",
       "      <th>883</th>\n",
       "      <td>883</td>\n",
       "      <td>8/1/2020 0:00</td>\n",
       "      <td>27.0</td>\n",
       "      <td>NaN</td>\n",
       "      <td>NaN</td>\n",
       "      <td>NaN</td>\n",
       "      <td>NaN</td>\n",
       "      <td>NaN</td>\n",
       "      <td>NaN</td>\n",
       "      <td>NaN</td>\n",
       "      <td>...</td>\n",
       "      <td>NaN</td>\n",
       "      <td>NaN</td>\n",
       "      <td>NaN</td>\n",
       "      <td>NaN</td>\n",
       "      <td>NaN</td>\n",
       "      <td>NaN</td>\n",
       "      <td>NaN</td>\n",
       "      <td>NaN</td>\n",
       "      <td>8</td>\n",
       "      <td>2020</td>\n",
       "    </tr>\n",
       "    <tr>\n",
       "      <th>884</th>\n",
       "      <td>884</td>\n",
       "      <td>9/1/2020 0:00</td>\n",
       "      <td>NaN</td>\n",
       "      <td>NaN</td>\n",
       "      <td>NaN</td>\n",
       "      <td>NaN</td>\n",
       "      <td>NaN</td>\n",
       "      <td>NaN</td>\n",
       "      <td>NaN</td>\n",
       "      <td>NaN</td>\n",
       "      <td>...</td>\n",
       "      <td>NaN</td>\n",
       "      <td>NaN</td>\n",
       "      <td>NaN</td>\n",
       "      <td>NaN</td>\n",
       "      <td>NaN</td>\n",
       "      <td>NaN</td>\n",
       "      <td>NaN</td>\n",
       "      <td>NaN</td>\n",
       "      <td>9</td>\n",
       "      <td>2020</td>\n",
       "    </tr>\n",
       "  </tbody>\n",
       "</table>\n",
       "<p>5 rows × 138 columns</p>\n",
       "</div>"
      ],
      "text/plain": [
       "     Index           Date  Air Safety - General Aviation Fatalities  \\\n",
       "880    880  5/1/2020 0:00                                      22.0   \n",
       "881    881  6/1/2020 0:00                                      29.0   \n",
       "882    882  7/1/2020 0:00                                      55.0   \n",
       "883    883  8/1/2020 0:00                                      27.0   \n",
       "884    884  9/1/2020 0:00                                       NaN   \n",
       "\n",
       "     Highway Fatalities Per 100 Million Vehicle Miles Traveled  \\\n",
       "880                                                NaN           \n",
       "881                                                NaN           \n",
       "882                                                NaN           \n",
       "883                                                NaN           \n",
       "884                                                NaN           \n",
       "\n",
       "    Highway Fatalities U.S. Airline Traffic - Total - Seasonally Adjusted  \\\n",
       "880                NaN                                          8,430,000   \n",
       "881                NaN                                      16,490,000.00   \n",
       "882                NaN                                                NaN   \n",
       "883                NaN                                                NaN   \n",
       "884                NaN                                                NaN   \n",
       "\n",
       "    U.S. Airline Traffic - International - Seasonally Adjusted  \\\n",
       "880                                            190,000           \n",
       "881                                            400,000           \n",
       "882                                                NaN           \n",
       "883                                                NaN           \n",
       "884                                                NaN           \n",
       "\n",
       "    U.S. Airline Traffic - Domestic - Seasonally Adjusted  \\\n",
       "880                                          8,240,000      \n",
       "881                                         16,090,000      \n",
       "882                                                NaN      \n",
       "883                                                NaN      \n",
       "884                                                NaN      \n",
       "\n",
       "    Transit Ridership - Other Transit Modes - Adjusted  \\\n",
       "880                                          5,630,575   \n",
       "881                                          7,069,441   \n",
       "882                                          6,906,061   \n",
       "883                                                NaN   \n",
       "884                                                NaN   \n",
       "\n",
       "    Transit Ridership - Fixed Route Bus - Adjusted  ...  \\\n",
       "880                                    128,612,616  ...   \n",
       "881                                    159,137,385  ...   \n",
       "882                                    176,412,126  ...   \n",
       "883                                            NaN  ...   \n",
       "884                                            NaN  ...   \n",
       "\n",
       "    Light truck sales SAAR (millions)  \\\n",
       "880                         9,488,000   \n",
       "881                        10,102,000   \n",
       "882                        11,023,000   \n",
       "883                               NaN   \n",
       "884                               NaN   \n",
       "\n",
       "    U.S. Airline Traffic - International - Non Seasonally Adjusted  \\\n",
       "880                                            190,000               \n",
       "881                                            400,000               \n",
       "882                                                NaN               \n",
       "883                                                NaN               \n",
       "884                                                NaN               \n",
       "\n",
       "    Auto sales SAAR (millions)  \\\n",
       "880                  2,709,000   \n",
       "881                  2,967,000   \n",
       "882                  3,498,000   \n",
       "883                        NaN   \n",
       "884                        NaN   \n",
       "\n",
       "    U.S. Airline Traffic - Domestic - Non Seasonally Adjusted  \\\n",
       "880                                          8,240,000          \n",
       "881                                         16,090,000          \n",
       "882                                                NaN          \n",
       "883                                                NaN          \n",
       "884                                                NaN          \n",
       "\n",
       "    Transborder - Total North American Freight  \\\n",
       "880                             56,068,942,704   \n",
       "881                          82,051,488,528.00   \n",
       "882                             90,959,108,077   \n",
       "883                                        NaN   \n",
       "884                                        NaN   \n",
       "\n",
       "    Transborder - U.S. - Mexico Freight  \\\n",
       "880                      25,367,164,296   \n",
       "881                      41,591,152,333   \n",
       "882                      47,536,726,155   \n",
       "883                                 NaN   \n",
       "884                                 NaN   \n",
       "\n",
       "    U.S. marketing air carriers on-time performance  \\\n",
       "880                                        0.890796   \n",
       "881                                             NaN   \n",
       "882                                             NaN   \n",
       "883                                             NaN   \n",
       "884                                             NaN   \n",
       "\n",
       "    Transborder - U.S. - Canada Freight Month  Year  \n",
       "880                      30,701,778,408     5  2020  \n",
       "881                      40,460,336,195     6  2020  \n",
       "882                      43,422,381,922     7  2020  \n",
       "883                                 NaN     8  2020  \n",
       "884                                 NaN     9  2020  \n",
       "\n",
       "[5 rows x 138 columns]"
      ]
     },
     "execution_count": 16,
     "metadata": {},
     "output_type": "execute_result"
    }
   ],
   "source": [
    "transportation_df.tail()"
   ]
  },
  {
   "cell_type": "code",
   "execution_count": 17,
   "metadata": {},
   "outputs": [],
   "source": [
    "#make a df with only the air transportation data \n",
    "air_transport_df = transportation_df[[\"Month\", \"Year\", \"U.S. Airline Traffic - Total - Non Seasonally Adjusted\", \"U.S. Airline Traffic - International - Non Seasonally Adjusted\",  \"U.S. Airline Traffic - Domestic - Non Seasonally Adjusted\"]]"
   ]
  },
  {
   "cell_type": "code",
   "execution_count": 18,
   "metadata": {},
   "outputs": [],
   "source": [
    "#Consider any NA values - for now, I am just going to fill the ones that are NAN with 0 in the columns I am looking at\n",
    "\n",
    "air_transport_df = air_transport_df.rename(columns = {'U.S. Airline Traffic - International - Non Seasonally Adjusted' : 'airline_international',\n",
    "                                                      'U.S. Airline Traffic - Domestic - Non Seasonally Adjusted' : 'airline_domestic',\n",
    "                                                        'U.S. Airline Traffic - Total - Non Seasonally Adjusted' : 'airline_total'})\n",
    "\n",
    "air_transport_df['airline_domestic'] = air_transport_df['airline_domestic'].fillna(0)\n",
    "air_transport_df['airline_international'] = air_transport_df['airline_international'].fillna(0)\n",
    "air_transport_df['airline_total'] = air_transport_df['airline_total'].fillna(0)\n",
    "\n",
    "\n",
    "\n",
    "#Let's just look at data since 2017\n",
    "air_transport_recent = air_transport_df[air_transport_df[\"Year\"].astype(int) >= 2017]"
   ]
  },
  {
   "cell_type": "markdown",
   "metadata": {},
   "source": [
    "Let's set the index to be the month and year combined"
   ]
  },
  {
   "cell_type": "code",
   "execution_count": 19,
   "metadata": {},
   "outputs": [
    {
     "name": "stderr",
     "output_type": "stream",
     "text": [
      "C:\\Users\\baile\\anaconda3\\lib\\site-packages\\pandas\\core\\indexing.py:845: SettingWithCopyWarning: \n",
      "A value is trying to be set on a copy of a slice from a DataFrame.\n",
      "Try using .loc[row_indexer,col_indexer] = value instead\n",
      "\n",
      "See the caveats in the documentation: https://pandas.pydata.org/pandas-docs/stable/user_guide/indexing.html#returning-a-view-versus-a-copy\n",
      "  self.obj[key] = _infer_fill_value(value)\n",
      "C:\\Users\\baile\\anaconda3\\lib\\site-packages\\pandas\\core\\indexing.py:966: SettingWithCopyWarning: \n",
      "A value is trying to be set on a copy of a slice from a DataFrame.\n",
      "Try using .loc[row_indexer,col_indexer] = value instead\n",
      "\n",
      "See the caveats in the documentation: https://pandas.pydata.org/pandas-docs/stable/user_guide/indexing.html#returning-a-view-versus-a-copy\n",
      "  self.obj[item] = s\n"
     ]
    }
   ],
   "source": [
    "air_transport_recent.loc[:, \"Month-Year\"] = air_transport_recent.loc[:, \"Month\"].astype(str) + '-' + air_transport_recent.loc[:, \"Year\"].astype(str) \n",
    "#air_transport_recent.set_index(\"Month-Year\", inplace = True)"
   ]
  },
  {
   "cell_type": "code",
   "execution_count": 20,
   "metadata": {},
   "outputs": [],
   "source": [
    "#take out any commas in the data\n",
    "air_transport_recent.loc[:, 'airline_international'] = air_transport_recent.loc[:, 'airline_international'].astype(str)\n",
    "air_transport_recent.loc[:, 'airline_international'] = [float(s.replace(',','')) for s in air_transport_recent.loc[:, 'airline_international']]\n",
    "#air_transport_recent.loc[:, 'airline_international'] = air_transport_recent.loc[:, 'airline_international'].astype(float)\n",
    "\n",
    "air_transport_recent.loc[:, 'airline_domestic'] = air_transport_recent.loc[:,'airline_domestic'].astype(str)\n",
    "air_transport_recent.loc[:, 'airline_domestic'] = [float(s.replace(',','')) for s in air_transport_recent.loc[:, 'airline_domestic']]\n",
    "#air_transport_recent.loc[:, 'airline_domestic'] = air_transport_recent.loc[:,'airline_domestic'].astype(float)\n",
    "\n",
    "air_transport_recent.loc[:, 'airline_total'] = air_transport_recent.loc[:,'airline_total'].astype(str)\n",
    "air_transport_recent.loc[:, 'airline_total'] = [float(s.replace(',','')) for s in air_transport_recent.loc[:, 'airline_total']]\n",
    "#air_transport_recent.loc[:, 'airline_total'] = air_transport_recent.loc[:,'airline_total'].astype(float)\n",
    "\n"
   ]
  },
  {
   "cell_type": "code",
   "execution_count": 21,
   "metadata": {},
   "outputs": [
    {
     "data": {
      "text/html": [
       "<div>\n",
       "<style scoped>\n",
       "    .dataframe tbody tr th:only-of-type {\n",
       "        vertical-align: middle;\n",
       "    }\n",
       "\n",
       "    .dataframe tbody tr th {\n",
       "        vertical-align: top;\n",
       "    }\n",
       "\n",
       "    .dataframe thead th {\n",
       "        text-align: right;\n",
       "    }\n",
       "</style>\n",
       "<table border=\"1\" class=\"dataframe\">\n",
       "  <thead>\n",
       "    <tr style=\"text-align: right;\">\n",
       "      <th></th>\n",
       "      <th>Month</th>\n",
       "      <th>Year</th>\n",
       "      <th>airline_total</th>\n",
       "      <th>airline_international</th>\n",
       "      <th>airline_domestic</th>\n",
       "      <th>Month-Year</th>\n",
       "    </tr>\n",
       "  </thead>\n",
       "  <tbody>\n",
       "    <tr>\n",
       "      <th>840</th>\n",
       "      <td>1</td>\n",
       "      <td>2017</td>\n",
       "      <td>62620000.0</td>\n",
       "      <td>8510000.0</td>\n",
       "      <td>54110000.0</td>\n",
       "      <td>1-2017</td>\n",
       "    </tr>\n",
       "    <tr>\n",
       "      <th>841</th>\n",
       "      <td>2</td>\n",
       "      <td>2017</td>\n",
       "      <td>58380000.0</td>\n",
       "      <td>7300000.0</td>\n",
       "      <td>51080000.0</td>\n",
       "      <td>2-2017</td>\n",
       "    </tr>\n",
       "    <tr>\n",
       "      <th>842</th>\n",
       "      <td>3</td>\n",
       "      <td>2017</td>\n",
       "      <td>72960000.0</td>\n",
       "      <td>9000000.0</td>\n",
       "      <td>63960000.0</td>\n",
       "      <td>3-2017</td>\n",
       "    </tr>\n",
       "    <tr>\n",
       "      <th>843</th>\n",
       "      <td>4</td>\n",
       "      <td>2017</td>\n",
       "      <td>70260000.0</td>\n",
       "      <td>9160000.0</td>\n",
       "      <td>61100000.0</td>\n",
       "      <td>4-2017</td>\n",
       "    </tr>\n",
       "    <tr>\n",
       "      <th>844</th>\n",
       "      <td>5</td>\n",
       "      <td>2017</td>\n",
       "      <td>73680000.0</td>\n",
       "      <td>9240000.0</td>\n",
       "      <td>64440000.0</td>\n",
       "      <td>5-2017</td>\n",
       "    </tr>\n",
       "  </tbody>\n",
       "</table>\n",
       "</div>"
      ],
      "text/plain": [
       "     Month  Year  airline_total  airline_international  airline_domestic  \\\n",
       "840      1  2017     62620000.0              8510000.0        54110000.0   \n",
       "841      2  2017     58380000.0              7300000.0        51080000.0   \n",
       "842      3  2017     72960000.0              9000000.0        63960000.0   \n",
       "843      4  2017     70260000.0              9160000.0        61100000.0   \n",
       "844      5  2017     73680000.0              9240000.0        64440000.0   \n",
       "\n",
       "    Month-Year  \n",
       "840     1-2017  \n",
       "841     2-2017  \n",
       "842     3-2017  \n",
       "843     4-2017  \n",
       "844     5-2017  "
      ]
     },
     "execution_count": 21,
     "metadata": {},
     "output_type": "execute_result"
    }
   ],
   "source": [
    "air_transport_recent.head()"
   ]
  },
  {
   "cell_type": "markdown",
   "metadata": {},
   "source": [
    "Let's look at the total non seasonally adjusted data by month \n"
   ]
  },
  {
   "cell_type": "code",
   "execution_count": 22,
   "metadata": {},
   "outputs": [
    {
     "data": {
      "image/png": "[encoded data removed]",
      "text/plain": [
       "<Figure size 1800x360 with 1 Axes>"
      ]
     },
     "metadata": {
      "needs_background": "light"
     },
     "output_type": "display_data"
    }
   ],
   "source": [
    "plt.figure(figsize=(25, 5))\n",
    "plt.plot(air_transport_recent[\"airline_total\"])\n",
    "\n",
    "plt.show()"
   ]
  },
  {
   "cell_type": "markdown",
   "metadata": {},
   "source": [
    "Next I add the CO2 data to see if it is correlated "
   ]
  },
  {
   "cell_type": "markdown",
   "metadata": {},
   "source": [
    "READ IN THE NATIONWIDE CO2 DATA"
   ]
  },
  {
   "cell_type": "code",
   "execution_count": 23,
   "metadata": {},
   "outputs": [
    {
     "data": {
      "text/html": [
       "<div>\n",
       "<style scoped>\n",
       "    .dataframe tbody tr th:only-of-type {\n",
       "        vertical-align: middle;\n",
       "    }\n",
       "\n",
       "    .dataframe tbody tr th {\n",
       "        vertical-align: top;\n",
       "    }\n",
       "\n",
       "    .dataframe thead th {\n",
       "        text-align: right;\n",
       "    }\n",
       "</style>\n",
       "<table border=\"1\" class=\"dataframe\">\n",
       "  <thead>\n",
       "    <tr style=\"text-align: right;\">\n",
       "      <th></th>\n",
       "      <th>year</th>\n",
       "      <th>month</th>\n",
       "      <th>decimaldate</th>\n",
       "      <th>average</th>\n",
       "      <th>interpolated</th>\n",
       "      <th>trend</th>\n",
       "      <th>days</th>\n",
       "    </tr>\n",
       "  </thead>\n",
       "  <tbody>\n",
       "    <tr>\n",
       "      <th>0</th>\n",
       "      <td>1958</td>\n",
       "      <td>3</td>\n",
       "      <td>1,958,208</td>\n",
       "      <td>315.71</td>\n",
       "      <td>315.71</td>\n",
       "      <td>314.62</td>\n",
       "      <td>-1</td>\n",
       "    </tr>\n",
       "    <tr>\n",
       "      <th>1</th>\n",
       "      <td>1958</td>\n",
       "      <td>4</td>\n",
       "      <td>1,958,292</td>\n",
       "      <td>317.45</td>\n",
       "      <td>317.45</td>\n",
       "      <td>315.29</td>\n",
       "      <td>-1</td>\n",
       "    </tr>\n",
       "    <tr>\n",
       "      <th>2</th>\n",
       "      <td>1958</td>\n",
       "      <td>5</td>\n",
       "      <td>1,958,375</td>\n",
       "      <td>317.50</td>\n",
       "      <td>317.50</td>\n",
       "      <td>314.71</td>\n",
       "      <td>-1</td>\n",
       "    </tr>\n",
       "    <tr>\n",
       "      <th>3</th>\n",
       "      <td>1958</td>\n",
       "      <td>6</td>\n",
       "      <td>1,958,458</td>\n",
       "      <td>-99.99</td>\n",
       "      <td>317.10</td>\n",
       "      <td>314.85</td>\n",
       "      <td>-1</td>\n",
       "    </tr>\n",
       "    <tr>\n",
       "      <th>4</th>\n",
       "      <td>1958</td>\n",
       "      <td>7</td>\n",
       "      <td>1,958,542</td>\n",
       "      <td>315.86</td>\n",
       "      <td>315.86</td>\n",
       "      <td>314.98</td>\n",
       "      <td>-1</td>\n",
       "    </tr>\n",
       "  </tbody>\n",
       "</table>\n",
       "</div>"
      ],
      "text/plain": [
       "   year  month decimaldate  average  interpolated   trend days\n",
       "0  1958      3   1,958,208   315.71        315.71  314.62   -1\n",
       "1  1958      4   1,958,292   317.45        317.45  315.29   -1\n",
       "2  1958      5   1,958,375   317.50        317.50  314.71   -1\n",
       "3  1958      6   1,958,458   -99.99        317.10  314.85   -1\n",
       "4  1958      7   1,958,542   315.86        315.86  314.98   -1"
      ]
     },
     "execution_count": 23,
     "metadata": {},
     "output_type": "execute_result"
    }
   ],
   "source": [
    "country_CO2_df = pd.read_csv(r'.\\\\data\\NOAACO2.csv')\n",
    "#The last row is all NUll\n",
    "country_CO2_df.drop(index = 750, inplace = True)\n",
    "#The days column all have a slash at the end - we will take that off of there\n",
    "country_CO2_df[\"days\"] = [country_CO2_df.loc[row, \"days\"][0:2] for row in range(len(country_CO2_df))]\n",
    "country_CO2_df[\"month\"] = country_CO2_df[\"month\"].astype(int)\n",
    "country_CO2_df[\"average\"] = country_CO2_df[\"average\"].astype(float)\n",
    "country_CO2_df.head()"
   ]
  },
  {
   "cell_type": "code",
   "execution_count": 24,
   "metadata": {},
   "outputs": [],
   "source": [
    "#add a column that combines the month and year and set that as the index \n",
    "country_CO2_df[\"Month-Year\"] = [str(country_CO2_df.loc[row, \"month\"]) + '-' + country_CO2_df.loc[row, \"year\"] for row in range(len(country_CO2_df))]\n",
    "\n",
    "recent_CO2_us = country_CO2_df[country_CO2_df[\"year\"].astype(int) >= 2017]\n",
    "#recent_CO2_us.set_index(\"Month-Year\", inplace = True)"
   ]
  },
  {
   "cell_type": "code",
   "execution_count": 25,
   "metadata": {},
   "outputs": [
    {
     "data": {
      "image/png": "[encoded data removed]",
      "text/plain": [
       "<Figure size 1440x720 with 2 Axes>"
      ]
     },
     "metadata": {
      "needs_background": "light"
     },
     "output_type": "display_data"
    }
   ],
   "source": [
    "#Plot the CO2 and transportation data together\n",
    "figure, axis_1 = plt.subplots(figsize=(20,10))\n",
    "axis_1.plot(recent_CO2_us[\"Month-Year\"], recent_CO2_us[\"average\"], color = \"blue\", label = 'CO2 emissions')\n",
    "axis_2 = axis_1.twinx()\n",
    "axis_2.plot(air_transport_recent[\"Month-Year\"], air_transport_recent[\"airline_total\"], color = \"orange\", label = 'air travel')\n",
    "\n",
    "#get every third month so our x axis isnt cluttered\n",
    "every_third = np.arange(0, len(recent_CO2_us), 3)\n",
    "months = list(recent_CO2_us['Month-Year'])\n",
    "every_third_month = [months[x] for x in every_third]\n",
    "\n",
    "axis_1.set_title('Air Transport and Nation-wide CO2 Emissions Over Time')\n",
    "axis_1.set_xlabel('time')\n",
    "axis_1.set_ylabel('monthly mean CO2 mole fraction')\n",
    "axis_2.set_ylabel('total airline passengers')\n",
    "\n",
    "#Set the x ticks to every third value\n",
    "plt.xticks(every_third_month)\n",
    "\n",
    "#Plot the legened\n",
    "lines_1, labels_1 = axis_1.get_legend_handles_labels()\n",
    "lines_2, labels_2 = axis_2.get_legend_handles_labels()\n",
    "\n",
    "lines = lines_1 + lines_2\n",
    "labels = labels_1 + labels_2\n",
    "\n",
    "axis_1.legend(lines, labels, loc=0)\n",
    "\n",
    "plt.show()"
   ]
  },
  {
   "cell_type": "markdown",
   "metadata": {},
   "source": [
    "That doesn't make much sense! I wonder if we would see some more correlation with car traffic... let's look"
   ]
  },
  {
   "cell_type": "code",
   "execution_count": 26,
   "metadata": {},
   "outputs": [],
   "source": [
    "highway_miles_df = transportation_df.loc[:, [\"Month\", \"Year\", \"Highway Vehicle Miles Traveled - All Systems\"]]\n",
    "highway_miles_df = highway_miles_df.rename(columns = {\"Highway Vehicle Miles Traveled - All Systems\" : \"highway_miles\"})\n",
    "#fill na values\n",
    "highway_miles_df = highway_miles_df.fillna(0)\n",
    "#make a column with the month and year just like we did above\n",
    "highway_miles_df.loc[:, \"Month-Year\"] = highway_miles_df.loc[:, \"Month\"].astype(str) + '-' + highway_miles_df.loc[:, \"Year\"].astype(str) \n"
   ]
  },
  {
   "cell_type": "code",
   "execution_count": 27,
   "metadata": {},
   "outputs": [
    {
     "name": "stderr",
     "output_type": "stream",
     "text": [
      "C:\\Users\\baile\\anaconda3\\lib\\site-packages\\pandas\\core\\indexing.py:966: SettingWithCopyWarning: \n",
      "A value is trying to be set on a copy of a slice from a DataFrame.\n",
      "Try using .loc[row_indexer,col_indexer] = value instead\n",
      "\n",
      "See the caveats in the documentation: https://pandas.pydata.org/pandas-docs/stable/user_guide/indexing.html#returning-a-view-versus-a-copy\n",
      "  self.obj[item] = s\n"
     ]
    }
   ],
   "source": [
    "#many of the rows have null values in the miles column.... we only want the ones with values\n",
    "highway_recorded = highway_miles_df[highway_miles_df['highway_miles'] != 0]\n",
    "#highway_recorded.set_index('Month-Year', inplace = True)\n",
    "#Take out the commas from the mileage values\n",
    "highway_recorded.loc[:, 'highway_miles'] = [float(s.replace(',','')) for s in highway_recorded.loc[:, 'highway_miles']]\n"
   ]
  },
  {
   "cell_type": "code",
   "execution_count": 28,
   "metadata": {},
   "outputs": [
    {
     "data": {
      "text/plain": [
       "[<matplotlib.lines.Line2D at 0x1d4ba3377f0>]"
      ]
     },
     "execution_count": 28,
     "metadata": {},
     "output_type": "execute_result"
    },
    {
     "data": {
      "image/png": "[encoded data removed]",
      "text/plain": [
       "<Figure size 1440x720 with 1 Axes>"
      ]
     },
     "metadata": {
      "needs_background": "light"
     },
     "output_type": "display_data"
    }
   ],
   "source": [
    "#plot the highway data\n",
    "figure, highway = plt.subplots(figsize=(20,10))\n",
    "highway.plot(highway_recorded[\"highway_miles\"], color = \"blue\", label = 'Highway Miles - All Systems')\n"
   ]
  },
  {
   "cell_type": "code",
   "execution_count": 29,
   "metadata": {},
   "outputs": [],
   "source": [
    "#our highway data only goes back to 2018, so we will use CO2 data that starts there as well\n",
    "CO2_2018 = recent_CO2_us[recent_CO2_us['year'].astype(int) >= 2018]"
   ]
  },
  {
   "cell_type": "code",
   "execution_count": 30,
   "metadata": {},
   "outputs": [
    {
     "data": {
      "image/png": "[encoded data removed]",
      "text/plain": [
       "<Figure size 1440x720 with 2 Axes>"
      ]
     },
     "metadata": {
      "needs_background": "light"
     },
     "output_type": "display_data"
    }
   ],
   "source": [
    "#Plot the CO2 and highway data together\n",
    "figure2, highway_graph = plt.subplots(figsize=(20,10))\n",
    "highway_graph.plot(highway_recorded['Month-Year'], highway_recorded['highway_miles'], color = \"orange\", label = 'Highway Miles Traveled')\n",
    "CO2_graph = highway_graph.twinx()\n",
    "CO2_graph.plot(CO2_2018['Month-Year'], CO2_2018[\"average\"], color = \"blue\", label = 'CO2 emissions')\n",
    "\n",
    "#get every third month so our x axis isnt cluttered\n",
    "every_third_2018 = np.arange(0, len(CO2_2018), 3)\n",
    "months_2018_on = list(CO2_2018['Month-Year'])\n",
    "every_third_month_2018 = [months_2018_on[x] for x in every_third_2018]\n",
    "\n",
    "highway_graph.set_title('Highway Miles Traveled and Nation-wide CO2 Emissions Over Time')\n",
    "highway_graph.set_xlabel('time')\n",
    "CO2_graph.set_ylabel('monthly mean CO2 mole fraction')\n",
    "highway_graph.set_ylabel('highway miles traveled')\n",
    "\n",
    "#Set the x ticks to every third value\n",
    "plt.xticks(every_third_month)\n",
    "\n",
    "#Plot the legened\n",
    "highway_lines, highway_labels = highway_graph.get_legend_handles_labels()\n",
    "CO2_lines, CO2_labels = CO2_graph.get_legend_handles_labels()\n",
    "\n",
    "highway_CO2_lines = highway_lines + CO2_lines\n",
    "highway_CO2_labels = highway_labels + CO2_labels\n",
    "\n",
    "highway_graph.legend(highway_CO2_lines, highway_CO2_labels, loc=0)\n",
    "\n",
    "plt.show()"
   ]
  },
  {
   "cell_type": "markdown",
   "metadata": {},
   "source": [
    "Let's confirm that the State-level data follows the same trends as the data observed in Hawaii from the NASA observatory\n",
    "(https://climate.nasa.gov/vital-signs/carbon-dioxide/)"
   ]
  },
  {
   "cell_type": "markdown",
   "metadata": {},
   "source": [
    "I will aggregate the state-level CO2 data to observe that"
   ]
  },
  {
   "cell_type": "code",
   "execution_count": 31,
   "metadata": {},
   "outputs": [],
   "source": [
    "state_CO2 = pd.read_excel(\"./data/raw_data/total_CO2_emissions.xlsx\")"
   ]
  },
  {
   "cell_type": "code",
   "execution_count": 32,
   "metadata": {},
   "outputs": [],
   "source": [
    "new_header = state_CO2.iloc[3] #grab the first row for the header\n",
    "state_CO2 = state_CO2[4:] #take the data less the header row\n",
    "state_CO2.columns = new_header #set the header row as the df header\n",
    "state_CO2.set_index('State', inplace = True)"
   ]
  },
  {
   "cell_type": "markdown",
   "metadata": {},
   "source": [
    "Let's flip the dataframe so that we can see the total emissions over the years in a column"
   ]
  },
  {
   "cell_type": "code",
   "execution_count": 33,
   "metadata": {},
   "outputs": [
    {
     "data": {
      "text/html": [
       "<div>\n",
       "<style scoped>\n",
       "    .dataframe tbody tr th:only-of-type {\n",
       "        vertical-align: middle;\n",
       "    }\n",
       "\n",
       "    .dataframe tbody tr th {\n",
       "        vertical-align: top;\n",
       "    }\n",
       "\n",
       "    .dataframe thead th {\n",
       "        text-align: right;\n",
       "    }\n",
       "</style>\n",
       "<table border=\"1\" class=\"dataframe\">\n",
       "  <thead>\n",
       "    <tr style=\"text-align: right;\">\n",
       "      <th>State</th>\n",
       "      <th>Alabama</th>\n",
       "      <th>Alaska</th>\n",
       "      <th>Arizona</th>\n",
       "      <th>Arkansas</th>\n",
       "      <th>California</th>\n",
       "      <th>Colorado</th>\n",
       "      <th>Connecticut</th>\n",
       "      <th>Delaware</th>\n",
       "      <th>District of Columbia</th>\n",
       "      <th>Florida</th>\n",
       "      <th>...</th>\n",
       "      <th>Wisconsin</th>\n",
       "      <th>Wyoming</th>\n",
       "      <th>Total of states (unadjusted)¹</th>\n",
       "      <th>Adjustment to match United States</th>\n",
       "      <th>United States</th>\n",
       "      <th>NaN</th>\n",
       "      <th>Sources:  U.S. Energy Information Administration (EIA), State Energy Data System and EIA calculations made for this table.  United States national-level total, EIA Monthly Energy Review, July 2019 Section 11.</th>\n",
       "      <th>Note:  The District of Columbia is included in the data tables, but not in the analysis as it is not a state.</th>\n",
       "      <th>¹State values in this table are unadjusted.</th>\n",
       "      <th>The adjustment factor is allocated to each state by the share of that state’s emissions of the national total. See Table 2. for the adjusted state values.</th>\n",
       "    </tr>\n",
       "    <tr>\n",
       "      <th>3</th>\n",
       "      <th></th>\n",
       "      <th></th>\n",
       "      <th></th>\n",
       "      <th></th>\n",
       "      <th></th>\n",
       "      <th></th>\n",
       "      <th></th>\n",
       "      <th></th>\n",
       "      <th></th>\n",
       "      <th></th>\n",
       "      <th></th>\n",
       "      <th></th>\n",
       "      <th></th>\n",
       "      <th></th>\n",
       "      <th></th>\n",
       "      <th></th>\n",
       "      <th></th>\n",
       "      <th></th>\n",
       "      <th></th>\n",
       "      <th></th>\n",
       "      <th></th>\n",
       "    </tr>\n",
       "  </thead>\n",
       "  <tbody>\n",
       "    <tr>\n",
       "      <th>1990.0</th>\n",
       "      <td>110.01</td>\n",
       "      <td>34.54</td>\n",
       "      <td>62.88</td>\n",
       "      <td>50.92</td>\n",
       "      <td>357.64</td>\n",
       "      <td>66.02</td>\n",
       "      <td>40.71</td>\n",
       "      <td>16.67</td>\n",
       "      <td>4.45</td>\n",
       "      <td>188.32</td>\n",
       "      <td>...</td>\n",
       "      <td>85.67</td>\n",
       "      <td>56.87</td>\n",
       "      <td>5053.7</td>\n",
       "      <td>-14.9214</td>\n",
       "      <td>5038.78</td>\n",
       "      <td>NaN</td>\n",
       "      <td>NaN</td>\n",
       "      <td>NaN</td>\n",
       "      <td>NaN</td>\n",
       "      <td>NaN</td>\n",
       "    </tr>\n",
       "    <tr>\n",
       "      <th>1991.0</th>\n",
       "      <td>114.39</td>\n",
       "      <td>35.16</td>\n",
       "      <td>63.79</td>\n",
       "      <td>49.84</td>\n",
       "      <td>345.31</td>\n",
       "      <td>67.29</td>\n",
       "      <td>39.89</td>\n",
       "      <td>17.46</td>\n",
       "      <td>4.39</td>\n",
       "      <td>189.52</td>\n",
       "      <td>...</td>\n",
       "      <td>87.99</td>\n",
       "      <td>55.19</td>\n",
       "      <td>5010.59</td>\n",
       "      <td>-16.8508</td>\n",
       "      <td>4993.74</td>\n",
       "      <td>NaN</td>\n",
       "      <td>NaN</td>\n",
       "      <td>NaN</td>\n",
       "      <td>NaN</td>\n",
       "      <td>NaN</td>\n",
       "    </tr>\n",
       "    <tr>\n",
       "      <th>1992.0</th>\n",
       "      <td>121.04</td>\n",
       "      <td>36.58</td>\n",
       "      <td>66.61</td>\n",
       "      <td>51.45</td>\n",
       "      <td>349.49</td>\n",
       "      <td>68.27</td>\n",
       "      <td>40.18</td>\n",
       "      <td>16.29</td>\n",
       "      <td>4.36</td>\n",
       "      <td>191.85</td>\n",
       "      <td>...</td>\n",
       "      <td>87.08</td>\n",
       "      <td>60.89</td>\n",
       "      <td>5092.69</td>\n",
       "      <td>-0.968338</td>\n",
       "      <td>5091.72</td>\n",
       "      <td>NaN</td>\n",
       "      <td>NaN</td>\n",
       "      <td>NaN</td>\n",
       "      <td>NaN</td>\n",
       "      <td>NaN</td>\n",
       "    </tr>\n",
       "    <tr>\n",
       "      <th>1993.0</th>\n",
       "      <td>125.63</td>\n",
       "      <td>36.43</td>\n",
       "      <td>68.85</td>\n",
       "      <td>50.52</td>\n",
       "      <td>338.89</td>\n",
       "      <td>71.98</td>\n",
       "      <td>38.19</td>\n",
       "      <td>17.73</td>\n",
       "      <td>4.54</td>\n",
       "      <td>194.93</td>\n",
       "      <td>...</td>\n",
       "      <td>90.23</td>\n",
       "      <td>57.92</td>\n",
       "      <td>5198.56</td>\n",
       "      <td>-15.9524</td>\n",
       "      <td>5182.61</td>\n",
       "      <td>NaN</td>\n",
       "      <td>NaN</td>\n",
       "      <td>NaN</td>\n",
       "      <td>NaN</td>\n",
       "      <td>NaN</td>\n",
       "    </tr>\n",
       "    <tr>\n",
       "      <th>1994.0</th>\n",
       "      <td>123.56</td>\n",
       "      <td>36.26</td>\n",
       "      <td>71.56</td>\n",
       "      <td>54.41</td>\n",
       "      <td>354.9</td>\n",
       "      <td>72.39</td>\n",
       "      <td>37.46</td>\n",
       "      <td>17.05</td>\n",
       "      <td>4.51</td>\n",
       "      <td>202.26</td>\n",
       "      <td>...</td>\n",
       "      <td>93.37</td>\n",
       "      <td>60.11</td>\n",
       "      <td>5275.25</td>\n",
       "      <td>-15.3389</td>\n",
       "      <td>5259.91</td>\n",
       "      <td>NaN</td>\n",
       "      <td>NaN</td>\n",
       "      <td>NaN</td>\n",
       "      <td>NaN</td>\n",
       "      <td>NaN</td>\n",
       "    </tr>\n",
       "  </tbody>\n",
       "</table>\n",
       "<p>5 rows × 59 columns</p>\n",
       "</div>"
      ],
      "text/plain": [
       "State  Alabama Alaska Arizona Arkansas California Colorado Connecticut  \\\n",
       "3                                                                        \n",
       "1990.0  110.01  34.54   62.88    50.92     357.64    66.02       40.71   \n",
       "1991.0  114.39  35.16   63.79    49.84     345.31    67.29       39.89   \n",
       "1992.0  121.04  36.58   66.61    51.45     349.49    68.27       40.18   \n",
       "1993.0  125.63  36.43   68.85    50.52     338.89    71.98       38.19   \n",
       "1994.0  123.56  36.26   71.56    54.41      354.9    72.39       37.46   \n",
       "\n",
       "State  Delaware District of Columbia Florida  ... Wisconsin Wyoming  \\\n",
       "3                                             ...                     \n",
       "1990.0    16.67                 4.45  188.32  ...     85.67   56.87   \n",
       "1991.0    17.46                 4.39  189.52  ...     87.99   55.19   \n",
       "1992.0    16.29                 4.36  191.85  ...     87.08   60.89   \n",
       "1993.0    17.73                 4.54  194.93  ...     90.23   57.92   \n",
       "1994.0    17.05                 4.51  202.26  ...     93.37   60.11   \n",
       "\n",
       "State  Total of states (unadjusted)¹ Adjustment to match United States  \\\n",
       "3                                                                        \n",
       "1990.0                        5053.7                          -14.9214   \n",
       "1991.0                       5010.59                          -16.8508   \n",
       "1992.0                       5092.69                         -0.968338   \n",
       "1993.0                       5198.56                          -15.9524   \n",
       "1994.0                       5275.25                          -15.3389   \n",
       "\n",
       "State  United States  NaN  \\\n",
       "3                           \n",
       "1990.0       5038.78  NaN   \n",
       "1991.0       4993.74  NaN   \n",
       "1992.0       5091.72  NaN   \n",
       "1993.0       5182.61  NaN   \n",
       "1994.0       5259.91  NaN   \n",
       "\n",
       "State  Sources:  U.S. Energy Information Administration (EIA), State Energy Data System and EIA calculations made for this table.  United States national-level total, EIA Monthly Energy Review, July 2019 Section 11.  \\\n",
       "3                                                                                                                                                                                                                         \n",
       "1990.0                                                NaN                                                                                                                                                                 \n",
       "1991.0                                                NaN                                                                                                                                                                 \n",
       "1992.0                                                NaN                                                                                                                                                                 \n",
       "1993.0                                                NaN                                                                                                                                                                 \n",
       "1994.0                                                NaN                                                                                                                                                                 \n",
       "\n",
       "State  Note:  The District of Columbia is included in the data tables, but not in the analysis as it is not a state.  \\\n",
       "3                                                                                                                      \n",
       "1990.0                                                NaN                                                              \n",
       "1991.0                                                NaN                                                              \n",
       "1992.0                                                NaN                                                              \n",
       "1993.0                                                NaN                                                              \n",
       "1994.0                                                NaN                                                              \n",
       "\n",
       "State  ¹State values in this table are unadjusted.  \\\n",
       "3                                                    \n",
       "1990.0                                         NaN   \n",
       "1991.0                                         NaN   \n",
       "1992.0                                         NaN   \n",
       "1993.0                                         NaN   \n",
       "1994.0                                         NaN   \n",
       "\n",
       "State  The adjustment factor is allocated to each state by the share of that state’s emissions of the national total. See Table 2. for the adjusted state values.  \n",
       "3                                                                                                                                                                  \n",
       "1990.0                                                NaN                                                                                                          \n",
       "1991.0                                                NaN                                                                                                          \n",
       "1992.0                                                NaN                                                                                                          \n",
       "1993.0                                                NaN                                                                                                          \n",
       "1994.0                                                NaN                                                                                                          \n",
       "\n",
       "[5 rows x 59 columns]"
      ]
     },
     "execution_count": 33,
     "metadata": {},
     "output_type": "execute_result"
    }
   ],
   "source": [
    "state_CO2_flip = state_CO2.transpose()\n",
    "state_CO2_flip.head()"
   ]
  },
  {
   "cell_type": "markdown",
   "metadata": {},
   "source": [
    "Clean the data for visualization"
   ]
  },
  {
   "cell_type": "code",
   "execution_count": 34,
   "metadata": {},
   "outputs": [],
   "source": [
    "#only select the columns that we are interested in - the total US CO2 emissions\n",
    "state_CO2_plot = state_CO2_flip.loc[:, ['Total of states (unadjusted)¹', 'United States']]\n",
    "#drop their calculated columns\n",
    "state_CO2_plot.drop(index = 'Percent', inplace = True)\n",
    "state_CO2_plot.drop(index = 'Absolute', inplace = True)\n",
    "state_CO2_plot.reset_index(inplace = True)\n",
    "state_CO2_plot = state_CO2_plot.rename(columns = {3 : 'Year'})"
   ]
  },
  {
   "cell_type": "code",
   "execution_count": 35,
   "metadata": {},
   "outputs": [
    {
     "data": {
      "text/plain": [
       "[<matplotlib.lines.Line2D at 0x1d4bab173a0>]"
      ]
     },
     "execution_count": 35,
     "metadata": {},
     "output_type": "execute_result"
    },
    {
     "data": {
      "image/png": "[encoded data removed]",
      "text/plain": [
       "<Figure size 432x288 with 1 Axes>"
      ]
     },
     "metadata": {
      "needs_background": "light"
     },
     "output_type": "display_data"
    }
   ],
   "source": [
    "#Plot the CO2 levels aggregated to the entire country\n",
    "plt.plot(state_CO2_plot['Year'], state_CO2_plot['United States'].astype(float))"
   ]
  },
  {
   "cell_type": "markdown",
   "metadata": {},
   "source": [
    "Let's confirm that our CO2 data aggregated from the state-level data matches the trends of our NASA country-level data.  \n",
    "\n",
    "Because CO2 is not a regional pollutant, we expect that the trends of CO2 across the country should follow a similar trend to those observed in the single location (Hawaii, from NASA data)"
   ]
  },
  {
   "cell_type": "code",
   "execution_count": 36,
   "metadata": {},
   "outputs": [],
   "source": [
    "#Since the NASA data is monthly, we will group by the year\n",
    "CO2_NASA_compare_df = country_CO2_df.groupby('year').mean()\n",
    "#reset the index\n",
    "CO2_NASA_compare_df.reset_index(inplace = True)\n",
    "#make the years match up\n",
    "CO2_NASA_compare_df = CO2_NASA_compare_df[CO2_NASA_compare_df['year'].astype(int) >= 1990]\n",
    "CO2_NASA_compare_df = CO2_NASA_compare_df[CO2_NASA_compare_df['year'].astype(int) <= 2011]"
   ]
  },
  {
   "cell_type": "code",
   "execution_count": 37,
   "metadata": {},
   "outputs": [
    {
     "data": {
      "text/plain": [
       "<matplotlib.legend.Legend at 0x1d4bab28d00>"
      ]
     },
     "execution_count": 37,
     "metadata": {},
     "output_type": "execute_result"
    },
    {
     "data": {
      "image/png": "[encoded data removed]",
      "text/plain": [
       "<Figure size 1440x720 with 2 Axes>"
      ]
     },
     "metadata": {
      "needs_background": "light"
     },
     "output_type": "display_data"
    }
   ],
   "source": [
    "figure4, CO2_graph_compare = plt.subplots(figsize=(20,10))\n",
    "\n",
    "CO2_graph_compare.plot(state_CO2_plot['Year'].astype(str), state_CO2_plot['United States'].astype(float), label = \"average of states\", color = \"blue\")\n",
    "CO2_graph_compare2 = CO2_graph_compare.twinx()\n",
    "CO2_graph_compare2.plot(CO2_NASA_compare_df['year'].astype(int).astype(str), CO2_NASA_compare_df['average'].astype(float), label = \"national\" , color = \"orange\")\n",
    "\n",
    "\n",
    "CO2_graph_compare.set_title(\"CO2 levels from state-level and country-level data\")\n",
    "CO2_graph_compare.set_xlabel('Year')\n",
    "CO2_graph_compare.set_ylabel('million metric tons of energy-related CO2')\n",
    "CO2_graph_compare2.set_ylabel('annual mean CO2 mole fraction')\n",
    "\n",
    "#Plot the legend\n",
    "state_CO2_lines, state_CO2_labels = CO2_graph_compare.get_legend_handles_labels()\n",
    "state_CO2_lines_2, state_CO2_labels_2 = CO2_graph_compare2.get_legend_handles_labels()\n",
    "\n",
    "state_CO2_lines = state_CO2_lines + state_CO2_lines_2\n",
    "state_CO2_labels = state_CO2_labels + state_CO2_labels_2\n",
    "\n",
    "CO2_graph_compare.legend(state_CO2_lines, state_CO2_labels, loc= \"upper left\")\n"
   ]
  },
  {
   "cell_type": "markdown",
   "metadata": {},
   "source": [
    "Next, I will read in the transportation data from before 2009"
   ]
  },
  {
   "cell_type": "code",
   "execution_count": 38,
   "metadata": {},
   "outputs": [
    {
     "data": {
      "text/html": [
       "<div>\n",
       "<style scoped>\n",
       "    .dataframe tbody tr th:only-of-type {\n",
       "        vertical-align: middle;\n",
       "    }\n",
       "\n",
       "    .dataframe tbody tr th {\n",
       "        vertical-align: top;\n",
       "    }\n",
       "\n",
       "    .dataframe thead th {\n",
       "        text-align: right;\n",
       "    }\n",
       "</style>\n",
       "<table border=\"1\" class=\"dataframe\">\n",
       "  <thead>\n",
       "    <tr style=\"text-align: right;\">\n",
       "      <th></th>\n",
       "      <th>Table 1-37:  U.S. Air Carrier Aircraft Departures, Enplaned Revenue Passengers, and Enplaned Revenue Tons</th>\n",
       "      <th>Unnamed: 1</th>\n",
       "      <th>Unnamed: 2</th>\n",
       "      <th>Unnamed: 3</th>\n",
       "      <th>Unnamed: 4</th>\n",
       "      <th>Unnamed: 5</th>\n",
       "      <th>Unnamed: 6</th>\n",
       "      <th>Unnamed: 7</th>\n",
       "      <th>Unnamed: 8</th>\n",
       "      <th>Unnamed: 9</th>\n",
       "      <th>...</th>\n",
       "      <th>Unnamed: 24</th>\n",
       "      <th>Unnamed: 25</th>\n",
       "      <th>Unnamed: 26</th>\n",
       "      <th>Unnamed: 27</th>\n",
       "      <th>Unnamed: 28</th>\n",
       "      <th>Unnamed: 29</th>\n",
       "      <th>Unnamed: 30</th>\n",
       "      <th>Unnamed: 31</th>\n",
       "      <th>Unnamed: 32</th>\n",
       "      <th>Unnamed: 33</th>\n",
       "    </tr>\n",
       "  </thead>\n",
       "  <tbody>\n",
       "    <tr>\n",
       "      <th>0</th>\n",
       "      <td>NaN</td>\n",
       "      <td>1975</td>\n",
       "      <td>1980</td>\n",
       "      <td>1985</td>\n",
       "      <td>1990</td>\n",
       "      <td>1991</td>\n",
       "      <td>1992</td>\n",
       "      <td>1993</td>\n",
       "      <td>1994</td>\n",
       "      <td>1995</td>\n",
       "      <td>...</td>\n",
       "      <td>2010</td>\n",
       "      <td>2011</td>\n",
       "      <td>2012</td>\n",
       "      <td>2013</td>\n",
       "      <td>2014</td>\n",
       "      <td>2015</td>\n",
       "      <td>2016</td>\n",
       "      <td>2017</td>\n",
       "      <td>2018</td>\n",
       "      <td>2019</td>\n",
       "    </tr>\n",
       "    <tr>\n",
       "      <th>1</th>\n",
       "      <td>AIRCRAFT DEPARTURES</td>\n",
       "      <td>NaN</td>\n",
       "      <td>NaN</td>\n",
       "      <td>NaN</td>\n",
       "      <td>NaN</td>\n",
       "      <td>NaN</td>\n",
       "      <td>NaN</td>\n",
       "      <td>NaN</td>\n",
       "      <td>NaN</td>\n",
       "      <td>NaN</td>\n",
       "      <td>...</td>\n",
       "      <td>NaN</td>\n",
       "      <td>NaN</td>\n",
       "      <td>NaN</td>\n",
       "      <td>NaN</td>\n",
       "      <td>NaN</td>\n",
       "      <td>NaN</td>\n",
       "      <td>NaN</td>\n",
       "      <td>NaN</td>\n",
       "      <td>NaN</td>\n",
       "      <td>NaN</td>\n",
       "    </tr>\n",
       "    <tr>\n",
       "      <th>2</th>\n",
       "      <td>Total performeda</td>\n",
       "      <td>4,555,516</td>\n",
       "      <td>5,156,848</td>\n",
       "      <td>5,505,659</td>\n",
       "      <td>6,641,681</td>\n",
       "      <td>6,711,203</td>\n",
       "      <td>6,897,999</td>\n",
       "      <td>7,136,094</td>\n",
       "      <td>7,524,909</td>\n",
       "      <td>8,036,722</td>\n",
       "      <td>...</td>\n",
       "      <td>8,450,987</td>\n",
       "      <td>8,440,485</td>\n",
       "      <td>8,328,338</td>\n",
       "      <td>8,273,972</td>\n",
       "      <td>8,096,255</td>\n",
       "      <td>8,075,113</td>\n",
       "      <td>8,210,517</td>\n",
       "      <td>8,263,525</td>\n",
       "      <td>8,431,304</td>\n",
       "      <td>8,637,158</td>\n",
       "    </tr>\n",
       "    <tr>\n",
       "      <th>3</th>\n",
       "      <td>Total scheduled</td>\n",
       "      <td>4,530,535</td>\n",
       "      <td>5,204,564</td>\n",
       "      <td>5,591,596</td>\n",
       "      <td>6,758,571</td>\n",
       "      <td>6,606,020</td>\n",
       "      <td>6,798,947</td>\n",
       "      <td>6,996,178</td>\n",
       "      <td>7,364,626</td>\n",
       "      <td>7,925,838</td>\n",
       "      <td>...</td>\n",
       "      <td>8,515,359</td>\n",
       "      <td>8,473,404</td>\n",
       "      <td>8,271,104</td>\n",
       "      <td>8,262,781</td>\n",
       "      <td>8,144,034</td>\n",
       "      <td>8,095,087</td>\n",
       "      <td>8,199,224</td>\n",
       "      <td>8,279,271</td>\n",
       "      <td>8,399,298</td>\n",
       "      <td>8,597,750</td>\n",
       "    </tr>\n",
       "    <tr>\n",
       "      <th>4</th>\n",
       "      <td>Large hubs</td>\n",
       "      <td>NaN</td>\n",
       "      <td>NaN</td>\n",
       "      <td>NaN</td>\n",
       "      <td>NaN</td>\n",
       "      <td>NaN</td>\n",
       "      <td>NaN</td>\n",
       "      <td>NaN</td>\n",
       "      <td>NaN</td>\n",
       "      <td>NaN</td>\n",
       "      <td>...</td>\n",
       "      <td>NaN</td>\n",
       "      <td>NaN</td>\n",
       "      <td>NaN</td>\n",
       "      <td>NaN</td>\n",
       "      <td>NaN</td>\n",
       "      <td>NaN</td>\n",
       "      <td>NaN</td>\n",
       "      <td>NaN</td>\n",
       "      <td>NaN</td>\n",
       "      <td>NaN</td>\n",
       "    </tr>\n",
       "  </tbody>\n",
       "</table>\n",
       "<p>5 rows × 34 columns</p>\n",
       "</div>"
      ],
      "text/plain": [
       "  Table 1-37:  U.S. Air Carrier Aircraft Departures, Enplaned Revenue Passengers, and Enplaned Revenue Tons  \\\n",
       "0                                                NaN                                                          \n",
       "1                                AIRCRAFT DEPARTURES                                                          \n",
       "2                                   Total performeda                                                          \n",
       "3                                    Total scheduled                                                          \n",
       "4                                         Large hubs                                                          \n",
       "\n",
       "  Unnamed: 1 Unnamed: 2 Unnamed: 3 Unnamed: 4 Unnamed: 5 Unnamed: 6  \\\n",
       "0       1975       1980       1985       1990       1991       1992   \n",
       "1        NaN        NaN        NaN        NaN        NaN        NaN   \n",
       "2  4,555,516  5,156,848  5,505,659  6,641,681  6,711,203  6,897,999   \n",
       "3  4,530,535  5,204,564  5,591,596  6,758,571  6,606,020  6,798,947   \n",
       "4        NaN        NaN        NaN        NaN        NaN        NaN   \n",
       "\n",
       "  Unnamed: 7 Unnamed: 8 Unnamed: 9  ... Unnamed: 24 Unnamed: 25 Unnamed: 26  \\\n",
       "0       1993       1994       1995  ...        2010        2011        2012   \n",
       "1        NaN        NaN        NaN  ...         NaN         NaN         NaN   \n",
       "2  7,136,094  7,524,909  8,036,722  ...   8,450,987   8,440,485   8,328,338   \n",
       "3  6,996,178  7,364,626  7,925,838  ...   8,515,359   8,473,404   8,271,104   \n",
       "4        NaN        NaN        NaN  ...         NaN         NaN         NaN   \n",
       "\n",
       "  Unnamed: 27 Unnamed: 28 Unnamed: 29 Unnamed: 30 Unnamed: 31 Unnamed: 32  \\\n",
       "0        2013        2014        2015        2016        2017        2018   \n",
       "1         NaN         NaN         NaN         NaN         NaN         NaN   \n",
       "2   8,273,972   8,096,255   8,075,113   8,210,517   8,263,525   8,431,304   \n",
       "3   8,262,781   8,144,034   8,095,087   8,199,224   8,279,271   8,399,298   \n",
       "4         NaN         NaN         NaN         NaN         NaN         NaN   \n",
       "\n",
       "  Unnamed: 33  \n",
       "0        2019  \n",
       "1         NaN  \n",
       "2   8,637,158  \n",
       "3   8,597,750  \n",
       "4         NaN  \n",
       "\n",
       "[5 rows x 34 columns]"
      ]
     },
     "execution_count": 38,
     "metadata": {},
     "output_type": "execute_result"
    }
   ],
   "source": [
    "air_before_2019 = pd.read_csv(\"./data/raw_data/aircraft_data.csv\")\n",
    "air_before_2019.head()"
   ]
  },
  {
   "cell_type": "markdown",
   "metadata": {},
   "source": [
    "Clean the data"
   ]
  },
  {
   "cell_type": "code",
   "execution_count": 39,
   "metadata": {},
   "outputs": [],
   "source": [
    "#remove the null first row\n",
    "air_header = air_before_2019.iloc[0] #grab the first row for the header\n",
    "air_before_2019 = air_before_2019[1:] #take the data less the header row\n",
    "air_before_2019.columns = air_header #set the header row as the df header"
   ]
  },
  {
   "cell_type": "code",
   "execution_count": 40,
   "metadata": {},
   "outputs": [],
   "source": [
    "#flip the data so the years are each a row instead of columns\n",
    "air_data_flip = air_before_2019.transpose()\n",
    "air_flip_header = air_data_flip.iloc[0] #grab the first row for the header\n",
    "air_data_flip = air_data_flip[1:] #take the data less the header row\n",
    "air_data_flip.columns = air_flip_header #set the header row as the df header\n"
   ]
  },
  {
   "cell_type": "code",
   "execution_count": 41,
   "metadata": {},
   "outputs": [
    {
     "data": {
      "text/html": [
       "<div>\n",
       "<style scoped>\n",
       "    .dataframe tbody tr th:only-of-type {\n",
       "        vertical-align: middle;\n",
       "    }\n",
       "\n",
       "    .dataframe tbody tr th {\n",
       "        vertical-align: top;\n",
       "    }\n",
       "\n",
       "    .dataframe thead th {\n",
       "        text-align: right;\n",
       "    }\n",
       "</style>\n",
       "<table border=\"1\" class=\"dataframe\">\n",
       "  <thead>\n",
       "    <tr style=\"text-align: right;\">\n",
       "      <th>nan</th>\n",
       "      <th>AIRCRAFT DEPARTURES</th>\n",
       "      <th>Total performeda</th>\n",
       "      <th>Total scheduled</th>\n",
       "      <th>Large hubs</th>\n",
       "      <th>Performed</th>\n",
       "      <th>Scheduled</th>\n",
       "      <th>Medium hubs</th>\n",
       "      <th>Performed</th>\n",
       "      <th>Scheduled</th>\n",
       "      <th>Small hubs</th>\n",
       "      <th>...</th>\n",
       "      <th>SOURCES</th>\n",
       "      <th>Hub Classifications:</th>\n",
       "      <th>U.S. Department of Transportation, Federal Aviation Administration, Airport Categories, available at https://www.faa.gov/airports/planning_capacity/passenger_allcargo_stats/categories/ as of May 20, 2020.</th>\n",
       "      <th>Airport Data:</th>\n",
       "      <th>1975-90: U.S. Department of Transportation, Bureau of Transportation Statistics, Office of Airline Information, Airport Activity Statistics of Certified Route Air Carriers (Washington, DC: Annual issues), tables 2, 3, 4, and 5.</th>\n",
       "      <th>1991-2019: U.S. Department of Transportation,  Bureau of Transportation Statistics, Office of Airline Information, Airport Activity Statistics Database (Form 41 Schedule T-3), special tabulation, available at https://www.transtats.bts.gov/, as of May 20, 2020.</th>\n",
       "      <th>NaN</th>\n",
       "      <th>NaN</th>\n",
       "      <th>NaN</th>\n",
       "      <th>NaN</th>\n",
       "    </tr>\n",
       "    <tr>\n",
       "      <th>0</th>\n",
       "      <th></th>\n",
       "      <th></th>\n",
       "      <th></th>\n",
       "      <th></th>\n",
       "      <th></th>\n",
       "      <th></th>\n",
       "      <th></th>\n",
       "      <th></th>\n",
       "      <th></th>\n",
       "      <th></th>\n",
       "      <th></th>\n",
       "      <th></th>\n",
       "      <th></th>\n",
       "      <th></th>\n",
       "      <th></th>\n",
       "      <th></th>\n",
       "      <th></th>\n",
       "      <th></th>\n",
       "      <th></th>\n",
       "      <th></th>\n",
       "      <th></th>\n",
       "    </tr>\n",
       "  </thead>\n",
       "  <tbody>\n",
       "    <tr>\n",
       "      <th>1975</th>\n",
       "      <td>NaN</td>\n",
       "      <td>4,555,516</td>\n",
       "      <td>4,530,535</td>\n",
       "      <td>NaN</td>\n",
       "      <td>2,437,958</td>\n",
       "      <td>2,409,874</td>\n",
       "      <td>NaN</td>\n",
       "      <td>902,652</td>\n",
       "      <td>899,543</td>\n",
       "      <td>NaN</td>\n",
       "      <td>...</td>\n",
       "      <td>NaN</td>\n",
       "      <td>NaN</td>\n",
       "      <td>NaN</td>\n",
       "      <td>NaN</td>\n",
       "      <td>NaN</td>\n",
       "      <td>NaN</td>\n",
       "      <td>NaN</td>\n",
       "      <td>NaN</td>\n",
       "      <td>NaN</td>\n",
       "      <td>NaN</td>\n",
       "    </tr>\n",
       "    <tr>\n",
       "      <th>1980</th>\n",
       "      <td>NaN</td>\n",
       "      <td>5,156,848</td>\n",
       "      <td>5,204,564</td>\n",
       "      <td>NaN</td>\n",
       "      <td>2,887,239</td>\n",
       "      <td>2,905,923</td>\n",
       "      <td>NaN</td>\n",
       "      <td>1,048,726</td>\n",
       "      <td>1,058,438</td>\n",
       "      <td>NaN</td>\n",
       "      <td>...</td>\n",
       "      <td>NaN</td>\n",
       "      <td>NaN</td>\n",
       "      <td>NaN</td>\n",
       "      <td>NaN</td>\n",
       "      <td>NaN</td>\n",
       "      <td>NaN</td>\n",
       "      <td>NaN</td>\n",
       "      <td>NaN</td>\n",
       "      <td>NaN</td>\n",
       "      <td>NaN</td>\n",
       "    </tr>\n",
       "    <tr>\n",
       "      <th>1985</th>\n",
       "      <td>NaN</td>\n",
       "      <td>5,505,659</td>\n",
       "      <td>5,591,596</td>\n",
       "      <td>NaN</td>\n",
       "      <td>3,439,446</td>\n",
       "      <td>3,487,660</td>\n",
       "      <td>NaN</td>\n",
       "      <td>1,185,008</td>\n",
       "      <td>1,201,540</td>\n",
       "      <td>NaN</td>\n",
       "      <td>...</td>\n",
       "      <td>NaN</td>\n",
       "      <td>NaN</td>\n",
       "      <td>NaN</td>\n",
       "      <td>NaN</td>\n",
       "      <td>NaN</td>\n",
       "      <td>NaN</td>\n",
       "      <td>NaN</td>\n",
       "      <td>NaN</td>\n",
       "      <td>NaN</td>\n",
       "      <td>NaN</td>\n",
       "    </tr>\n",
       "    <tr>\n",
       "      <th>1990</th>\n",
       "      <td>NaN</td>\n",
       "      <td>6,641,681</td>\n",
       "      <td>6,758,571</td>\n",
       "      <td>NaN</td>\n",
       "      <td>4,167,868</td>\n",
       "      <td>4,237,466</td>\n",
       "      <td>NaN</td>\n",
       "      <td>1,394,833</td>\n",
       "      <td>1,417,762</td>\n",
       "      <td>NaN</td>\n",
       "      <td>...</td>\n",
       "      <td>NaN</td>\n",
       "      <td>NaN</td>\n",
       "      <td>NaN</td>\n",
       "      <td>NaN</td>\n",
       "      <td>NaN</td>\n",
       "      <td>NaN</td>\n",
       "      <td>NaN</td>\n",
       "      <td>NaN</td>\n",
       "      <td>NaN</td>\n",
       "      <td>NaN</td>\n",
       "    </tr>\n",
       "    <tr>\n",
       "      <th>1991</th>\n",
       "      <td>NaN</td>\n",
       "      <td>6,711,203</td>\n",
       "      <td>6,606,020</td>\n",
       "      <td>NaN</td>\n",
       "      <td>3,770,382</td>\n",
       "      <td>3,752,807</td>\n",
       "      <td>NaN</td>\n",
       "      <td>1,662,337</td>\n",
       "      <td>1,639,746</td>\n",
       "      <td>NaN</td>\n",
       "      <td>...</td>\n",
       "      <td>NaN</td>\n",
       "      <td>NaN</td>\n",
       "      <td>NaN</td>\n",
       "      <td>NaN</td>\n",
       "      <td>NaN</td>\n",
       "      <td>NaN</td>\n",
       "      <td>NaN</td>\n",
       "      <td>NaN</td>\n",
       "      <td>NaN</td>\n",
       "      <td>NaN</td>\n",
       "    </tr>\n",
       "    <tr>\n",
       "      <th>1992</th>\n",
       "      <td>NaN</td>\n",
       "      <td>6,897,999</td>\n",
       "      <td>6,798,947</td>\n",
       "      <td>NaN</td>\n",
       "      <td>3,840,689</td>\n",
       "      <td>3,836,074</td>\n",
       "      <td>NaN</td>\n",
       "      <td>1,690,788</td>\n",
       "      <td>1,658,960</td>\n",
       "      <td>NaN</td>\n",
       "      <td>...</td>\n",
       "      <td>NaN</td>\n",
       "      <td>NaN</td>\n",
       "      <td>NaN</td>\n",
       "      <td>NaN</td>\n",
       "      <td>NaN</td>\n",
       "      <td>NaN</td>\n",
       "      <td>NaN</td>\n",
       "      <td>NaN</td>\n",
       "      <td>NaN</td>\n",
       "      <td>NaN</td>\n",
       "    </tr>\n",
       "    <tr>\n",
       "      <th>1993</th>\n",
       "      <td>NaN</td>\n",
       "      <td>7,136,094</td>\n",
       "      <td>6,996,178</td>\n",
       "      <td>NaN</td>\n",
       "      <td>4,025,158</td>\n",
       "      <td>3,997,694</td>\n",
       "      <td>NaN</td>\n",
       "      <td>1,712,222</td>\n",
       "      <td>1,665,336</td>\n",
       "      <td>NaN</td>\n",
       "      <td>...</td>\n",
       "      <td>NaN</td>\n",
       "      <td>NaN</td>\n",
       "      <td>NaN</td>\n",
       "      <td>NaN</td>\n",
       "      <td>NaN</td>\n",
       "      <td>NaN</td>\n",
       "      <td>NaN</td>\n",
       "      <td>NaN</td>\n",
       "      <td>NaN</td>\n",
       "      <td>NaN</td>\n",
       "    </tr>\n",
       "    <tr>\n",
       "      <th>1994</th>\n",
       "      <td>NaN</td>\n",
       "      <td>7,524,909</td>\n",
       "      <td>7,364,626</td>\n",
       "      <td>NaN</td>\n",
       "      <td>4,357,314</td>\n",
       "      <td>4,324,739</td>\n",
       "      <td>NaN</td>\n",
       "      <td>1,852,968</td>\n",
       "      <td>1,775,896</td>\n",
       "      <td>NaN</td>\n",
       "      <td>...</td>\n",
       "      <td>NaN</td>\n",
       "      <td>NaN</td>\n",
       "      <td>NaN</td>\n",
       "      <td>NaN</td>\n",
       "      <td>NaN</td>\n",
       "      <td>NaN</td>\n",
       "      <td>NaN</td>\n",
       "      <td>NaN</td>\n",
       "      <td>NaN</td>\n",
       "      <td>NaN</td>\n",
       "    </tr>\n",
       "    <tr>\n",
       "      <th>1995</th>\n",
       "      <td>NaN</td>\n",
       "      <td>8,036,722</td>\n",
       "      <td>7,925,838</td>\n",
       "      <td>NaN</td>\n",
       "      <td>4,665,239</td>\n",
       "      <td>4,660,012</td>\n",
       "      <td>NaN</td>\n",
       "      <td>1,917,979</td>\n",
       "      <td>1,864,967</td>\n",
       "      <td>NaN</td>\n",
       "      <td>...</td>\n",
       "      <td>NaN</td>\n",
       "      <td>NaN</td>\n",
       "      <td>NaN</td>\n",
       "      <td>NaN</td>\n",
       "      <td>NaN</td>\n",
       "      <td>NaN</td>\n",
       "      <td>NaN</td>\n",
       "      <td>NaN</td>\n",
       "      <td>NaN</td>\n",
       "      <td>NaN</td>\n",
       "    </tr>\n",
       "    <tr>\n",
       "      <th>1996</th>\n",
       "      <td>NaN</td>\n",
       "      <td>8,205,411</td>\n",
       "      <td>8,070,372</td>\n",
       "      <td>NaN</td>\n",
       "      <td>4,821,564</td>\n",
       "      <td>4,815,729</td>\n",
       "      <td>NaN</td>\n",
       "      <td>1,842,506</td>\n",
       "      <td>1,776,146</td>\n",
       "      <td>NaN</td>\n",
       "      <td>...</td>\n",
       "      <td>NaN</td>\n",
       "      <td>NaN</td>\n",
       "      <td>NaN</td>\n",
       "      <td>NaN</td>\n",
       "      <td>NaN</td>\n",
       "      <td>NaN</td>\n",
       "      <td>NaN</td>\n",
       "      <td>NaN</td>\n",
       "      <td>NaN</td>\n",
       "      <td>NaN</td>\n",
       "    </tr>\n",
       "    <tr>\n",
       "      <th>1997</th>\n",
       "      <td>NaN</td>\n",
       "      <td>8,112,516</td>\n",
       "      <td>7,914,757</td>\n",
       "      <td>NaN</td>\n",
       "      <td>4,847,877</td>\n",
       "      <td>4,800,398</td>\n",
       "      <td>NaN</td>\n",
       "      <td>1,838,285</td>\n",
       "      <td>1,759,610</td>\n",
       "      <td>NaN</td>\n",
       "      <td>...</td>\n",
       "      <td>NaN</td>\n",
       "      <td>NaN</td>\n",
       "      <td>NaN</td>\n",
       "      <td>NaN</td>\n",
       "      <td>NaN</td>\n",
       "      <td>NaN</td>\n",
       "      <td>NaN</td>\n",
       "      <td>NaN</td>\n",
       "      <td>NaN</td>\n",
       "      <td>NaN</td>\n",
       "    </tr>\n",
       "    <tr>\n",
       "      <th>1998</th>\n",
       "      <td>NaN</td>\n",
       "      <td>8,308,153</td>\n",
       "      <td>8,159,383</td>\n",
       "      <td>NaN</td>\n",
       "      <td>4,988,712</td>\n",
       "      <td>4,989,525</td>\n",
       "      <td>NaN</td>\n",
       "      <td>1,865,567</td>\n",
       "      <td>1,785,765</td>\n",
       "      <td>NaN</td>\n",
       "      <td>...</td>\n",
       "      <td>NaN</td>\n",
       "      <td>NaN</td>\n",
       "      <td>NaN</td>\n",
       "      <td>NaN</td>\n",
       "      <td>NaN</td>\n",
       "      <td>NaN</td>\n",
       "      <td>NaN</td>\n",
       "      <td>NaN</td>\n",
       "      <td>NaN</td>\n",
       "      <td>NaN</td>\n",
       "    </tr>\n",
       "    <tr>\n",
       "      <th>1999</th>\n",
       "      <td>NaN</td>\n",
       "      <td>8,602,689</td>\n",
       "      <td>8,432,391</td>\n",
       "      <td>NaN</td>\n",
       "      <td>5,358,363</td>\n",
       "      <td>5,292,365</td>\n",
       "      <td>NaN</td>\n",
       "      <td>1,747,453</td>\n",
       "      <td>1,659,166</td>\n",
       "      <td>NaN</td>\n",
       "      <td>...</td>\n",
       "      <td>NaN</td>\n",
       "      <td>NaN</td>\n",
       "      <td>NaN</td>\n",
       "      <td>NaN</td>\n",
       "      <td>NaN</td>\n",
       "      <td>NaN</td>\n",
       "      <td>NaN</td>\n",
       "      <td>NaN</td>\n",
       "      <td>NaN</td>\n",
       "      <td>NaN</td>\n",
       "    </tr>\n",
       "    <tr>\n",
       "      <th>2000</th>\n",
       "      <td>NaN</td>\n",
       "      <td>8,928,902</td>\n",
       "      <td>8,687,859</td>\n",
       "      <td>NaN</td>\n",
       "      <td>5,561,871</td>\n",
       "      <td>5,439,692</td>\n",
       "      <td>NaN</td>\n",
       "      <td>1,826,998</td>\n",
       "      <td>1,768,404</td>\n",
       "      <td>NaN</td>\n",
       "      <td>...</td>\n",
       "      <td>NaN</td>\n",
       "      <td>NaN</td>\n",
       "      <td>NaN</td>\n",
       "      <td>NaN</td>\n",
       "      <td>NaN</td>\n",
       "      <td>NaN</td>\n",
       "      <td>NaN</td>\n",
       "      <td>NaN</td>\n",
       "      <td>NaN</td>\n",
       "      <td>NaN</td>\n",
       "    </tr>\n",
       "    <tr>\n",
       "      <th>2001</th>\n",
       "      <td>NaN</td>\n",
       "      <td>8,548,692</td>\n",
       "      <td>8,340,012</td>\n",
       "      <td>NaN</td>\n",
       "      <td>5,198,622</td>\n",
       "      <td>5,112,973</td>\n",
       "      <td>NaN</td>\n",
       "      <td>1,946,563</td>\n",
       "      <td>1,862,085</td>\n",
       "      <td>NaN</td>\n",
       "      <td>...</td>\n",
       "      <td>NaN</td>\n",
       "      <td>NaN</td>\n",
       "      <td>NaN</td>\n",
       "      <td>NaN</td>\n",
       "      <td>NaN</td>\n",
       "      <td>NaN</td>\n",
       "      <td>NaN</td>\n",
       "      <td>NaN</td>\n",
       "      <td>NaN</td>\n",
       "      <td>NaN</td>\n",
       "    </tr>\n",
       "    <tr>\n",
       "      <th>2002</th>\n",
       "      <td>NaN</td>\n",
       "      <td>8,036,467</td>\n",
       "      <td>7,970,112</td>\n",
       "      <td>NaN</td>\n",
       "      <td>5,016,840</td>\n",
       "      <td>4,968,043</td>\n",
       "      <td>NaN</td>\n",
       "      <td>1,714,926</td>\n",
       "      <td>1,708,028</td>\n",
       "      <td>NaN</td>\n",
       "      <td>...</td>\n",
       "      <td>NaN</td>\n",
       "      <td>NaN</td>\n",
       "      <td>NaN</td>\n",
       "      <td>NaN</td>\n",
       "      <td>NaN</td>\n",
       "      <td>NaN</td>\n",
       "      <td>NaN</td>\n",
       "      <td>NaN</td>\n",
       "      <td>NaN</td>\n",
       "      <td>NaN</td>\n",
       "    </tr>\n",
       "    <tr>\n",
       "      <th>2003</th>\n",
       "      <td>NaN</td>\n",
       "      <td>8,517,814</td>\n",
       "      <td>8,464,593</td>\n",
       "      <td>NaN</td>\n",
       "      <td>5,330,512</td>\n",
       "      <td>5,342,011</td>\n",
       "      <td>NaN</td>\n",
       "      <td>1,659,764</td>\n",
       "      <td>1,643,651</td>\n",
       "      <td>NaN</td>\n",
       "      <td>...</td>\n",
       "      <td>NaN</td>\n",
       "      <td>NaN</td>\n",
       "      <td>NaN</td>\n",
       "      <td>NaN</td>\n",
       "      <td>NaN</td>\n",
       "      <td>NaN</td>\n",
       "      <td>NaN</td>\n",
       "      <td>NaN</td>\n",
       "      <td>NaN</td>\n",
       "      <td>NaN</td>\n",
       "    </tr>\n",
       "    <tr>\n",
       "      <th>2004</th>\n",
       "      <td>NaN</td>\n",
       "      <td>9,376,809</td>\n",
       "      <td>9,141,375</td>\n",
       "      <td>NaN</td>\n",
       "      <td>5,666,415</td>\n",
       "      <td>5,566,289</td>\n",
       "      <td>NaN</td>\n",
       "      <td>1,978,283</td>\n",
       "      <td>1,944,198</td>\n",
       "      <td>NaN</td>\n",
       "      <td>...</td>\n",
       "      <td>NaN</td>\n",
       "      <td>NaN</td>\n",
       "      <td>NaN</td>\n",
       "      <td>NaN</td>\n",
       "      <td>NaN</td>\n",
       "      <td>NaN</td>\n",
       "      <td>NaN</td>\n",
       "      <td>NaN</td>\n",
       "      <td>NaN</td>\n",
       "      <td>NaN</td>\n",
       "    </tr>\n",
       "    <tr>\n",
       "      <th>2005</th>\n",
       "      <td>NaN</td>\n",
       "      <td>9,637,672</td>\n",
       "      <td>9,492,205</td>\n",
       "      <td>NaN</td>\n",
       "      <td>5,818,782</td>\n",
       "      <td>5,777,912</td>\n",
       "      <td>NaN</td>\n",
       "      <td>1,997,601</td>\n",
       "      <td>1,963,598</td>\n",
       "      <td>NaN</td>\n",
       "      <td>...</td>\n",
       "      <td>NaN</td>\n",
       "      <td>NaN</td>\n",
       "      <td>NaN</td>\n",
       "      <td>NaN</td>\n",
       "      <td>NaN</td>\n",
       "      <td>NaN</td>\n",
       "      <td>NaN</td>\n",
       "      <td>NaN</td>\n",
       "      <td>NaN</td>\n",
       "      <td>NaN</td>\n",
       "    </tr>\n",
       "    <tr>\n",
       "      <th>2006</th>\n",
       "      <td>NaN</td>\n",
       "      <td>9,331,550</td>\n",
       "      <td>9,246,169</td>\n",
       "      <td>NaN</td>\n",
       "      <td>5,658,894</td>\n",
       "      <td>5,652,003</td>\n",
       "      <td>NaN</td>\n",
       "      <td>1,938,579</td>\n",
       "      <td>1,922,970</td>\n",
       "      <td>NaN</td>\n",
       "      <td>...</td>\n",
       "      <td>NaN</td>\n",
       "      <td>NaN</td>\n",
       "      <td>NaN</td>\n",
       "      <td>NaN</td>\n",
       "      <td>NaN</td>\n",
       "      <td>NaN</td>\n",
       "      <td>NaN</td>\n",
       "      <td>NaN</td>\n",
       "      <td>NaN</td>\n",
       "      <td>NaN</td>\n",
       "    </tr>\n",
       "    <tr>\n",
       "      <th>2007</th>\n",
       "      <td>NaN</td>\n",
       "      <td>9,417,889</td>\n",
       "      <td>9,518,022</td>\n",
       "      <td>NaN</td>\n",
       "      <td>5,659,523</td>\n",
       "      <td>5,783,528</td>\n",
       "      <td>NaN</td>\n",
       "      <td>2,011,078</td>\n",
       "      <td>2,020,034</td>\n",
       "      <td>NaN</td>\n",
       "      <td>...</td>\n",
       "      <td>NaN</td>\n",
       "      <td>NaN</td>\n",
       "      <td>NaN</td>\n",
       "      <td>NaN</td>\n",
       "      <td>NaN</td>\n",
       "      <td>NaN</td>\n",
       "      <td>NaN</td>\n",
       "      <td>NaN</td>\n",
       "      <td>NaN</td>\n",
       "      <td>NaN</td>\n",
       "    </tr>\n",
       "    <tr>\n",
       "      <th>2008</th>\n",
       "      <td>NaN</td>\n",
       "      <td>9,053,179</td>\n",
       "      <td>9,154,353</td>\n",
       "      <td>NaN</td>\n",
       "      <td>5,412,056</td>\n",
       "      <td>5,532,560</td>\n",
       "      <td>NaN</td>\n",
       "      <td>1,940,343</td>\n",
       "      <td>1,949,779</td>\n",
       "      <td>NaN</td>\n",
       "      <td>...</td>\n",
       "      <td>NaN</td>\n",
       "      <td>NaN</td>\n",
       "      <td>NaN</td>\n",
       "      <td>NaN</td>\n",
       "      <td>NaN</td>\n",
       "      <td>NaN</td>\n",
       "      <td>NaN</td>\n",
       "      <td>NaN</td>\n",
       "      <td>NaN</td>\n",
       "      <td>NaN</td>\n",
       "    </tr>\n",
       "    <tr>\n",
       "      <th>2009</th>\n",
       "      <td>NaN</td>\n",
       "      <td>8,476,010</td>\n",
       "      <td>8,566,602</td>\n",
       "      <td>NaN</td>\n",
       "      <td>5,098,132</td>\n",
       "      <td>5,193,632</td>\n",
       "      <td>NaN</td>\n",
       "      <td>1,760,927</td>\n",
       "      <td>1,771,247</td>\n",
       "      <td>NaN</td>\n",
       "      <td>...</td>\n",
       "      <td>NaN</td>\n",
       "      <td>NaN</td>\n",
       "      <td>NaN</td>\n",
       "      <td>NaN</td>\n",
       "      <td>NaN</td>\n",
       "      <td>NaN</td>\n",
       "      <td>NaN</td>\n",
       "      <td>NaN</td>\n",
       "      <td>NaN</td>\n",
       "      <td>NaN</td>\n",
       "    </tr>\n",
       "    <tr>\n",
       "      <th>2010</th>\n",
       "      <td>NaN</td>\n",
       "      <td>8,450,987</td>\n",
       "      <td>8,515,359</td>\n",
       "      <td>NaN</td>\n",
       "      <td>5,116,388</td>\n",
       "      <td>5,206,101</td>\n",
       "      <td>NaN</td>\n",
       "      <td>1,748,793</td>\n",
       "      <td>1,754,154</td>\n",
       "      <td>NaN</td>\n",
       "      <td>...</td>\n",
       "      <td>NaN</td>\n",
       "      <td>NaN</td>\n",
       "      <td>NaN</td>\n",
       "      <td>NaN</td>\n",
       "      <td>NaN</td>\n",
       "      <td>NaN</td>\n",
       "      <td>NaN</td>\n",
       "      <td>NaN</td>\n",
       "      <td>NaN</td>\n",
       "      <td>NaN</td>\n",
       "    </tr>\n",
       "    <tr>\n",
       "      <th>2011</th>\n",
       "      <td>NaN</td>\n",
       "      <td>8,440,485</td>\n",
       "      <td>8,473,404</td>\n",
       "      <td>NaN</td>\n",
       "      <td>5,244,299</td>\n",
       "      <td>5,306,153</td>\n",
       "      <td>NaN</td>\n",
       "      <td>1,652,936</td>\n",
       "      <td>1,657,888</td>\n",
       "      <td>NaN</td>\n",
       "      <td>...</td>\n",
       "      <td>NaN</td>\n",
       "      <td>NaN</td>\n",
       "      <td>NaN</td>\n",
       "      <td>NaN</td>\n",
       "      <td>NaN</td>\n",
       "      <td>NaN</td>\n",
       "      <td>NaN</td>\n",
       "      <td>NaN</td>\n",
       "      <td>NaN</td>\n",
       "      <td>NaN</td>\n",
       "    </tr>\n",
       "    <tr>\n",
       "      <th>2012</th>\n",
       "      <td>NaN</td>\n",
       "      <td>8,328,338</td>\n",
       "      <td>8,271,104</td>\n",
       "      <td>NaN</td>\n",
       "      <td>5,232,334</td>\n",
       "      <td>5,220,743</td>\n",
       "      <td>NaN</td>\n",
       "      <td>1,577,529</td>\n",
       "      <td>1,575,290</td>\n",
       "      <td>NaN</td>\n",
       "      <td>...</td>\n",
       "      <td>NaN</td>\n",
       "      <td>NaN</td>\n",
       "      <td>NaN</td>\n",
       "      <td>NaN</td>\n",
       "      <td>NaN</td>\n",
       "      <td>NaN</td>\n",
       "      <td>NaN</td>\n",
       "      <td>NaN</td>\n",
       "      <td>NaN</td>\n",
       "      <td>NaN</td>\n",
       "    </tr>\n",
       "    <tr>\n",
       "      <th>2013</th>\n",
       "      <td>NaN</td>\n",
       "      <td>8,273,972</td>\n",
       "      <td>8,262,781</td>\n",
       "      <td>NaN</td>\n",
       "      <td>5,239,221</td>\n",
       "      <td>5,266,740</td>\n",
       "      <td>NaN</td>\n",
       "      <td>1,534,939</td>\n",
       "      <td>1,522,600</td>\n",
       "      <td>NaN</td>\n",
       "      <td>...</td>\n",
       "      <td>NaN</td>\n",
       "      <td>NaN</td>\n",
       "      <td>NaN</td>\n",
       "      <td>NaN</td>\n",
       "      <td>NaN</td>\n",
       "      <td>NaN</td>\n",
       "      <td>NaN</td>\n",
       "      <td>NaN</td>\n",
       "      <td>NaN</td>\n",
       "      <td>NaN</td>\n",
       "    </tr>\n",
       "    <tr>\n",
       "      <th>2014</th>\n",
       "      <td>NaN</td>\n",
       "      <td>8,096,255</td>\n",
       "      <td>8,144,034</td>\n",
       "      <td>NaN</td>\n",
       "      <td>5,172,067</td>\n",
       "      <td>5,220,225</td>\n",
       "      <td>NaN</td>\n",
       "      <td>1,370,809</td>\n",
       "      <td>1,371,094</td>\n",
       "      <td>NaN</td>\n",
       "      <td>...</td>\n",
       "      <td>NaN</td>\n",
       "      <td>NaN</td>\n",
       "      <td>NaN</td>\n",
       "      <td>NaN</td>\n",
       "      <td>NaN</td>\n",
       "      <td>NaN</td>\n",
       "      <td>NaN</td>\n",
       "      <td>NaN</td>\n",
       "      <td>NaN</td>\n",
       "      <td>NaN</td>\n",
       "    </tr>\n",
       "    <tr>\n",
       "      <th>2015</th>\n",
       "      <td>NaN</td>\n",
       "      <td>8,075,113</td>\n",
       "      <td>8,095,087</td>\n",
       "      <td>NaN</td>\n",
       "      <td>5,184,816</td>\n",
       "      <td>5,215,655</td>\n",
       "      <td>NaN</td>\n",
       "      <td>1,451,332</td>\n",
       "      <td>1,444,853</td>\n",
       "      <td>NaN</td>\n",
       "      <td>...</td>\n",
       "      <td>NaN</td>\n",
       "      <td>NaN</td>\n",
       "      <td>NaN</td>\n",
       "      <td>NaN</td>\n",
       "      <td>NaN</td>\n",
       "      <td>NaN</td>\n",
       "      <td>NaN</td>\n",
       "      <td>NaN</td>\n",
       "      <td>NaN</td>\n",
       "      <td>NaN</td>\n",
       "    </tr>\n",
       "    <tr>\n",
       "      <th>2016</th>\n",
       "      <td>NaN</td>\n",
       "      <td>8,210,517</td>\n",
       "      <td>8,199,224</td>\n",
       "      <td>NaN</td>\n",
       "      <td>5,252,341</td>\n",
       "      <td>5,278,394</td>\n",
       "      <td>NaN</td>\n",
       "      <td>1,502,287</td>\n",
       "      <td>1,488,382</td>\n",
       "      <td>NaN</td>\n",
       "      <td>...</td>\n",
       "      <td>NaN</td>\n",
       "      <td>NaN</td>\n",
       "      <td>NaN</td>\n",
       "      <td>NaN</td>\n",
       "      <td>NaN</td>\n",
       "      <td>NaN</td>\n",
       "      <td>NaN</td>\n",
       "      <td>NaN</td>\n",
       "      <td>NaN</td>\n",
       "      <td>NaN</td>\n",
       "    </tr>\n",
       "    <tr>\n",
       "      <th>2017</th>\n",
       "      <td>NaN</td>\n",
       "      <td>8,263,525</td>\n",
       "      <td>8,279,271</td>\n",
       "      <td>NaN</td>\n",
       "      <td>5,256,956</td>\n",
       "      <td>5,297,641</td>\n",
       "      <td>NaN</td>\n",
       "      <td>1,537,223</td>\n",
       "      <td>1,525,225</td>\n",
       "      <td>NaN</td>\n",
       "      <td>...</td>\n",
       "      <td>NaN</td>\n",
       "      <td>NaN</td>\n",
       "      <td>NaN</td>\n",
       "      <td>NaN</td>\n",
       "      <td>NaN</td>\n",
       "      <td>NaN</td>\n",
       "      <td>NaN</td>\n",
       "      <td>NaN</td>\n",
       "      <td>NaN</td>\n",
       "      <td>NaN</td>\n",
       "    </tr>\n",
       "    <tr>\n",
       "      <th>2018</th>\n",
       "      <td>NaN</td>\n",
       "      <td>8,431,304</td>\n",
       "      <td>8,399,298</td>\n",
       "      <td>NaN</td>\n",
       "      <td>5,261,970</td>\n",
       "      <td>5,289,702</td>\n",
       "      <td>NaN</td>\n",
       "      <td>1,717,651</td>\n",
       "      <td>1,688,349</td>\n",
       "      <td>NaN</td>\n",
       "      <td>...</td>\n",
       "      <td>NaN</td>\n",
       "      <td>NaN</td>\n",
       "      <td>NaN</td>\n",
       "      <td>NaN</td>\n",
       "      <td>NaN</td>\n",
       "      <td>NaN</td>\n",
       "      <td>NaN</td>\n",
       "      <td>NaN</td>\n",
       "      <td>NaN</td>\n",
       "      <td>NaN</td>\n",
       "    </tr>\n",
       "    <tr>\n",
       "      <th>2019</th>\n",
       "      <td>NaN</td>\n",
       "      <td>8,637,158</td>\n",
       "      <td>8,597,750</td>\n",
       "      <td>NaN</td>\n",
       "      <td>5,339,726</td>\n",
       "      <td>5,374,442</td>\n",
       "      <td>NaN</td>\n",
       "      <td>1,770,531</td>\n",
       "      <td>1,737,907</td>\n",
       "      <td>NaN</td>\n",
       "      <td>...</td>\n",
       "      <td>NaN</td>\n",
       "      <td>NaN</td>\n",
       "      <td>NaN</td>\n",
       "      <td>NaN</td>\n",
       "      <td>NaN</td>\n",
       "      <td>NaN</td>\n",
       "      <td>NaN</td>\n",
       "      <td>NaN</td>\n",
       "      <td>NaN</td>\n",
       "      <td>NaN</td>\n",
       "    </tr>\n",
       "  </tbody>\n",
       "</table>\n",
       "<p>33 rows × 51 columns</p>\n",
       "</div>"
      ],
      "text/plain": [
       "nan  AIRCRAFT DEPARTURES Total performeda Total scheduled Large hubs  \\\n",
       "0                                                                      \n",
       "1975                 NaN        4,555,516       4,530,535        NaN   \n",
       "1980                 NaN        5,156,848       5,204,564        NaN   \n",
       "1985                 NaN        5,505,659       5,591,596        NaN   \n",
       "1990                 NaN        6,641,681       6,758,571        NaN   \n",
       "1991                 NaN        6,711,203       6,606,020        NaN   \n",
       "1992                 NaN        6,897,999       6,798,947        NaN   \n",
       "1993                 NaN        7,136,094       6,996,178        NaN   \n",
       "1994                 NaN        7,524,909       7,364,626        NaN   \n",
       "1995                 NaN        8,036,722       7,925,838        NaN   \n",
       "1996                 NaN        8,205,411       8,070,372        NaN   \n",
       "1997                 NaN        8,112,516       7,914,757        NaN   \n",
       "1998                 NaN        8,308,153       8,159,383        NaN   \n",
       "1999                 NaN        8,602,689       8,432,391        NaN   \n",
       "2000                 NaN        8,928,902       8,687,859        NaN   \n",
       "2001                 NaN        8,548,692       8,340,012        NaN   \n",
       "2002                 NaN        8,036,467       7,970,112        NaN   \n",
       "2003                 NaN        8,517,814       8,464,593        NaN   \n",
       "2004                 NaN        9,376,809       9,141,375        NaN   \n",
       "2005                 NaN        9,637,672       9,492,205        NaN   \n",
       "2006                 NaN        9,331,550       9,246,169        NaN   \n",
       "2007                 NaN        9,417,889       9,518,022        NaN   \n",
       "2008                 NaN        9,053,179       9,154,353        NaN   \n",
       "2009                 NaN        8,476,010       8,566,602        NaN   \n",
       "2010                 NaN        8,450,987       8,515,359        NaN   \n",
       "2011                 NaN        8,440,485       8,473,404        NaN   \n",
       "2012                 NaN        8,328,338       8,271,104        NaN   \n",
       "2013                 NaN        8,273,972       8,262,781        NaN   \n",
       "2014                 NaN        8,096,255       8,144,034        NaN   \n",
       "2015                 NaN        8,075,113       8,095,087        NaN   \n",
       "2016                 NaN        8,210,517       8,199,224        NaN   \n",
       "2017                 NaN        8,263,525       8,279,271        NaN   \n",
       "2018                 NaN        8,431,304       8,399,298        NaN   \n",
       "2019                 NaN        8,637,158       8,597,750        NaN   \n",
       "\n",
       "nan   Performed  Scheduled Medium hubs  Performed  Scheduled Small hubs  ...  \\\n",
       "0                                                                        ...   \n",
       "1975  2,437,958  2,409,874         NaN    902,652    899,543        NaN  ...   \n",
       "1980  2,887,239  2,905,923         NaN  1,048,726  1,058,438        NaN  ...   \n",
       "1985  3,439,446  3,487,660         NaN  1,185,008  1,201,540        NaN  ...   \n",
       "1990  4,167,868  4,237,466         NaN  1,394,833  1,417,762        NaN  ...   \n",
       "1991  3,770,382  3,752,807         NaN  1,662,337  1,639,746        NaN  ...   \n",
       "1992  3,840,689  3,836,074         NaN  1,690,788  1,658,960        NaN  ...   \n",
       "1993  4,025,158  3,997,694         NaN  1,712,222  1,665,336        NaN  ...   \n",
       "1994  4,357,314  4,324,739         NaN  1,852,968  1,775,896        NaN  ...   \n",
       "1995  4,665,239  4,660,012         NaN  1,917,979  1,864,967        NaN  ...   \n",
       "1996  4,821,564  4,815,729         NaN  1,842,506  1,776,146        NaN  ...   \n",
       "1997  4,847,877  4,800,398         NaN  1,838,285  1,759,610        NaN  ...   \n",
       "1998  4,988,712  4,989,525         NaN  1,865,567  1,785,765        NaN  ...   \n",
       "1999  5,358,363  5,292,365         NaN  1,747,453  1,659,166        NaN  ...   \n",
       "2000  5,561,871  5,439,692         NaN  1,826,998  1,768,404        NaN  ...   \n",
       "2001  5,198,622  5,112,973         NaN  1,946,563  1,862,085        NaN  ...   \n",
       "2002  5,016,840  4,968,043         NaN  1,714,926  1,708,028        NaN  ...   \n",
       "2003  5,330,512  5,342,011         NaN  1,659,764  1,643,651        NaN  ...   \n",
       "2004  5,666,415  5,566,289         NaN  1,978,283  1,944,198        NaN  ...   \n",
       "2005  5,818,782  5,777,912         NaN  1,997,601  1,963,598        NaN  ...   \n",
       "2006  5,658,894  5,652,003         NaN  1,938,579  1,922,970        NaN  ...   \n",
       "2007  5,659,523  5,783,528         NaN  2,011,078  2,020,034        NaN  ...   \n",
       "2008  5,412,056  5,532,560         NaN  1,940,343  1,949,779        NaN  ...   \n",
       "2009  5,098,132  5,193,632         NaN  1,760,927  1,771,247        NaN  ...   \n",
       "2010  5,116,388  5,206,101         NaN  1,748,793  1,754,154        NaN  ...   \n",
       "2011  5,244,299  5,306,153         NaN  1,652,936  1,657,888        NaN  ...   \n",
       "2012  5,232,334  5,220,743         NaN  1,577,529  1,575,290        NaN  ...   \n",
       "2013  5,239,221  5,266,740         NaN  1,534,939  1,522,600        NaN  ...   \n",
       "2014  5,172,067  5,220,225         NaN  1,370,809  1,371,094        NaN  ...   \n",
       "2015  5,184,816  5,215,655         NaN  1,451,332  1,444,853        NaN  ...   \n",
       "2016  5,252,341  5,278,394         NaN  1,502,287  1,488,382        NaN  ...   \n",
       "2017  5,256,956  5,297,641         NaN  1,537,223  1,525,225        NaN  ...   \n",
       "2018  5,261,970  5,289,702         NaN  1,717,651  1,688,349        NaN  ...   \n",
       "2019  5,339,726  5,374,442         NaN  1,770,531  1,737,907        NaN  ...   \n",
       "\n",
       "nan  SOURCES Hub Classifications:  \\\n",
       "0                                   \n",
       "1975     NaN                  NaN   \n",
       "1980     NaN                  NaN   \n",
       "1985     NaN                  NaN   \n",
       "1990     NaN                  NaN   \n",
       "1991     NaN                  NaN   \n",
       "1992     NaN                  NaN   \n",
       "1993     NaN                  NaN   \n",
       "1994     NaN                  NaN   \n",
       "1995     NaN                  NaN   \n",
       "1996     NaN                  NaN   \n",
       "1997     NaN                  NaN   \n",
       "1998     NaN                  NaN   \n",
       "1999     NaN                  NaN   \n",
       "2000     NaN                  NaN   \n",
       "2001     NaN                  NaN   \n",
       "2002     NaN                  NaN   \n",
       "2003     NaN                  NaN   \n",
       "2004     NaN                  NaN   \n",
       "2005     NaN                  NaN   \n",
       "2006     NaN                  NaN   \n",
       "2007     NaN                  NaN   \n",
       "2008     NaN                  NaN   \n",
       "2009     NaN                  NaN   \n",
       "2010     NaN                  NaN   \n",
       "2011     NaN                  NaN   \n",
       "2012     NaN                  NaN   \n",
       "2013     NaN                  NaN   \n",
       "2014     NaN                  NaN   \n",
       "2015     NaN                  NaN   \n",
       "2016     NaN                  NaN   \n",
       "2017     NaN                  NaN   \n",
       "2018     NaN                  NaN   \n",
       "2019     NaN                  NaN   \n",
       "\n",
       "nan  U.S. Department of Transportation, Federal Aviation Administration, Airport Categories, available at https://www.faa.gov/airports/planning_capacity/passenger_allcargo_stats/categories/ as of May 20, 2020.  \\\n",
       "0                                                                                                                                                                                                                   \n",
       "1975                                                NaN                                                                                                                                                             \n",
       "1980                                                NaN                                                                                                                                                             \n",
       "1985                                                NaN                                                                                                                                                             \n",
       "1990                                                NaN                                                                                                                                                             \n",
       "1991                                                NaN                                                                                                                                                             \n",
       "1992                                                NaN                                                                                                                                                             \n",
       "1993                                                NaN                                                                                                                                                             \n",
       "1994                                                NaN                                                                                                                                                             \n",
       "1995                                                NaN                                                                                                                                                             \n",
       "1996                                                NaN                                                                                                                                                             \n",
       "1997                                                NaN                                                                                                                                                             \n",
       "1998                                                NaN                                                                                                                                                             \n",
       "1999                                                NaN                                                                                                                                                             \n",
       "2000                                                NaN                                                                                                                                                             \n",
       "2001                                                NaN                                                                                                                                                             \n",
       "2002                                                NaN                                                                                                                                                             \n",
       "2003                                                NaN                                                                                                                                                             \n",
       "2004                                                NaN                                                                                                                                                             \n",
       "2005                                                NaN                                                                                                                                                             \n",
       "2006                                                NaN                                                                                                                                                             \n",
       "2007                                                NaN                                                                                                                                                             \n",
       "2008                                                NaN                                                                                                                                                             \n",
       "2009                                                NaN                                                                                                                                                             \n",
       "2010                                                NaN                                                                                                                                                             \n",
       "2011                                                NaN                                                                                                                                                             \n",
       "2012                                                NaN                                                                                                                                                             \n",
       "2013                                                NaN                                                                                                                                                             \n",
       "2014                                                NaN                                                                                                                                                             \n",
       "2015                                                NaN                                                                                                                                                             \n",
       "2016                                                NaN                                                                                                                                                             \n",
       "2017                                                NaN                                                                                                                                                             \n",
       "2018                                                NaN                                                                                                                                                             \n",
       "2019                                                NaN                                                                                                                                                             \n",
       "\n",
       "nan  Airport Data:  \\\n",
       "0                    \n",
       "1975           NaN   \n",
       "1980           NaN   \n",
       "1985           NaN   \n",
       "1990           NaN   \n",
       "1991           NaN   \n",
       "1992           NaN   \n",
       "1993           NaN   \n",
       "1994           NaN   \n",
       "1995           NaN   \n",
       "1996           NaN   \n",
       "1997           NaN   \n",
       "1998           NaN   \n",
       "1999           NaN   \n",
       "2000           NaN   \n",
       "2001           NaN   \n",
       "2002           NaN   \n",
       "2003           NaN   \n",
       "2004           NaN   \n",
       "2005           NaN   \n",
       "2006           NaN   \n",
       "2007           NaN   \n",
       "2008           NaN   \n",
       "2009           NaN   \n",
       "2010           NaN   \n",
       "2011           NaN   \n",
       "2012           NaN   \n",
       "2013           NaN   \n",
       "2014           NaN   \n",
       "2015           NaN   \n",
       "2016           NaN   \n",
       "2017           NaN   \n",
       "2018           NaN   \n",
       "2019           NaN   \n",
       "\n",
       "nan  1975-90: U.S. Department of Transportation, Bureau of Transportation Statistics, Office of Airline Information, Airport Activity Statistics of Certified Route Air Carriers (Washington, DC: Annual issues), tables 2, 3, 4, and 5.  \\\n",
       "0                                                                                                                                                                                                                                          \n",
       "1975                                                NaN                                                                                                                                                                                    \n",
       "1980                                                NaN                                                                                                                                                                                    \n",
       "1985                                                NaN                                                                                                                                                                                    \n",
       "1990                                                NaN                                                                                                                                                                                    \n",
       "1991                                                NaN                                                                                                                                                                                    \n",
       "1992                                                NaN                                                                                                                                                                                    \n",
       "1993                                                NaN                                                                                                                                                                                    \n",
       "1994                                                NaN                                                                                                                                                                                    \n",
       "1995                                                NaN                                                                                                                                                                                    \n",
       "1996                                                NaN                                                                                                                                                                                    \n",
       "1997                                                NaN                                                                                                                                                                                    \n",
       "1998                                                NaN                                                                                                                                                                                    \n",
       "1999                                                NaN                                                                                                                                                                                    \n",
       "2000                                                NaN                                                                                                                                                                                    \n",
       "2001                                                NaN                                                                                                                                                                                    \n",
       "2002                                                NaN                                                                                                                                                                                    \n",
       "2003                                                NaN                                                                                                                                                                                    \n",
       "2004                                                NaN                                                                                                                                                                                    \n",
       "2005                                                NaN                                                                                                                                                                                    \n",
       "2006                                                NaN                                                                                                                                                                                    \n",
       "2007                                                NaN                                                                                                                                                                                    \n",
       "2008                                                NaN                                                                                                                                                                                    \n",
       "2009                                                NaN                                                                                                                                                                                    \n",
       "2010                                                NaN                                                                                                                                                                                    \n",
       "2011                                                NaN                                                                                                                                                                                    \n",
       "2012                                                NaN                                                                                                                                                                                    \n",
       "2013                                                NaN                                                                                                                                                                                    \n",
       "2014                                                NaN                                                                                                                                                                                    \n",
       "2015                                                NaN                                                                                                                                                                                    \n",
       "2016                                                NaN                                                                                                                                                                                    \n",
       "2017                                                NaN                                                                                                                                                                                    \n",
       "2018                                                NaN                                                                                                                                                                                    \n",
       "2019                                                NaN                                                                                                                                                                                    \n",
       "\n",
       "nan  1991-2019: U.S. Department of Transportation,  Bureau of Transportation Statistics, Office of Airline Information, Airport Activity Statistics Database (Form 41 Schedule T-3), special tabulation, available at https://www.transtats.bts.gov/, as of May 20, 2020.  \\\n",
       "0                                                                                                                                                                                                                                                                           \n",
       "1975                                                NaN                                                                                                                                                                                                                     \n",
       "1980                                                NaN                                                                                                                                                                                                                     \n",
       "1985                                                NaN                                                                                                                                                                                                                     \n",
       "1990                                                NaN                                                                                                                                                                                                                     \n",
       "1991                                                NaN                                                                                                                                                                                                                     \n",
       "1992                                                NaN                                                                                                                                                                                                                     \n",
       "1993                                                NaN                                                                                                                                                                                                                     \n",
       "1994                                                NaN                                                                                                                                                                                                                     \n",
       "1995                                                NaN                                                                                                                                                                                                                     \n",
       "1996                                                NaN                                                                                                                                                                                                                     \n",
       "1997                                                NaN                                                                                                                                                                                                                     \n",
       "1998                                                NaN                                                                                                                                                                                                                     \n",
       "1999                                                NaN                                                                                                                                                                                                                     \n",
       "2000                                                NaN                                                                                                                                                                                                                     \n",
       "2001                                                NaN                                                                                                                                                                                                                     \n",
       "2002                                                NaN                                                                                                                                                                                                                     \n",
       "2003                                                NaN                                                                                                                                                                                                                     \n",
       "2004                                                NaN                                                                                                                                                                                                                     \n",
       "2005                                                NaN                                                                                                                                                                                                                     \n",
       "2006                                                NaN                                                                                                                                                                                                                     \n",
       "2007                                                NaN                                                                                                                                                                                                                     \n",
       "2008                                                NaN                                                                                                                                                                                                                     \n",
       "2009                                                NaN                                                                                                                                                                                                                     \n",
       "2010                                                NaN                                                                                                                                                                                                                     \n",
       "2011                                                NaN                                                                                                                                                                                                                     \n",
       "2012                                                NaN                                                                                                                                                                                                                     \n",
       "2013                                                NaN                                                                                                                                                                                                                     \n",
       "2014                                                NaN                                                                                                                                                                                                                     \n",
       "2015                                                NaN                                                                                                                                                                                                                     \n",
       "2016                                                NaN                                                                                                                                                                                                                     \n",
       "2017                                                NaN                                                                                                                                                                                                                     \n",
       "2018                                                NaN                                                                                                                                                                                                                     \n",
       "2019                                                NaN                                                                                                                                                                                                                     \n",
       "\n",
       "nan   NaN  NaN  NaN  NaN  \n",
       "0                         \n",
       "1975  NaN  NaN  NaN  NaN  \n",
       "1980  NaN  NaN  NaN  NaN  \n",
       "1985  NaN  NaN  NaN  NaN  \n",
       "1990  NaN  NaN  NaN  NaN  \n",
       "1991  NaN  NaN  NaN  NaN  \n",
       "1992  NaN  NaN  NaN  NaN  \n",
       "1993  NaN  NaN  NaN  NaN  \n",
       "1994  NaN  NaN  NaN  NaN  \n",
       "1995  NaN  NaN  NaN  NaN  \n",
       "1996  NaN  NaN  NaN  NaN  \n",
       "1997  NaN  NaN  NaN  NaN  \n",
       "1998  NaN  NaN  NaN  NaN  \n",
       "1999  NaN  NaN  NaN  NaN  \n",
       "2000  NaN  NaN  NaN  NaN  \n",
       "2001  NaN  NaN  NaN  NaN  \n",
       "2002  NaN  NaN  NaN  NaN  \n",
       "2003  NaN  NaN  NaN  NaN  \n",
       "2004  NaN  NaN  NaN  NaN  \n",
       "2005  NaN  NaN  NaN  NaN  \n",
       "2006  NaN  NaN  NaN  NaN  \n",
       "2007  NaN  NaN  NaN  NaN  \n",
       "2008  NaN  NaN  NaN  NaN  \n",
       "2009  NaN  NaN  NaN  NaN  \n",
       "2010  NaN  NaN  NaN  NaN  \n",
       "2011  NaN  NaN  NaN  NaN  \n",
       "2012  NaN  NaN  NaN  NaN  \n",
       "2013  NaN  NaN  NaN  NaN  \n",
       "2014  NaN  NaN  NaN  NaN  \n",
       "2015  NaN  NaN  NaN  NaN  \n",
       "2016  NaN  NaN  NaN  NaN  \n",
       "2017  NaN  NaN  NaN  NaN  \n",
       "2018  NaN  NaN  NaN  NaN  \n",
       "2019  NaN  NaN  NaN  NaN  \n",
       "\n",
       "[33 rows x 51 columns]"
      ]
     },
     "execution_count": 41,
     "metadata": {},
     "output_type": "execute_result"
    }
   ],
   "source": [
    "air_data_flip"
   ]
  },
  {
   "cell_type": "code",
   "execution_count": 42,
   "metadata": {},
   "outputs": [],
   "source": [
    "#remove the commas from our numeric column\n",
    "air_data_flip['Total performeda'] = [str(air_data_flip.iloc[row, 1]).replace(',', '') for row in range(len(air_data_flip))]\n",
    "\n",
    "air_data_flip.reset_index(inplace = True)\n"
   ]
  },
  {
   "cell_type": "code",
   "execution_count": 43,
   "metadata": {},
   "outputs": [
    {
     "data": {
      "text/html": [
       "<div>\n",
       "<style scoped>\n",
       "    .dataframe tbody tr th:only-of-type {\n",
       "        vertical-align: middle;\n",
       "    }\n",
       "\n",
       "    .dataframe tbody tr th {\n",
       "        vertical-align: top;\n",
       "    }\n",
       "\n",
       "    .dataframe thead th {\n",
       "        text-align: right;\n",
       "    }\n",
       "</style>\n",
       "<table border=\"1\" class=\"dataframe\">\n",
       "  <thead>\n",
       "    <tr style=\"text-align: right;\">\n",
       "      <th></th>\n",
       "      <th>Year</th>\n",
       "      <th>Mileage</th>\n",
       "      <th>Lane Miles</th>\n",
       "      <th>VMT</th>\n",
       "      <th>VMT</th>\n",
       "      <th>Unnamed: 5</th>\n",
       "    </tr>\n",
       "  </thead>\n",
       "  <tbody>\n",
       "    <tr>\n",
       "      <th>0</th>\n",
       "      <td>1900</td>\n",
       "      <td>2,320,000</td>\n",
       "      <td>NaN</td>\n",
       "      <td>100</td>\n",
       "      <td>100,000,000</td>\n",
       "      <td>NaN</td>\n",
       "    </tr>\n",
       "    <tr>\n",
       "      <th>1</th>\n",
       "      <td>1901</td>\n",
       "      <td>2,325,000</td>\n",
       "      <td>NaN</td>\n",
       "      <td>170</td>\n",
       "      <td>170,000,000</td>\n",
       "      <td>NaN</td>\n",
       "    </tr>\n",
       "    <tr>\n",
       "      <th>2</th>\n",
       "      <td>1902</td>\n",
       "      <td>2,330,000</td>\n",
       "      <td>NaN</td>\n",
       "      <td>310</td>\n",
       "      <td>310,000,000</td>\n",
       "      <td>NaN</td>\n",
       "    </tr>\n",
       "    <tr>\n",
       "      <th>3</th>\n",
       "      <td>1903</td>\n",
       "      <td>2,340,000</td>\n",
       "      <td>NaN</td>\n",
       "      <td>460</td>\n",
       "      <td>460,000,000</td>\n",
       "      <td>NaN</td>\n",
       "    </tr>\n",
       "    <tr>\n",
       "      <th>4</th>\n",
       "      <td>1904</td>\n",
       "      <td>2,351,000</td>\n",
       "      <td>NaN</td>\n",
       "      <td>750</td>\n",
       "      <td>750,000,000</td>\n",
       "      <td>NaN</td>\n",
       "    </tr>\n",
       "  </tbody>\n",
       "</table>\n",
       "</div>"
      ],
      "text/plain": [
       "   Year     Mileage Lane Miles  VMT            VMT  Unnamed: 5\n",
       "0  1900  2,320,000         NaN  100   100,000,000          NaN\n",
       "1  1901  2,325,000         NaN  170   170,000,000          NaN\n",
       "2  1902  2,330,000         NaN  310   310,000,000          NaN\n",
       "3  1903  2,340,000         NaN  460   460,000,000          NaN\n",
       "4  1904  2,351,000         NaN  750   750,000,000          NaN"
      ]
     },
     "execution_count": 43,
     "metadata": {},
     "output_type": "execute_result"
    }
   ],
   "source": [
    "vehicle_miles = pd.read_csv(\"./data/vmt_clean.csv\")\n",
    "#drop the rows that dont have a year \n",
    "vehicle_miles = vehicle_miles.dropna(subset = ['Year'])\n",
    "#take the decimal off the year column\n",
    "vehicle_miles['Year'] = vehicle_miles['Year'].astype(int)\n",
    "vehicle_miles.head()"
   ]
  },
  {
   "cell_type": "code",
   "execution_count": 44,
   "metadata": {},
   "outputs": [],
   "source": [
    "#we will only look at data since 1990\n",
    "vehicle_miles = vehicle_miles[vehicle_miles['Year'] >= 1990]\n",
    "#remove the commas from our numeric column\n",
    "vehicle_miles['VMT'] = [str(vehicle_miles.iloc[row, 4]).replace(',', '') for row in range(len(vehicle_miles))]"
   ]
  },
  {
   "cell_type": "markdown",
   "metadata": {},
   "source": [
    "Now let's see if the correlation between CO2 and transportation is statistically significant. We will use a Pearson correlation statistic, which requires that   \n",
    " \n",
    "1) Each variable is continuous - Check   \n",
    "2) Related Pairs  - Yes, each year has both a transportation value and a CO2 point  \n",
    "3) Absense of Outliers - We will have to look further into this one  \n",
    "4) Linearity. The two variables should form a linear pattern (we need to check this independent of time still)\n"
   ]
  },
  {
   "cell_type": "code",
   "execution_count": 45,
   "metadata": {},
   "outputs": [],
   "source": [
    "corr_CO2_nation = recent_CO2_us[~recent_CO2_us['Month-Year'].isin(['1-2020', '2-2020', '3-2020', '4-2020','5-2020','6-2020', '7-2020', '8-2020'])]\n",
    "corr_air_travel = air_transport_recent[~air_transport_recent['Month-Year'].isin(['1-2020', '2-2020', '3-2020', '4-2020','5-2020','6-2020','7-2020', '8-2020','9-2020'])]"
   ]
  },
  {
   "cell_type": "markdown",
   "metadata": {},
   "source": [
    "Let's start by checking the third requirement - these histograms look like there MIGHT be outliers, so we will have to calculate to check - we will use  > 3 standard deviations to classify an \"outlier\". We will use scipy's stats function to do this\n",
    "\n"
   ]
  },
  {
   "cell_type": "code",
   "execution_count": 46,
   "metadata": {},
   "outputs": [
    {
     "data": {
      "text/plain": [
       "Text(0.5, 1.0, 'Distribution of Monthly CO2 Observations 2017 - 2020')"
      ]
     },
     "execution_count": 46,
     "metadata": {},
     "output_type": "execute_result"
    },
    {
     "data": {
      "image/png": "[encoded data removed]",
      "text/plain": [
       "<Figure size 432x288 with 1 Axes>"
      ]
     },
     "metadata": {
      "needs_background": "light"
     },
     "output_type": "display_data"
    }
   ],
   "source": [
    "plt.hist(x=corr_CO2_nation['average'], bins='auto')\n",
    "plt.title(\"Distribution of Monthly CO2 Observations 2017 - 2020\")"
   ]
  },
  {
   "cell_type": "code",
   "execution_count": 47,
   "metadata": {},
   "outputs": [
    {
     "data": {
      "text/plain": [
       "Text(0.5, 1.0, 'Distribution of Monthly Airline Passengers 2017 - 2020')"
      ]
     },
     "execution_count": 47,
     "metadata": {},
     "output_type": "execute_result"
    },
    {
     "data": {
      "image/png": "[encoded data removed]",
      "text/plain": [
       "<Figure size 432x288 with 1 Axes>"
      ]
     },
     "metadata": {
      "needs_background": "light"
     },
     "output_type": "display_data"
    }
   ],
   "source": [
    "plt.hist(x = corr_air_travel['airline_total'], bins = 'auto')\n",
    "plt.title(\"Distribution of Monthly Airline Passengers 2017 - 2020\")"
   ]
  },
  {
   "cell_type": "code",
   "execution_count": 48,
   "metadata": {},
   "outputs": [
    {
     "name": "stdout",
     "output_type": "stream",
     "text": [
      "There are no outliers\n"
     ]
    }
   ],
   "source": [
    "if (abs(stats.zscore(corr_CO2_nation['average'])) > 3).any() or (abs(stats.zscore(corr_air_travel['airline_total'])) > 3).any():\n",
    "    print('There are outliers in one or both datasets')\n",
    "else:\n",
    "    print('There are no outliers')\n",
    "\n",
    "#none of the z scores of the CO2 data or transportation data have an absolute value greater than 3, so this dataset doesn't have any outliers"
   ]
  },
  {
   "cell_type": "markdown",
   "metadata": {},
   "source": [
    "No outliers, so point #3 is satisfied. Now let's confirm point # 4, that the data has a linear relationship.  \n",
    "\n",
    "\n",
    "From this scatter plot, it looks like if anything, the pattern is linear"
   ]
  },
  {
   "cell_type": "code",
   "execution_count": 49,
   "metadata": {},
   "outputs": [
    {
     "data": {
      "text/plain": [
       "Text(0.5, 1.0, 'Airline Traffic and CO2 Emissions 2017 - 2020')"
      ]
     },
     "execution_count": 49,
     "metadata": {},
     "output_type": "execute_result"
    },
    {
     "data": {
      "image/png": "[encoded data removed]",
      "text/plain": [
       "<Figure size 1440x720 with 1 Axes>"
      ]
     },
     "metadata": {
      "needs_background": "light"
     },
     "output_type": "display_data"
    }
   ],
   "source": [
    "plt.figure(figsize=(20,10))\n",
    "plt.scatter(corr_air_travel['airline_total'], corr_CO2_nation['average'])\n",
    "plt.xlabel(\"Monthly Airline Traffic in U.S.\")\n",
    "plt.ylabel(\"Monthly CO2 Emissions\")\n",
    "plt.title(\"Airline Traffic and CO2 Emissions 2017 - 2020\")"
   ]
  },
  {
   "cell_type": "markdown",
   "metadata": {},
   "source": [
    "Now let's calculate the correlation coefficient using the scipy pearsonr function"
   ]
  },
  {
   "cell_type": "code",
   "execution_count": 50,
   "metadata": {},
   "outputs": [
    {
     "name": "stdout",
     "output_type": "stream",
     "text": [
      "(0.44963743603528894, 0.005936664951640469)\n"
     ]
    }
   ],
   "source": [
    "transportation_corr = stats.pearsonr(corr_air_travel['airline_total'], corr_CO2_nation['average'])\n",
    "print(transportation_corr)"
   ]
  },
  {
   "cell_type": "markdown",
   "metadata": {},
   "source": [
    "Because the correlation coefficient is 0.45, we see that the correlation between these two variables is weak, but the p-value is 0.0059, which indicates that the correlation is in fact significant. This indicates that perhaps there are other factors significantly impacting CO2 levels besides air transport, but that monthly air transport certainly does correlate with monthly CO2 levels between 2017 and 2020.\n",
    "\n",
    "  \n",
    "  \n",
    "Let's see if the correlation holds true post-COVID as well\n",
    "   \n"
   ]
  },
  {
   "cell_type": "code",
   "execution_count": 51,
   "metadata": {},
   "outputs": [],
   "source": [
    "post_covid_CO2 = country_CO2_df[(country_CO2_df['year'].astype(int) >= 2020) & (country_CO2_df['month'].astype(int) >= 3) & (country_CO2_df['month'].astype(int) <= 6)]\n",
    "post_covid_air_traffic= air_transport_recent[(air_transport_recent['Year'] == 2020) & (air_transport_recent['Month'] >= 3) & (air_transport_recent['Month'] <= 6)]"
   ]
  },
  {
   "cell_type": "code",
   "execution_count": 52,
   "metadata": {},
   "outputs": [
    {
     "data": {
      "text/plain": [
       "Text(0.5, 1.0, 'Distribution of Monthly CO2 Observations Post-COVID')"
      ]
     },
     "execution_count": 52,
     "metadata": {},
     "output_type": "execute_result"
    },
    {
     "data": {
      "image/png": "[encoded data removed]",
      "text/plain": [
       "<Figure size 432x288 with 1 Axes>"
      ]
     },
     "metadata": {
      "needs_background": "light"
     },
     "output_type": "display_data"
    }
   ],
   "source": [
    "plt.hist(x=post_covid_CO2['average'], bins='auto')\n",
    "plt.title(\"Distribution of Monthly CO2 Observations Post-COVID\")"
   ]
  },
  {
   "cell_type": "code",
   "execution_count": 53,
   "metadata": {},
   "outputs": [
    {
     "data": {
      "text/plain": [
       "(array([2., 1., 1.]),\n",
       " array([ 3010000.        , 15026666.66666667, 27043333.33333333,\n",
       "        39060000.        ]),\n",
       " <a list of 3 Patch objects>)"
      ]
     },
     "execution_count": 53,
     "metadata": {},
     "output_type": "execute_result"
    },
    {
     "data": {
      "image/png": "[encoded data removed]",
      "text/plain": [
       "<Figure size 432x288 with 1 Axes>"
      ]
     },
     "metadata": {
      "needs_background": "light"
     },
     "output_type": "display_data"
    }
   ],
   "source": [
    "plt.hist(x = post_covid_air_traffic['airline_total'], bins = 'auto')"
   ]
  },
  {
   "cell_type": "code",
   "execution_count": 54,
   "metadata": {},
   "outputs": [
    {
     "data": {
      "text/plain": [
       "Text(0.5, 1.0, 'Airline Traffic and CO2 Emissions March 2020 - June 2020')"
      ]
     },
     "execution_count": 54,
     "metadata": {},
     "output_type": "execute_result"
    },
    {
     "data": {
      "image/png": "[encoded data removed]",
      "text/plain": [
       "<Figure size 1440x720 with 1 Axes>"
      ]
     },
     "metadata": {
      "needs_background": "light"
     },
     "output_type": "display_data"
    }
   ],
   "source": [
    "plt.figure(figsize = (20,10))\n",
    "plt.scatter(post_covid_air_traffic['airline_total'], post_covid_CO2['average'])\n",
    "plt.xlabel(\"Monthly Airline Traffic in U.S.\")\n",
    "plt.ylabel(\"Monthly CO2 Emissions\")\n",
    "plt.title(\"Airline Traffic and CO2 Emissions March 2020 - June 2020\")"
   ]
  },
  {
   "cell_type": "code",
   "execution_count": 55,
   "metadata": {},
   "outputs": [
    {
     "name": "stdout",
     "output_type": "stream",
     "text": [
      "SpearmanrResult(correlation=-0.39999999999999997, pvalue=0.6)\n"
     ]
    }
   ],
   "source": [
    "post_covid_corr = stats.spearmanr(post_covid_air_traffic['airline_total'], post_covid_CO2['average'])\n",
    "print(post_covid_corr)"
   ]
  },
  {
   "cell_type": "markdown",
   "metadata": {},
   "source": [
    "We see here that the correlation between monthly air traffic and CO2 post-COVID is not significant "
   ]
  },
  {
   "cell_type": "markdown",
   "metadata": {},
   "source": [
    "Now, let's try the same test on the air travel data before 2019"
   ]
  },
  {
   "cell_type": "code",
   "execution_count": 56,
   "metadata": {},
   "outputs": [],
   "source": [
    "#Clean the data\n",
    "corr_air_2019 = air_data_flip.loc[:, [0, 'Total performeda'] ]\n",
    "corr_air_2019 = corr_air_2019.rename(columns = {0 : 'Year', 'Total performeda' : 'performed_flights'})\n",
    "#corr_air_2019.loc[20, 'Year'] = \"2007\"\n",
    "#corr_air_2019.drop(index = [22, 23], inplace = True)\n",
    "#we are only going to use the data where the flights were recorded every year - the earlier rows were every 5\n",
    "corr_air_2019 = corr_air_2019[corr_air_2019['Year'].astype(int) >= 1990]"
   ]
  },
  {
   "cell_type": "code",
   "execution_count": 57,
   "metadata": {},
   "outputs": [
    {
     "data": {
      "text/html": [
       "<div>\n",
       "<style scoped>\n",
       "    .dataframe tbody tr th:only-of-type {\n",
       "        vertical-align: middle;\n",
       "    }\n",
       "\n",
       "    .dataframe tbody tr th {\n",
       "        vertical-align: top;\n",
       "    }\n",
       "\n",
       "    .dataframe thead th {\n",
       "        text-align: right;\n",
       "    }\n",
       "</style>\n",
       "<table border=\"1\" class=\"dataframe\">\n",
       "  <thead>\n",
       "    <tr style=\"text-align: right;\">\n",
       "      <th>nan</th>\n",
       "      <th>Year</th>\n",
       "      <th>performed_flights</th>\n",
       "    </tr>\n",
       "  </thead>\n",
       "  <tbody>\n",
       "    <tr>\n",
       "      <th>3</th>\n",
       "      <td>1990</td>\n",
       "      <td>6641681</td>\n",
       "    </tr>\n",
       "    <tr>\n",
       "      <th>4</th>\n",
       "      <td>1991</td>\n",
       "      <td>6711203</td>\n",
       "    </tr>\n",
       "    <tr>\n",
       "      <th>5</th>\n",
       "      <td>1992</td>\n",
       "      <td>6897999</td>\n",
       "    </tr>\n",
       "    <tr>\n",
       "      <th>6</th>\n",
       "      <td>1993</td>\n",
       "      <td>7136094</td>\n",
       "    </tr>\n",
       "    <tr>\n",
       "      <th>7</th>\n",
       "      <td>1994</td>\n",
       "      <td>7524909</td>\n",
       "    </tr>\n",
       "    <tr>\n",
       "      <th>8</th>\n",
       "      <td>1995</td>\n",
       "      <td>8036722</td>\n",
       "    </tr>\n",
       "    <tr>\n",
       "      <th>9</th>\n",
       "      <td>1996</td>\n",
       "      <td>8205411</td>\n",
       "    </tr>\n",
       "    <tr>\n",
       "      <th>10</th>\n",
       "      <td>1997</td>\n",
       "      <td>8112516</td>\n",
       "    </tr>\n",
       "    <tr>\n",
       "      <th>11</th>\n",
       "      <td>1998</td>\n",
       "      <td>8308153</td>\n",
       "    </tr>\n",
       "    <tr>\n",
       "      <th>12</th>\n",
       "      <td>1999</td>\n",
       "      <td>8602689</td>\n",
       "    </tr>\n",
       "    <tr>\n",
       "      <th>13</th>\n",
       "      <td>2000</td>\n",
       "      <td>8928902</td>\n",
       "    </tr>\n",
       "    <tr>\n",
       "      <th>14</th>\n",
       "      <td>2001</td>\n",
       "      <td>8548692</td>\n",
       "    </tr>\n",
       "    <tr>\n",
       "      <th>15</th>\n",
       "      <td>2002</td>\n",
       "      <td>8036467</td>\n",
       "    </tr>\n",
       "    <tr>\n",
       "      <th>16</th>\n",
       "      <td>2003</td>\n",
       "      <td>8517814</td>\n",
       "    </tr>\n",
       "    <tr>\n",
       "      <th>17</th>\n",
       "      <td>2004</td>\n",
       "      <td>9376809</td>\n",
       "    </tr>\n",
       "    <tr>\n",
       "      <th>18</th>\n",
       "      <td>2005</td>\n",
       "      <td>9637672</td>\n",
       "    </tr>\n",
       "    <tr>\n",
       "      <th>19</th>\n",
       "      <td>2006</td>\n",
       "      <td>9331550</td>\n",
       "    </tr>\n",
       "    <tr>\n",
       "      <th>20</th>\n",
       "      <td>2007</td>\n",
       "      <td>9417889</td>\n",
       "    </tr>\n",
       "    <tr>\n",
       "      <th>21</th>\n",
       "      <td>2008</td>\n",
       "      <td>9053179</td>\n",
       "    </tr>\n",
       "    <tr>\n",
       "      <th>22</th>\n",
       "      <td>2009</td>\n",
       "      <td>8476010</td>\n",
       "    </tr>\n",
       "    <tr>\n",
       "      <th>23</th>\n",
       "      <td>2010</td>\n",
       "      <td>8450987</td>\n",
       "    </tr>\n",
       "    <tr>\n",
       "      <th>24</th>\n",
       "      <td>2011</td>\n",
       "      <td>8440485</td>\n",
       "    </tr>\n",
       "    <tr>\n",
       "      <th>25</th>\n",
       "      <td>2012</td>\n",
       "      <td>8328338</td>\n",
       "    </tr>\n",
       "    <tr>\n",
       "      <th>26</th>\n",
       "      <td>2013</td>\n",
       "      <td>8273972</td>\n",
       "    </tr>\n",
       "    <tr>\n",
       "      <th>27</th>\n",
       "      <td>2014</td>\n",
       "      <td>8096255</td>\n",
       "    </tr>\n",
       "    <tr>\n",
       "      <th>28</th>\n",
       "      <td>2015</td>\n",
       "      <td>8075113</td>\n",
       "    </tr>\n",
       "    <tr>\n",
       "      <th>29</th>\n",
       "      <td>2016</td>\n",
       "      <td>8210517</td>\n",
       "    </tr>\n",
       "    <tr>\n",
       "      <th>30</th>\n",
       "      <td>2017</td>\n",
       "      <td>8263525</td>\n",
       "    </tr>\n",
       "    <tr>\n",
       "      <th>31</th>\n",
       "      <td>2018</td>\n",
       "      <td>8431304</td>\n",
       "    </tr>\n",
       "    <tr>\n",
       "      <th>32</th>\n",
       "      <td>2019</td>\n",
       "      <td>8637158</td>\n",
       "    </tr>\n",
       "  </tbody>\n",
       "</table>\n",
       "</div>"
      ],
      "text/plain": [
       "nan  Year performed_flights\n",
       "3    1990           6641681\n",
       "4    1991           6711203\n",
       "5    1992           6897999\n",
       "6    1993           7136094\n",
       "7    1994           7524909\n",
       "8    1995           8036722\n",
       "9    1996           8205411\n",
       "10   1997           8112516\n",
       "11   1998           8308153\n",
       "12   1999           8602689\n",
       "13   2000           8928902\n",
       "14   2001           8548692\n",
       "15   2002           8036467\n",
       "16   2003           8517814\n",
       "17   2004           9376809\n",
       "18   2005           9637672\n",
       "19   2006           9331550\n",
       "20   2007           9417889\n",
       "21   2008           9053179\n",
       "22   2009           8476010\n",
       "23   2010           8450987\n",
       "24   2011           8440485\n",
       "25   2012           8328338\n",
       "26   2013           8273972\n",
       "27   2014           8096255\n",
       "28   2015           8075113\n",
       "29   2016           8210517\n",
       "30   2017           8263525\n",
       "31   2018           8431304\n",
       "32   2019           8637158"
      ]
     },
     "execution_count": 57,
     "metadata": {},
     "output_type": "execute_result"
    }
   ],
   "source": [
    "corr_air_2019"
   ]
  },
  {
   "cell_type": "code",
   "execution_count": 58,
   "metadata": {},
   "outputs": [],
   "source": [
    "corr_CO2_2019 = country_CO2_df.groupby(by = 'year').mean().reset_index()\n",
    "corr_CO2_2019 = corr_CO2_2019.loc[:, ['year', 'average']]\n",
    "corr_CO2_2019 = corr_CO2_2019[corr_CO2_2019['year'].isin(corr_air_2019['Year'])]"
   ]
  },
  {
   "cell_type": "code",
   "execution_count": 60,
   "metadata": {},
   "outputs": [
    {
     "data": {
      "text/plain": [
       "Text(0.5, 1.0, 'Distribution of Annual Performed Flights 1990 - 2008')"
      ]
     },
     "execution_count": 60,
     "metadata": {},
     "output_type": "execute_result"
    },
    {
     "data": {
      "image/png": "[encoded data removed]",
      "text/plain": [
       "<Figure size 432x288 with 1 Axes>"
      ]
     },
     "metadata": {
      "needs_background": "light"
     },
     "output_type": "display_data"
    }
   ],
   "source": [
    "plt.hist(x = corr_air_2019['performed_flights'], bins = 'auto')\n",
    "plt.title(\"Distribution of Annual Performed Flights 1990 - 2008\")"
   ]
  },
  {
   "cell_type": "code",
   "execution_count": 61,
   "metadata": {},
   "outputs": [
    {
     "data": {
      "text/plain": [
       "Text(0.5, 1.0, 'Distribution of Annual CO2 Observations 1990 - 2008')"
      ]
     },
     "execution_count": 61,
     "metadata": {},
     "output_type": "execute_result"
    },
    {
     "data": {
      "image/png": "[encoded data removed]",
      "text/plain": [
       "<Figure size 432x288 with 1 Axes>"
      ]
     },
     "metadata": {
      "needs_background": "light"
     },
     "output_type": "display_data"
    }
   ],
   "source": [
    "plt.hist(x =corr_CO2_2019['average'], bins = 'auto' )\n",
    "plt.title(\"Distribution of Annual CO2 Observations 1990 - 2008\")"
   ]
  },
  {
   "cell_type": "markdown",
   "metadata": {},
   "source": [
    "Hmm... while there aren't any outliers in this data, it seems that it has a uniform distribution, not a normal distribution. Because of this, we will use the Spearman's Correlation Coefficient.  \n",
    "\n",
    "  \n",
    "  \n",
    " Let's first visualize it to get a feel for what we expect to see\n"
   ]
  },
  {
   "cell_type": "code",
   "execution_count": 62,
   "metadata": {},
   "outputs": [
    {
     "data": {
      "text/plain": [
       "Text(0, 0.5, 'Annual Mean CO2')"
      ]
     },
     "execution_count": 62,
     "metadata": {},
     "output_type": "execute_result"
    },
    {
     "data": {
      "image/png": "[encoded data removed]",
      "text/plain": [
       "<Figure size 1440x720 with 1 Axes>"
      ]
     },
     "metadata": {
      "needs_background": "light"
     },
     "output_type": "display_data"
    }
   ],
   "source": [
    "plt.figure(figsize=(20,10))\n",
    "plt.scatter(corr_air_2019['performed_flights'].astype(float) ,corr_CO2_2019['average'])\n",
    "plt.title(\"Performed Flights and Annual CO2 levels 1990 - 2019\")\n",
    "plt.xlabel(\"Performed Flights Annually\")\n",
    "plt.ylabel(\"Annual Mean CO2\")"
   ]
  },
  {
   "cell_type": "markdown",
   "metadata": {},
   "source": [
    "That looks like it might have a positive linear correlation. Let's see what the correlation coefficient gives us"
   ]
  },
  {
   "cell_type": "code",
   "execution_count": 63,
   "metadata": {},
   "outputs": [
    {
     "name": "stdout",
     "output_type": "stream",
     "text": [
      "SpearmanrResult(correlation=0.41401557285873186, pvalue=0.022939131729780765)\n"
     ]
    }
   ],
   "source": [
    "transportation_2019_corr = stats.spearmanr(corr_air_2019['performed_flights'].astype(float), corr_CO2_2019['average'].astype(float))\n",
    "print(transportation_2019_corr)"
   ]
  },
  {
   "cell_type": "markdown",
   "metadata": {},
   "source": [
    "Yes, these seem to be have a significant correlation. There is a weak positive correlation between yearly performed flights and the average annual CO2 levels between 1990 and 2019. The correlation coefficient is 0.414 with a p value of 0.023, which is significant"
   ]
  },
  {
   "cell_type": "markdown",
   "metadata": {},
   "source": [
    "Next Let's check the annual vehicle mileage data"
   ]
  },
  {
   "cell_type": "code",
   "execution_count": 64,
   "metadata": {},
   "outputs": [],
   "source": [
    "corr_vmt = vehicle_miles.loc[:, ['Year', 'VMT']]\n",
    "\n",
    "corr_CO2_2009 = country_CO2_df.groupby(by = 'year').mean().reset_index()\n",
    "corr_CO2_2009 = corr_CO2_2009.loc[:, ['year', 'average']]\n",
    "corr_CO2_2009 = corr_CO2_2009[corr_CO2_2009['year'].astype(int).isin(corr_vmt['Year'])]"
   ]
  },
  {
   "cell_type": "code",
   "execution_count": 65,
   "metadata": {},
   "outputs": [
    {
     "data": {
      "text/plain": [
       "Text(0.5, 1.0, 'Distribution of Annual Vehicle Miles Traveled 1990 - 2009')"
      ]
     },
     "execution_count": 65,
     "metadata": {},
     "output_type": "execute_result"
    },
    {
     "data": {
      "image/png": "[encoded data removed]",
      "text/plain": [
       "<Figure size 432x288 with 1 Axes>"
      ]
     },
     "metadata": {
      "needs_background": "light"
     },
     "output_type": "display_data"
    }
   ],
   "source": [
    "plt.hist(x = corr_vmt['VMT'], bins = 'auto')\n",
    "plt.title(\"Distribution of Annual Vehicle Miles Traveled 1990 - 2009\")"
   ]
  },
  {
   "cell_type": "code",
   "execution_count": 66,
   "metadata": {},
   "outputs": [
    {
     "data": {
      "text/plain": [
       "Text(0.5, 1.0, 'Distribution of Annual CO2 Emissions 1990 - 2009')"
      ]
     },
     "execution_count": 66,
     "metadata": {},
     "output_type": "execute_result"
    },
    {
     "data": {
      "image/png": "[encoded data removed]",
      "text/plain": [
       "<Figure size 432x288 with 1 Axes>"
      ]
     },
     "metadata": {
      "needs_background": "light"
     },
     "output_type": "display_data"
    }
   ],
   "source": [
    "plt.hist(x = corr_CO2_2009['average'], bins = 'auto')\n",
    "plt.title(\"Distribution of Annual CO2 Emissions 1990 - 2009\")"
   ]
  },
  {
   "cell_type": "markdown",
   "metadata": {},
   "source": [
    "Again, since this is not normally distributed data, we will use the spearman's correlation coefficient"
   ]
  },
  {
   "cell_type": "code",
   "execution_count": 67,
   "metadata": {},
   "outputs": [
    {
     "data": {
      "text/plain": [
       "Text(0, 0.5, 'Annual Mean CO2 Levels')"
      ]
     },
     "execution_count": 67,
     "metadata": {},
     "output_type": "execute_result"
    },
    {
     "data": {
      "image/png": "[encoded data removed]",
      "text/plain": [
       "<Figure size 1440x720 with 1 Axes>"
      ]
     },
     "metadata": {
      "needs_background": "light"
     },
     "output_type": "display_data"
    }
   ],
   "source": [
    "plt.figure(figsize=(20,10))\n",
    "plt.scatter(corr_vmt['VMT'].astype(float), corr_CO2_2009['average'])\n",
    "plt.title(\"Annual Vehicle Miles Traveled and CO2\")\n",
    "plt.xlabel(\"Vehicle Miles Traveled Annually\")\n",
    "plt.ylabel(\"Annual Mean CO2 Levels\")"
   ]
  },
  {
   "cell_type": "code",
   "execution_count": 68,
   "metadata": {},
   "outputs": [
    {
     "name": "stdout",
     "output_type": "stream",
     "text": [
      "SpearmanrResult(correlation=0.9684210526315788, pvalue=2.6449829899729473e-12)\n"
     ]
    }
   ],
   "source": [
    "vehicle_miles_corr = stats.spearmanr(corr_vmt['VMT'].astype(float), corr_CO2_2009['average'].astype(float))\n",
    "print(vehicle_miles_corr)"
   ]
  },
  {
   "cell_type": "markdown",
   "metadata": {},
   "source": [
    "There is a 0.9684 correlation coefficient between the annual vehicle miles traveled and the mean annual CO2 values between 1990 and 2009. This indicates a positive correlation, and since the p value is 0.000000000002645, we know that this correlation is significant"
   ]
  },
  {
   "cell_type": "code",
   "execution_count": 69,
   "metadata": {},
   "outputs": [],
   "source": [
    "highway_monthly_df = transportation_df.loc[:, ['Highway Vehicle Miles Traveled - All Systems', 'Month', 'Year']]\n",
    "highway_monthly_df.rename(columns = {'Highway Vehicle Miles Traveled - All Systems' : 'highway_miles'}, inplace = True)\n",
    "highway_monthly_df = highway_monthly_df[~highway_monthly_df['highway_miles'].isna()]\n",
    "highway_monthly_df['highway_miles'] = [float(str(val).replace(',', '')) for val in highway_monthly_df['highway_miles']]\n",
    "highway_monthly_df['Month-Year'] = highway_monthly_df.loc[: , 'Month'].astype(str) + '-' + highway_monthly_df.loc[:, 'Year'].astype(str)\n",
    "highway_monthly_df = highway_monthly_df[highway_monthly_df['Year'] < 2020]"
   ]
  },
  {
   "cell_type": "code",
   "execution_count": 70,
   "metadata": {},
   "outputs": [],
   "source": [
    "CO2_2018 = country_CO2_df[country_CO2_df['year'].astype(int).isin(highway_monthly_df['Year'])]"
   ]
  },
  {
   "cell_type": "code",
   "execution_count": 71,
   "metadata": {},
   "outputs": [
    {
     "data": {
      "text/plain": [
       "Text(0.5, 1.0, 'Distribution of Monthly Vehicle Miles Traveled 2018 - 2019')"
      ]
     },
     "execution_count": 71,
     "metadata": {},
     "output_type": "execute_result"
    },
    {
     "data": {
      "image/png": "[encoded data removed]",
      "text/plain": [
       "<Figure size 432x288 with 1 Axes>"
      ]
     },
     "metadata": {
      "needs_background": "light"
     },
     "output_type": "display_data"
    }
   ],
   "source": [
    "plt.hist(x = highway_monthly_df['highway_miles'], bins = 'auto')\n",
    "plt.title(\"Distribution of Monthly Vehicle Miles Traveled 2018 - 2019\")"
   ]
  },
  {
   "cell_type": "code",
   "execution_count": 72,
   "metadata": {},
   "outputs": [
    {
     "data": {
      "text/plain": [
       "Text(0.5, 1.0, 'Distribution of Monthly CO2 levels 2018 - 2019')"
      ]
     },
     "execution_count": 72,
     "metadata": {},
     "output_type": "execute_result"
    },
    {
     "data": {
      "image/png": "[encoded data removed]",
      "text/plain": [
       "<Figure size 432x288 with 1 Axes>"
      ]
     },
     "metadata": {
      "needs_background": "light"
     },
     "output_type": "display_data"
    }
   ],
   "source": [
    "plt.hist(x = CO2_2018['average'], bins = 'auto')\n",
    "plt.title(\"Distribution of Monthly CO2 levels 2018 - 2019\")"
   ]
  },
  {
   "cell_type": "code",
   "execution_count": 73,
   "metadata": {},
   "outputs": [
    {
     "data": {
      "text/plain": [
       "<matplotlib.collections.PathCollection at 0x1d4b9e817c0>"
      ]
     },
     "execution_count": 73,
     "metadata": {},
     "output_type": "execute_result"
    },
    {
     "data": {
      "image/png": "[encoded data removed]",
      "text/plain": [
       "<Figure size 432x288 with 1 Axes>"
      ]
     },
     "metadata": {
      "needs_background": "light"
     },
     "output_type": "display_data"
    }
   ],
   "source": [
    "plt.scatter(highway_monthly_df['highway_miles'], CO2_2018['average'].astype(float))"
   ]
  },
  {
   "cell_type": "markdown",
   "metadata": {},
   "source": [
    "Since this data is normally distributed and appears to have a linear relationship, we can use the pearson correlation coefficient"
   ]
  },
  {
   "cell_type": "code",
   "execution_count": 74,
   "metadata": {},
   "outputs": [
    {
     "name": "stdout",
     "output_type": "stream",
     "text": [
      "(0.1549041534679378, 0.469838883918301)\n"
     ]
    }
   ],
   "source": [
    "highway_monthly_corr = stats.pearsonr(highway_monthly_df['highway_miles'], CO2_2018['average'].astype(float))\n",
    "print(highway_monthly_corr)"
   ]
  },
  {
   "cell_type": "markdown",
   "metadata": {},
   "source": [
    "We see here that monthly vehicle miles traveled and CO2 levels do not have a statistically significant correlation from 2018 - 2019"
   ]
  },
  {
   "cell_type": "markdown",
   "metadata": {},
   "source": [
    "All in all, we see the following statistically significant Correlations:\n",
    "\n",
    "Air Traffic:\n",
    "* There is a statistically significant, weak, positive correlation between monthly air traffic and CO2 levels 2017-2019\n",
    "* There is a statistically significant, weak, positive correlation between annual performed flights and mean annual CO2 levels 1990 - 2019\n",
    "\n",
    "Vehicle Highway Miles Traveled:\n",
    "\n",
    "* There is a highly statistically significant, strong, positive correlation between annual vehicle miles traveled and mean annual CO2 levels 1990 - 2009"
   ]
  },
  {
   "cell_type": "code",
   "execution_count": null,
   "metadata": {},
   "outputs": [],
   "source": []
  }
 ],
 "metadata": {
  "kernelspec": {
   "display_name": "Python 3",
   "language": "python",
   "name": "python3"
  },
  "language_info": {
   "codemirror_mode": {
    "name": "ipython",
    "version": 3
   },
   "file_extension": ".py",
   "mimetype": "text/x-python",
   "name": "python",
   "nbconvert_exporter": "python",
   "pygments_lexer": "ipython3",
   "version": "3.8.3"
  }
 },
 "nbformat": 4,
 "nbformat_minor": 2
}
