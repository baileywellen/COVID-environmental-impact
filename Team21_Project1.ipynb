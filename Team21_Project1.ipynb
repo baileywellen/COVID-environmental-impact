{
 "cells": [
  {
   "cell_type": "markdown",
   "metadata": {},
   "source": [
    "# How has the COVID-19 pandemic affected air quality and single-use plastic waste in the U.S.?"
   ]
  },
  {
   "cell_type": "code",
   "execution_count": 1,
   "metadata": {},
   "outputs": [],
   "source": [
    "import pandas as pd\n",
    "import numpy as np\n",
    "import matplotlib.pyplot as plt\n",
    "import seaborn as sns\n",
    "import statsmodels.api as sm\n",
    "from statsmodels.formula.api import ols\n",
    "import statsmodels\n",
    "from scipy import stats\n",
    "from pingouin import pairwise_ttests #this is for performing the pairwise tests"
   ]
  },
  {
   "cell_type": "markdown",
   "metadata": {},
   "source": [
    "<p>The following datasets are taken from Federal Reserve Bank of St. Louis Plastic Manufacturing Dataset:\n",
    "https://fred.stlouisfed.org/searchresults/?st=plastic&t=plastics%3Bmonthly%3Btrade&rt=trade&ob=sr\n",
    "\n",
    "Note: U.S. recessions should probably be taken into account as a confounding factor.</p>"
   ]
  },
  {
   "cell_type": "code",
   "execution_count": 5,
   "metadata": {},
   "outputs": [],
   "source": [
    "# Dataset 'Producer Price Index by Commodity: Rubber and Plastic Products: Plastic Packaging Products'\n",
    "# Index Dec 2006=100, Not Seasonally Adjusted\n",
    "Plastic_packaging = pd.read_csv('../WPU072A.csv')\n",
    "\n",
    "# Dataset 'Producer Price Index by Industry: Material Recyclers: Recyclable Plastics'\n",
    "# Index Jun 1996=100, Not Seasonally Adjusted\n",
    "# Note: there is a gap in the dataset: data between around January 2004 and around June 2004 is missing\n",
    "# Might need to impute?\n",
    "Recyclers_recyclable_plastics = pd.read_csv('../PCU42993042993042.csv')\n",
    "\n",
    "# Dataset 'Producer Price Index by Commodity: Rubber and Plastic Products: Recyclable Plastics'\n",
    "# Index Dec 2011=100, Not Seasonally Adjusted\n",
    "Rubber_and_Plastic_recyclable_plastics = pd.read_csv('../WPU072C.csv')\n",
    "\n",
    "# Dataset 'Producer Price Index by Industry: Plastics Material and Resins Manufacturing'\n",
    "# Index Dec 1980=100, Not Seasonally Adjusted\n",
    "Plastic_and_resin = pd.read_csv('../PCU325211325211.csv')\n",
    "\n",
    "# Dataset 'Producer Price Index by Industry: Plastics Packaging Film and Sheet Manufacturing: Coextruded Single-Web Film, for Flexible Packaging Uses'\n",
    "# Index Jun 2007=100, Not Seasonally Adjusted\n",
    "Plastic_film_and_sheet = pd.read_csv('../PCU32611232611212.csv')\n",
    "\n",
    "# Dataset 'Producer Price Index by Commodity: Rubber and Plastic Products: Unlaminated Polyethylene Film and Sheet'\n",
    "# Index Jun 1993=100, Not Seasonally Adjusted\n",
    "# Data missing from June 2007 until July 2013 - impute?\n",
    "Unlam_poly_film_and_sheet = pd.read_csv('../WPU072205011.csv')\n",
    "\n",
    "# Dataset 'Producer Price Index by Commodity: Rubber and Plastic Products: Packaging Polyurethane Foam Products'\n",
    "# Index Dec 2009=100, Not Seasonally Adjusted\n",
    "# Note: data missing in interval May-June 2018 - need to impute?\n",
    "Polyurethane_foam = pd.read_csv('../WPU072A01013.csv')\n",
    "\n",
    "# Dataset 'Industrial Production: Manufacturing: Non-Durable Goods: Plastics Material and Resin'\n",
    "# Index 2012=100, Seasonally Adjusted\n",
    "Plastic_and_resin_manu = pd.read_csv('../IPN325211S.csv')\n",
    "\n",
    "# Dataset 'Producer Price Index by Commodity: Rubber and Plastic Products: Unlaminated Vinyl and Vinyl Copolymer Film and Sheet'\n",
    "# Index Dec 2011=100, Not Seasonally Adjusted\n",
    "Vinyl_film_and_sheet = pd.read_csv('../WPU072205013.csv')\n",
    "\n",
    "# Dataset 'Producer Price Index by Industry: Plastics Product Manufacturing'\n",
    "# Index Jun 1993=100, Not Seasonally Adjusted\n",
    "Plastic_manu = pd.read_csv('../PCU32613261.csv')\n",
    "\n",
    "# Dataset 'Producer Price Index by Commodity: Rubber and Plastic Products: Plastic Products'\n",
    "# Index 1982=100, Not Seasonally Adjusted\n",
    "Plastic = pd.read_csv('../WPU072.csv')\n",
    "\n",
    "# Dataset 'Producer Price Index by Industry: Plastics Bag and Pouch Manufacturing: Other Polyethylene Bags, Pouches, and Liners'\n",
    "# Index Jun 2007=100, Not Seasonally Adjusted\n",
    "# Note: delete first datapoint - it's temporally separated from all the rest\n",
    "Plastic_bags = pd.read_csv('../PCU32611132611115.csv')\n",
    "\n",
    "# Dataset 'Producer Price Index by Industry: Plastics Packaging Film and Sheet Manufacturing'\n",
    "# Index Dec 2003=100, Not Seasonally Adjusted\n",
    "Plastic_film_and_sheet_manu = pd.read_csv('../PCU326112326112.csv')\n",
    "\n",
    "# Dataset 'Producer Price Index by Industry: Plastics Packaging Film and Sheet Manufacturing: Polypropylene/Polypropylene Multiweb Laminated Rolls and Sheets, for Flexible Packaging Uses'\n",
    "# Index Jun 2007=100, Not Seasonally Adjusted\n",
    "Polypropylene_packaging = pd.read_csv('../PCU32611232611231.csv')\n",
    "\n",
    "# Dataset 'Producer Price Index by Industry: Plastics Bag and Pouch Manufacturing: Polyethylene Refuse Bags'\n",
    "# Index Jun 2007=100, Not Seasonally Adjusted\n",
    "# Note: delete first datapoint - it's temporally separated from all the rest\n",
    "Polyethylene_refuse_bags = pd.read_csv('../PCU32611132611112.csv')"
   ]
  },
  {
   "cell_type": "code",
   "execution_count": 7,
   "metadata": {},
   "outputs": [
    {
     "data": {
      "text/plain": [
       "(583, 2)"
      ]
     },
     "execution_count": 7,
     "metadata": {},
     "output_type": "execute_result"
    }
   ],
   "source": [
    "Plastic_and_resin_manu.shape"
   ]
  },
  {
   "cell_type": "code",
   "execution_count": 8,
   "metadata": {},
   "outputs": [
    {
     "data": {
      "text/html": [
       "<div>\n",
       "<style scoped>\n",
       "    .dataframe tbody tr th:only-of-type {\n",
       "        vertical-align: middle;\n",
       "    }\n",
       "\n",
       "    .dataframe tbody tr th {\n",
       "        vertical-align: top;\n",
       "    }\n",
       "\n",
       "    .dataframe thead th {\n",
       "        text-align: right;\n",
       "    }\n",
       "</style>\n",
       "<table border=\"1\" class=\"dataframe\">\n",
       "  <thead>\n",
       "    <tr style=\"text-align: right;\">\n",
       "      <th></th>\n",
       "      <th>DATE</th>\n",
       "      <th>IPN325211S</th>\n",
       "    </tr>\n",
       "  </thead>\n",
       "  <tbody>\n",
       "    <tr>\n",
       "      <th>0</th>\n",
       "      <td>1972-01-01</td>\n",
       "      <td>38.9872</td>\n",
       "    </tr>\n",
       "    <tr>\n",
       "      <th>1</th>\n",
       "      <td>1972-02-01</td>\n",
       "      <td>38.8303</td>\n",
       "    </tr>\n",
       "    <tr>\n",
       "      <th>2</th>\n",
       "      <td>1972-03-01</td>\n",
       "      <td>40.1707</td>\n",
       "    </tr>\n",
       "    <tr>\n",
       "      <th>3</th>\n",
       "      <td>1972-04-01</td>\n",
       "      <td>40.5691</td>\n",
       "    </tr>\n",
       "    <tr>\n",
       "      <th>4</th>\n",
       "      <td>1972-05-01</td>\n",
       "      <td>41.0615</td>\n",
       "    </tr>\n",
       "  </tbody>\n",
       "</table>\n",
       "</div>"
      ],
      "text/plain": [
       "         DATE  IPN325211S\n",
       "0  1972-01-01     38.9872\n",
       "1  1972-02-01     38.8303\n",
       "2  1972-03-01     40.1707\n",
       "3  1972-04-01     40.5691\n",
       "4  1972-05-01     41.0615"
      ]
     },
     "execution_count": 8,
     "metadata": {},
     "output_type": "execute_result"
    }
   ],
   "source": [
    "Plastic_and_resin_manu.head()"
   ]
  },
  {
   "cell_type": "code",
   "execution_count": null,
   "metadata": {},
   "outputs": [],
   "source": []
  }
 ],
 "metadata": {
  "kernelspec": {
   "display_name": "Python 3",
   "language": "python",
   "name": "python3"
  },
  "language_info": {
   "codemirror_mode": {
    "name": "ipython",
    "version": 3
   },
   "file_extension": ".py",
   "mimetype": "text/x-python",
   "name": "python",
   "nbconvert_exporter": "python",
   "pygments_lexer": "ipython3",
   "version": "3.6.7"
  }
 },
 "nbformat": 4,
 "nbformat_minor": 2
}
