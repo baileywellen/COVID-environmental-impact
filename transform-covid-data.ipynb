{
 "cells": [
  {
   "cell_type": "markdown",
   "metadata": {},
   "source": [
    "This Notebook is to perform EDA on the COVID datasets and to group the data so that it can be compared to the air quality and CO2 data"
   ]
  },
  {
   "cell_type": "code",
   "execution_count": 52,
   "metadata": {},
   "outputs": [],
   "source": [
    "import pandas as pd\n",
    "import matplotlib.pyplot as plt\n",
    "import numpy as np\n",
    "from pandas.api.types import is_numeric_dtype\n",
    "from scipy import stats"
   ]
  },
  {
   "cell_type": "code",
   "execution_count": 2,
   "metadata": {},
   "outputs": [],
   "source": [
    "covid_cases_df = pd.read_csv(\"./data/raw_data/covid_confirmed_usafacts.csv\")\n",
    "covid_deaths_df = pd.read_csv(\"./data/raw_data/covid_deaths_usafacts.csv\")\n",
    "county_population = pd.read_csv(\"./data/raw_data/covid_county_population_usafacts.csv\")\n",
    "census_df = pd.read_csv(\"./data/raw_data/county_population_census.csv\", encoding = \"ISO-8859-1\")"
   ]
  },
  {
   "cell_type": "markdown",
   "metadata": {},
   "source": [
    "Take a look at the dataframes\n"
   ]
  },
  {
   "cell_type": "code",
   "execution_count": 3,
   "metadata": {},
   "outputs": [
    {
     "data": {
      "text/html": [
       "<div>\n",
       "<style scoped>\n",
       "    .dataframe tbody tr th:only-of-type {\n",
       "        vertical-align: middle;\n",
       "    }\n",
       "\n",
       "    .dataframe tbody tr th {\n",
       "        vertical-align: top;\n",
       "    }\n",
       "\n",
       "    .dataframe thead th {\n",
       "        text-align: right;\n",
       "    }\n",
       "</style>\n",
       "<table border=\"1\" class=\"dataframe\">\n",
       "  <thead>\n",
       "    <tr style=\"text-align: right;\">\n",
       "      <th></th>\n",
       "      <th>countyFIPS</th>\n",
       "      <th>County Name</th>\n",
       "      <th>State</th>\n",
       "      <th>stateFIPS</th>\n",
       "      <th>1/22/20</th>\n",
       "      <th>1/23/20</th>\n",
       "      <th>1/24/20</th>\n",
       "      <th>1/25/20</th>\n",
       "      <th>1/26/20</th>\n",
       "      <th>1/27/20</th>\n",
       "      <th>...</th>\n",
       "      <th>9/29/20</th>\n",
       "      <th>9/30/20</th>\n",
       "      <th>10/1/20</th>\n",
       "      <th>10/2/20</th>\n",
       "      <th>10/3/20</th>\n",
       "      <th>10/4/20</th>\n",
       "      <th>10/5/20</th>\n",
       "      <th>10/6/20</th>\n",
       "      <th>10/7/20</th>\n",
       "      <th>10/8/20</th>\n",
       "    </tr>\n",
       "  </thead>\n",
       "  <tbody>\n",
       "    <tr>\n",
       "      <th>0</th>\n",
       "      <td>0</td>\n",
       "      <td>Statewide Unallocated</td>\n",
       "      <td>AL</td>\n",
       "      <td>1</td>\n",
       "      <td>0</td>\n",
       "      <td>0</td>\n",
       "      <td>0</td>\n",
       "      <td>0</td>\n",
       "      <td>0</td>\n",
       "      <td>0</td>\n",
       "      <td>...</td>\n",
       "      <td>0</td>\n",
       "      <td>0</td>\n",
       "      <td>0</td>\n",
       "      <td>0</td>\n",
       "      <td>0</td>\n",
       "      <td>0</td>\n",
       "      <td>0</td>\n",
       "      <td>0</td>\n",
       "      <td>0</td>\n",
       "      <td>0</td>\n",
       "    </tr>\n",
       "    <tr>\n",
       "      <th>1</th>\n",
       "      <td>1001</td>\n",
       "      <td>Autauga County</td>\n",
       "      <td>AL</td>\n",
       "      <td>1</td>\n",
       "      <td>0</td>\n",
       "      <td>0</td>\n",
       "      <td>0</td>\n",
       "      <td>0</td>\n",
       "      <td>0</td>\n",
       "      <td>0</td>\n",
       "      <td>...</td>\n",
       "      <td>1787</td>\n",
       "      <td>1791</td>\n",
       "      <td>1798</td>\n",
       "      <td>1805</td>\n",
       "      <td>1818</td>\n",
       "      <td>1828</td>\n",
       "      <td>1831</td>\n",
       "      <td>1839</td>\n",
       "      <td>1852</td>\n",
       "      <td>1863</td>\n",
       "    </tr>\n",
       "    <tr>\n",
       "      <th>2</th>\n",
       "      <td>1003</td>\n",
       "      <td>Baldwin County</td>\n",
       "      <td>AL</td>\n",
       "      <td>1</td>\n",
       "      <td>0</td>\n",
       "      <td>0</td>\n",
       "      <td>0</td>\n",
       "      <td>0</td>\n",
       "      <td>0</td>\n",
       "      <td>0</td>\n",
       "      <td>...</td>\n",
       "      <td>5606</td>\n",
       "      <td>5640</td>\n",
       "      <td>5997</td>\n",
       "      <td>6024</td>\n",
       "      <td>6048</td>\n",
       "      <td>6073</td>\n",
       "      <td>6085</td>\n",
       "      <td>6116</td>\n",
       "      <td>6134</td>\n",
       "      <td>6141</td>\n",
       "    </tr>\n",
       "    <tr>\n",
       "      <th>3</th>\n",
       "      <td>1005</td>\n",
       "      <td>Barbour County</td>\n",
       "      <td>AL</td>\n",
       "      <td>1</td>\n",
       "      <td>0</td>\n",
       "      <td>0</td>\n",
       "      <td>0</td>\n",
       "      <td>0</td>\n",
       "      <td>0</td>\n",
       "      <td>0</td>\n",
       "      <td>...</td>\n",
       "      <td>886</td>\n",
       "      <td>896</td>\n",
       "      <td>898</td>\n",
       "      <td>902</td>\n",
       "      <td>921</td>\n",
       "      <td>921</td>\n",
       "      <td>921</td>\n",
       "      <td>923</td>\n",
       "      <td>927</td>\n",
       "      <td>927</td>\n",
       "    </tr>\n",
       "    <tr>\n",
       "      <th>4</th>\n",
       "      <td>1007</td>\n",
       "      <td>Bibb County</td>\n",
       "      <td>AL</td>\n",
       "      <td>1</td>\n",
       "      <td>0</td>\n",
       "      <td>0</td>\n",
       "      <td>0</td>\n",
       "      <td>0</td>\n",
       "      <td>0</td>\n",
       "      <td>0</td>\n",
       "      <td>...</td>\n",
       "      <td>658</td>\n",
       "      <td>664</td>\n",
       "      <td>672</td>\n",
       "      <td>675</td>\n",
       "      <td>678</td>\n",
       "      <td>686</td>\n",
       "      <td>687</td>\n",
       "      <td>691</td>\n",
       "      <td>703</td>\n",
       "      <td>708</td>\n",
       "    </tr>\n",
       "  </tbody>\n",
       "</table>\n",
       "<p>5 rows × 265 columns</p>\n",
       "</div>"
      ],
      "text/plain": [
       "   countyFIPS            County Name State  stateFIPS  1/22/20  1/23/20  \\\n",
       "0           0  Statewide Unallocated    AL          1        0        0   \n",
       "1        1001         Autauga County    AL          1        0        0   \n",
       "2        1003         Baldwin County    AL          1        0        0   \n",
       "3        1005         Barbour County    AL          1        0        0   \n",
       "4        1007            Bibb County    AL          1        0        0   \n",
       "\n",
       "   1/24/20  1/25/20  1/26/20  1/27/20  ...  9/29/20  9/30/20  10/1/20  \\\n",
       "0        0        0        0        0  ...        0        0        0   \n",
       "1        0        0        0        0  ...     1787     1791     1798   \n",
       "2        0        0        0        0  ...     5606     5640     5997   \n",
       "3        0        0        0        0  ...      886      896      898   \n",
       "4        0        0        0        0  ...      658      664      672   \n",
       "\n",
       "   10/2/20  10/3/20  10/4/20  10/5/20  10/6/20  10/7/20  10/8/20  \n",
       "0        0        0        0        0        0        0        0  \n",
       "1     1805     1818     1828     1831     1839     1852     1863  \n",
       "2     6024     6048     6073     6085     6116     6134     6141  \n",
       "3      902      921      921      921      923      927      927  \n",
       "4      675      678      686      687      691      703      708  \n",
       "\n",
       "[5 rows x 265 columns]"
      ]
     },
     "execution_count": 3,
     "metadata": {},
     "output_type": "execute_result"
    }
   ],
   "source": [
    "covid_cases_df.head()"
   ]
  },
  {
   "cell_type": "code",
   "execution_count": 4,
   "metadata": {},
   "outputs": [
    {
     "data": {
      "text/html": [
       "<div>\n",
       "<style scoped>\n",
       "    .dataframe tbody tr th:only-of-type {\n",
       "        vertical-align: middle;\n",
       "    }\n",
       "\n",
       "    .dataframe tbody tr th {\n",
       "        vertical-align: top;\n",
       "    }\n",
       "\n",
       "    .dataframe thead th {\n",
       "        text-align: right;\n",
       "    }\n",
       "</style>\n",
       "<table border=\"1\" class=\"dataframe\">\n",
       "  <thead>\n",
       "    <tr style=\"text-align: right;\">\n",
       "      <th></th>\n",
       "      <th>countyFIPS</th>\n",
       "      <th>County Name</th>\n",
       "      <th>State</th>\n",
       "      <th>stateFIPS</th>\n",
       "      <th>1/22/20</th>\n",
       "      <th>1/23/20</th>\n",
       "      <th>1/24/20</th>\n",
       "      <th>1/25/20</th>\n",
       "      <th>1/26/20</th>\n",
       "      <th>1/27/20</th>\n",
       "      <th>...</th>\n",
       "      <th>9/29/20</th>\n",
       "      <th>9/30/20</th>\n",
       "      <th>10/1/20</th>\n",
       "      <th>10/2/20</th>\n",
       "      <th>10/3/20</th>\n",
       "      <th>10/4/20</th>\n",
       "      <th>10/5/20</th>\n",
       "      <th>10/6/20</th>\n",
       "      <th>10/7/20</th>\n",
       "      <th>10/8/20</th>\n",
       "    </tr>\n",
       "  </thead>\n",
       "  <tbody>\n",
       "    <tr>\n",
       "      <th>0</th>\n",
       "      <td>0</td>\n",
       "      <td>Statewide Unallocated</td>\n",
       "      <td>AL</td>\n",
       "      <td>1</td>\n",
       "      <td>0</td>\n",
       "      <td>0</td>\n",
       "      <td>0</td>\n",
       "      <td>0</td>\n",
       "      <td>0</td>\n",
       "      <td>0</td>\n",
       "      <td>...</td>\n",
       "      <td>0</td>\n",
       "      <td>0</td>\n",
       "      <td>0</td>\n",
       "      <td>0</td>\n",
       "      <td>0</td>\n",
       "      <td>0</td>\n",
       "      <td>0</td>\n",
       "      <td>0</td>\n",
       "      <td>0</td>\n",
       "      <td>0</td>\n",
       "    </tr>\n",
       "    <tr>\n",
       "      <th>1</th>\n",
       "      <td>1001</td>\n",
       "      <td>Autauga County</td>\n",
       "      <td>AL</td>\n",
       "      <td>1</td>\n",
       "      <td>0</td>\n",
       "      <td>0</td>\n",
       "      <td>0</td>\n",
       "      <td>0</td>\n",
       "      <td>0</td>\n",
       "      <td>0</td>\n",
       "      <td>...</td>\n",
       "      <td>27</td>\n",
       "      <td>27</td>\n",
       "      <td>27</td>\n",
       "      <td>27</td>\n",
       "      <td>27</td>\n",
       "      <td>27</td>\n",
       "      <td>27</td>\n",
       "      <td>27</td>\n",
       "      <td>27</td>\n",
       "      <td>28</td>\n",
       "    </tr>\n",
       "    <tr>\n",
       "      <th>2</th>\n",
       "      <td>1003</td>\n",
       "      <td>Baldwin County</td>\n",
       "      <td>AL</td>\n",
       "      <td>1</td>\n",
       "      <td>0</td>\n",
       "      <td>0</td>\n",
       "      <td>0</td>\n",
       "      <td>0</td>\n",
       "      <td>0</td>\n",
       "      <td>0</td>\n",
       "      <td>...</td>\n",
       "      <td>50</td>\n",
       "      <td>52</td>\n",
       "      <td>53</td>\n",
       "      <td>53</td>\n",
       "      <td>53</td>\n",
       "      <td>53</td>\n",
       "      <td>53</td>\n",
       "      <td>55</td>\n",
       "      <td>56</td>\n",
       "      <td>64</td>\n",
       "    </tr>\n",
       "    <tr>\n",
       "      <th>3</th>\n",
       "      <td>1005</td>\n",
       "      <td>Barbour County</td>\n",
       "      <td>AL</td>\n",
       "      <td>1</td>\n",
       "      <td>0</td>\n",
       "      <td>0</td>\n",
       "      <td>0</td>\n",
       "      <td>0</td>\n",
       "      <td>0</td>\n",
       "      <td>0</td>\n",
       "      <td>...</td>\n",
       "      <td>7</td>\n",
       "      <td>7</td>\n",
       "      <td>7</td>\n",
       "      <td>7</td>\n",
       "      <td>7</td>\n",
       "      <td>7</td>\n",
       "      <td>7</td>\n",
       "      <td>7</td>\n",
       "      <td>7</td>\n",
       "      <td>9</td>\n",
       "    </tr>\n",
       "    <tr>\n",
       "      <th>4</th>\n",
       "      <td>1007</td>\n",
       "      <td>Bibb County</td>\n",
       "      <td>AL</td>\n",
       "      <td>1</td>\n",
       "      <td>0</td>\n",
       "      <td>0</td>\n",
       "      <td>0</td>\n",
       "      <td>0</td>\n",
       "      <td>0</td>\n",
       "      <td>0</td>\n",
       "      <td>...</td>\n",
       "      <td>10</td>\n",
       "      <td>10</td>\n",
       "      <td>10</td>\n",
       "      <td>10</td>\n",
       "      <td>10</td>\n",
       "      <td>10</td>\n",
       "      <td>10</td>\n",
       "      <td>10</td>\n",
       "      <td>10</td>\n",
       "      <td>12</td>\n",
       "    </tr>\n",
       "  </tbody>\n",
       "</table>\n",
       "<p>5 rows × 265 columns</p>\n",
       "</div>"
      ],
      "text/plain": [
       "   countyFIPS            County Name State  stateFIPS  1/22/20  1/23/20  \\\n",
       "0           0  Statewide Unallocated    AL          1        0        0   \n",
       "1        1001         Autauga County    AL          1        0        0   \n",
       "2        1003         Baldwin County    AL          1        0        0   \n",
       "3        1005         Barbour County    AL          1        0        0   \n",
       "4        1007            Bibb County    AL          1        0        0   \n",
       "\n",
       "   1/24/20  1/25/20  1/26/20  1/27/20  ...  9/29/20  9/30/20  10/1/20  \\\n",
       "0        0        0        0        0  ...        0        0        0   \n",
       "1        0        0        0        0  ...       27       27       27   \n",
       "2        0        0        0        0  ...       50       52       53   \n",
       "3        0        0        0        0  ...        7        7        7   \n",
       "4        0        0        0        0  ...       10       10       10   \n",
       "\n",
       "   10/2/20  10/3/20  10/4/20  10/5/20  10/6/20  10/7/20  10/8/20  \n",
       "0        0        0        0        0        0        0        0  \n",
       "1       27       27       27       27       27       27       28  \n",
       "2       53       53       53       53       55       56       64  \n",
       "3        7        7        7        7        7        7        9  \n",
       "4       10       10       10       10       10       10       12  \n",
       "\n",
       "[5 rows x 265 columns]"
      ]
     },
     "execution_count": 4,
     "metadata": {},
     "output_type": "execute_result"
    }
   ],
   "source": [
    "covid_deaths_df.head()"
   ]
  },
  {
   "cell_type": "code",
   "execution_count": 5,
   "metadata": {},
   "outputs": [
    {
     "data": {
      "text/html": [
       "<div>\n",
       "<style scoped>\n",
       "    .dataframe tbody tr th:only-of-type {\n",
       "        vertical-align: middle;\n",
       "    }\n",
       "\n",
       "    .dataframe tbody tr th {\n",
       "        vertical-align: top;\n",
       "    }\n",
       "\n",
       "    .dataframe thead th {\n",
       "        text-align: right;\n",
       "    }\n",
       "</style>\n",
       "<table border=\"1\" class=\"dataframe\">\n",
       "  <thead>\n",
       "    <tr style=\"text-align: right;\">\n",
       "      <th></th>\n",
       "      <th>countyFIPS</th>\n",
       "      <th>County Name</th>\n",
       "      <th>State</th>\n",
       "      <th>population</th>\n",
       "    </tr>\n",
       "  </thead>\n",
       "  <tbody>\n",
       "    <tr>\n",
       "      <th>0</th>\n",
       "      <td>0</td>\n",
       "      <td>Statewide Unallocated</td>\n",
       "      <td>AL</td>\n",
       "      <td>0</td>\n",
       "    </tr>\n",
       "    <tr>\n",
       "      <th>1</th>\n",
       "      <td>1001</td>\n",
       "      <td>Autauga County</td>\n",
       "      <td>AL</td>\n",
       "      <td>55869</td>\n",
       "    </tr>\n",
       "    <tr>\n",
       "      <th>2</th>\n",
       "      <td>1003</td>\n",
       "      <td>Baldwin County</td>\n",
       "      <td>AL</td>\n",
       "      <td>223234</td>\n",
       "    </tr>\n",
       "    <tr>\n",
       "      <th>3</th>\n",
       "      <td>1005</td>\n",
       "      <td>Barbour County</td>\n",
       "      <td>AL</td>\n",
       "      <td>24686</td>\n",
       "    </tr>\n",
       "    <tr>\n",
       "      <th>4</th>\n",
       "      <td>1007</td>\n",
       "      <td>Bibb County</td>\n",
       "      <td>AL</td>\n",
       "      <td>22394</td>\n",
       "    </tr>\n",
       "  </tbody>\n",
       "</table>\n",
       "</div>"
      ],
      "text/plain": [
       "   countyFIPS            County Name State  population\n",
       "0           0  Statewide Unallocated    AL           0\n",
       "1        1001         Autauga County    AL       55869\n",
       "2        1003         Baldwin County    AL      223234\n",
       "3        1005         Barbour County    AL       24686\n",
       "4        1007            Bibb County    AL       22394"
      ]
     },
     "execution_count": 5,
     "metadata": {},
     "output_type": "execute_result"
    }
   ],
   "source": [
    "county_population.head()"
   ]
  },
  {
   "cell_type": "markdown",
   "metadata": {},
   "source": [
    "Because our CO2 data is at the state level, we will want some of this data to be grouped by state so it can be spatially compared to the air quality"
   ]
  },
  {
   "cell_type": "code",
   "execution_count": 6,
   "metadata": {},
   "outputs": [],
   "source": [
    "state_cases_df = covid_cases_df.groupby(by = [\"State\"]).sum()\n",
    "\n",
    "#the sum of countyFIPS and stateFIPS is not helpful to us here - let's remove it\n",
    "state_cases_df.drop(columns = [\"countyFIPS\", \"stateFIPS\"], inplace = True)\n",
    "\n",
    "#Next, we want the State column to be it's own column instead of the row index. \n",
    "state_cases_df = state_cases_df.reset_index()\n"
   ]
  },
  {
   "cell_type": "code",
   "execution_count": 7,
   "metadata": {},
   "outputs": [],
   "source": [
    "#Do the same thing to the deaths dataframe\n",
    "state_deaths_df = covid_deaths_df.groupby(by = [\"State\"]).sum()\n",
    "state_deaths_df.drop(columns = [\"countyFIPS\", \"stateFIPS\"], inplace = True)\n",
    "state_deaths_df = state_deaths_df.reset_index()"
   ]
  },
  {
   "cell_type": "markdown",
   "metadata": {},
   "source": [
    "Now we have the number of COVID cases and deaths for each state... but should we really compare the number of cases in California with the number of cases in Montana? Here, I am joining the population data to our state-level COVID dataframes to standardize the counts"
   ]
  },
  {
   "cell_type": "code",
   "execution_count": 8,
   "metadata": {},
   "outputs": [],
   "source": [
    "#Instead of lookiing at all of the county-level populations,we can just take the state-level because our other data is also at the state level \n",
    "state_populations_df = census_df[census_df[\"STNAME\"] == census_df[\"CTYNAME\"]]\n",
    "\n",
    "#There are two rows of \"District of Columbia\" with the same values... delete one of them\n",
    "state_populations_df = state_populations_df.drop(index = 327)\n",
    "\n",
    "#reindex the dataframe\n",
    "state_populations_df.reset_index(inplace = True)"
   ]
  },
  {
   "cell_type": "markdown",
   "metadata": {},
   "source": [
    "Next, we have to merge the state populations onto the COVID dataframes  \n",
    "\n",
    "Because one dataframe has the state name and the other has the abbreviation, we need to modify the data first  \n",
    "Map found from Roger Allen's github to save time :)  https://gist.github.com/rogerallen/1583593"
   ]
  },
  {
   "cell_type": "code",
   "execution_count": 9,
   "metadata": {},
   "outputs": [],
   "source": [
    "us_state_abbrev = {\n",
    "    'Alabama': 'AL',\n",
    "    'Alaska': 'AK',\n",
    "    'American Samoa': 'AS',\n",
    "    'Arizona': 'AZ',\n",
    "    'Arkansas': 'AR',\n",
    "    'California': 'CA',\n",
    "    'Colorado': 'CO',\n",
    "    'Connecticut': 'CT',\n",
    "    'Delaware': 'DE',\n",
    "    'District of Columbia': 'DC',\n",
    "    'Florida': 'FL',\n",
    "    'Georgia': 'GA',\n",
    "    'Guam': 'GU',\n",
    "    'Hawaii': 'HI',\n",
    "    'Idaho': 'ID',\n",
    "    'Illinois': 'IL',\n",
    "    'Indiana': 'IN',\n",
    "    'Iowa': 'IA',\n",
    "    'Kansas': 'KS',\n",
    "    'Kentucky': 'KY',\n",
    "    'Louisiana': 'LA',\n",
    "    'Maine': 'ME',\n",
    "    'Maryland': 'MD',\n",
    "    'Massachusetts': 'MA',\n",
    "    'Michigan': 'MI',\n",
    "    'Minnesota': 'MN',\n",
    "    'Mississippi': 'MS',\n",
    "    'Missouri': 'MO',\n",
    "    'Montana': 'MT',\n",
    "    'Nebraska': 'NE',\n",
    "    'Nevada': 'NV',\n",
    "    'New Hampshire': 'NH',\n",
    "    'New Jersey': 'NJ',\n",
    "    'New Mexico': 'NM',\n",
    "    'New York': 'NY',\n",
    "    'North Carolina': 'NC',\n",
    "    'North Dakota': 'ND',\n",
    "    'Northern Mariana Islands':'MP',\n",
    "    'Ohio': 'OH',\n",
    "    'Oklahoma': 'OK',\n",
    "    'Oregon': 'OR',\n",
    "    'Pennsylvania': 'PA',\n",
    "    'Puerto Rico': 'PR',\n",
    "    'Rhode Island': 'RI',\n",
    "    'South Carolina': 'SC',\n",
    "    'South Dakota': 'SD',\n",
    "    'Tennessee': 'TN',\n",
    "    'Texas': 'TX',\n",
    "    'Utah': 'UT',\n",
    "    'Vermont': 'VT',\n",
    "    'Virgin Islands': 'VI',\n",
    "    'Virginia': 'VA',\n",
    "    'Washington': 'WA',\n",
    "    'West Virginia': 'WV',\n",
    "    'Wisconsin': 'WI',\n",
    "    'Wyoming': 'WY'\n",
    "}\n",
    "\n",
    "state_populations_df = state_populations_df.replace({\"STNAME\": us_state_abbrev})\n",
    "\n",
    "#Let's also drop all of the columns of census data that we don't need...\n",
    "state_populations_df = state_populations_df[[\"STNAME\", \"POPESTIMATE2019\"]]"
   ]
  },
  {
   "cell_type": "code",
   "execution_count": 10,
   "metadata": {},
   "outputs": [],
   "source": [
    "#Merge the data together\n",
    "state_cases_pop_df = state_cases_df.merge(right = state_populations_df, left_on = [\"State\"], right_on = [\"STNAME\"])\n",
    "state_cases_pop_df = state_cases_pop_df.drop(columns = \"STNAME\")"
   ]
  },
  {
   "cell_type": "code",
   "execution_count": 11,
   "metadata": {},
   "outputs": [],
   "source": [
    "#First, we will get a list of all of the columns that we are going to transform - all of the dates with COVID observations\n",
    "df_cols = list(state_cases_pop_df.columns.values)\n",
    "df_cols.remove('State')\n",
    "df_cols.remove('POPESTIMATE2019')\n",
    "\n",
    "state_cases_pop_df[df_cols] = state_cases_pop_df[df_cols].apply(pd.to_numeric)\n",
    "#Make a copy that we can modify\n",
    "state_cases_corrected = state_cases_pop_df.copy(deep = True)\n",
    "\n",
    "\n",
    "#divide the COVID count in each column by the Population in its row  * 100\n",
    "#It will represent the COVID cases \n",
    "for col in df_cols:\n",
    "    state_cases_corrected.loc[:, col] = (state_cases_corrected.loc[:, col] / state_cases_corrected.loc[:, \"POPESTIMATE2019\"]) * 100"
   ]
  },
  {
   "cell_type": "markdown",
   "metadata": {},
   "source": [
    "This final table shows the percent of the population that has COVID by state "
   ]
  },
  {
   "cell_type": "code",
   "execution_count": 12,
   "metadata": {},
   "outputs": [
    {
     "data": {
      "text/html": [
       "<div>\n",
       "<style scoped>\n",
       "    .dataframe tbody tr th:only-of-type {\n",
       "        vertical-align: middle;\n",
       "    }\n",
       "\n",
       "    .dataframe tbody tr th {\n",
       "        vertical-align: top;\n",
       "    }\n",
       "\n",
       "    .dataframe thead th {\n",
       "        text-align: right;\n",
       "    }\n",
       "</style>\n",
       "<table border=\"1\" class=\"dataframe\">\n",
       "  <thead>\n",
       "    <tr style=\"text-align: right;\">\n",
       "      <th></th>\n",
       "      <th>State</th>\n",
       "      <th>1/22/20</th>\n",
       "      <th>1/23/20</th>\n",
       "      <th>1/24/20</th>\n",
       "      <th>1/25/20</th>\n",
       "      <th>1/26/20</th>\n",
       "      <th>1/27/20</th>\n",
       "      <th>1/28/20</th>\n",
       "      <th>1/29/20</th>\n",
       "      <th>1/30/20</th>\n",
       "      <th>...</th>\n",
       "      <th>9/30/20</th>\n",
       "      <th>10/1/20</th>\n",
       "      <th>10/2/20</th>\n",
       "      <th>10/3/20</th>\n",
       "      <th>10/4/20</th>\n",
       "      <th>10/5/20</th>\n",
       "      <th>10/6/20</th>\n",
       "      <th>10/7/20</th>\n",
       "      <th>10/8/20</th>\n",
       "      <th>POPESTIMATE2019</th>\n",
       "    </tr>\n",
       "  </thead>\n",
       "  <tbody>\n",
       "    <tr>\n",
       "      <th>0</th>\n",
       "      <td>AK</td>\n",
       "      <td>0.0</td>\n",
       "      <td>0.0</td>\n",
       "      <td>0.0</td>\n",
       "      <td>0.0</td>\n",
       "      <td>0.000000</td>\n",
       "      <td>0.000000</td>\n",
       "      <td>0.000000</td>\n",
       "      <td>0.000000</td>\n",
       "      <td>0.000000</td>\n",
       "      <td>...</td>\n",
       "      <td>1.069107</td>\n",
       "      <td>1.086058</td>\n",
       "      <td>1.103145</td>\n",
       "      <td>1.122829</td>\n",
       "      <td>1.148528</td>\n",
       "      <td>1.176961</td>\n",
       "      <td>1.195962</td>\n",
       "      <td>1.213596</td>\n",
       "      <td>1.230956</td>\n",
       "      <td>731545</td>\n",
       "    </tr>\n",
       "    <tr>\n",
       "      <th>1</th>\n",
       "      <td>AL</td>\n",
       "      <td>0.0</td>\n",
       "      <td>0.0</td>\n",
       "      <td>0.0</td>\n",
       "      <td>0.0</td>\n",
       "      <td>0.000000</td>\n",
       "      <td>0.000000</td>\n",
       "      <td>0.000000</td>\n",
       "      <td>0.000000</td>\n",
       "      <td>0.000000</td>\n",
       "      <td>...</td>\n",
       "      <td>3.155072</td>\n",
       "      <td>3.176384</td>\n",
       "      <td>3.195841</td>\n",
       "      <td>3.230145</td>\n",
       "      <td>3.246237</td>\n",
       "      <td>3.257332</td>\n",
       "      <td>3.272893</td>\n",
       "      <td>3.292044</td>\n",
       "      <td>3.303465</td>\n",
       "      <td>4903185</td>\n",
       "    </tr>\n",
       "    <tr>\n",
       "      <th>2</th>\n",
       "      <td>AR</td>\n",
       "      <td>0.0</td>\n",
       "      <td>0.0</td>\n",
       "      <td>0.0</td>\n",
       "      <td>0.0</td>\n",
       "      <td>0.000000</td>\n",
       "      <td>0.000000</td>\n",
       "      <td>0.000000</td>\n",
       "      <td>0.000000</td>\n",
       "      <td>0.000000</td>\n",
       "      <td>...</td>\n",
       "      <td>2.773441</td>\n",
       "      <td>2.810686</td>\n",
       "      <td>2.842365</td>\n",
       "      <td>2.867151</td>\n",
       "      <td>2.883322</td>\n",
       "      <td>2.897140</td>\n",
       "      <td>2.918281</td>\n",
       "      <td>2.945188</td>\n",
       "      <td>2.987106</td>\n",
       "      <td>3017804</td>\n",
       "    </tr>\n",
       "    <tr>\n",
       "      <th>3</th>\n",
       "      <td>AZ</td>\n",
       "      <td>0.0</td>\n",
       "      <td>0.0</td>\n",
       "      <td>0.0</td>\n",
       "      <td>0.0</td>\n",
       "      <td>0.000014</td>\n",
       "      <td>0.000014</td>\n",
       "      <td>0.000014</td>\n",
       "      <td>0.000014</td>\n",
       "      <td>0.000014</td>\n",
       "      <td>...</td>\n",
       "      <td>3.001999</td>\n",
       "      <td>3.011685</td>\n",
       "      <td>3.019255</td>\n",
       "      <td>3.027979</td>\n",
       "      <td>3.032842</td>\n",
       "      <td>3.037211</td>\n",
       "      <td>3.049040</td>\n",
       "      <td>3.057379</td>\n",
       "      <td>3.069236</td>\n",
       "      <td>7278717</td>\n",
       "    </tr>\n",
       "    <tr>\n",
       "      <th>4</th>\n",
       "      <td>CA</td>\n",
       "      <td>0.0</td>\n",
       "      <td>0.0</td>\n",
       "      <td>0.0</td>\n",
       "      <td>0.0</td>\n",
       "      <td>0.000005</td>\n",
       "      <td>0.000008</td>\n",
       "      <td>0.000008</td>\n",
       "      <td>0.000010</td>\n",
       "      <td>0.000010</td>\n",
       "      <td>...</td>\n",
       "      <td>2.072561</td>\n",
       "      <td>2.081505</td>\n",
       "      <td>2.092072</td>\n",
       "      <td>2.099188</td>\n",
       "      <td>2.104739</td>\n",
       "      <td>2.114862</td>\n",
       "      <td>2.121690</td>\n",
       "      <td>2.130743</td>\n",
       "      <td>2.140092</td>\n",
       "      <td>39512223</td>\n",
       "    </tr>\n",
       "  </tbody>\n",
       "</table>\n",
       "<p>5 rows × 263 columns</p>\n",
       "</div>"
      ],
      "text/plain": [
       "  State  1/22/20  1/23/20  1/24/20  1/25/20   1/26/20   1/27/20   1/28/20  \\\n",
       "0    AK      0.0      0.0      0.0      0.0  0.000000  0.000000  0.000000   \n",
       "1    AL      0.0      0.0      0.0      0.0  0.000000  0.000000  0.000000   \n",
       "2    AR      0.0      0.0      0.0      0.0  0.000000  0.000000  0.000000   \n",
       "3    AZ      0.0      0.0      0.0      0.0  0.000014  0.000014  0.000014   \n",
       "4    CA      0.0      0.0      0.0      0.0  0.000005  0.000008  0.000008   \n",
       "\n",
       "    1/29/20   1/30/20  ...   9/30/20   10/1/20   10/2/20   10/3/20   10/4/20  \\\n",
       "0  0.000000  0.000000  ...  1.069107  1.086058  1.103145  1.122829  1.148528   \n",
       "1  0.000000  0.000000  ...  3.155072  3.176384  3.195841  3.230145  3.246237   \n",
       "2  0.000000  0.000000  ...  2.773441  2.810686  2.842365  2.867151  2.883322   \n",
       "3  0.000014  0.000014  ...  3.001999  3.011685  3.019255  3.027979  3.032842   \n",
       "4  0.000010  0.000010  ...  2.072561  2.081505  2.092072  2.099188  2.104739   \n",
       "\n",
       "    10/5/20   10/6/20   10/7/20   10/8/20  POPESTIMATE2019  \n",
       "0  1.176961  1.195962  1.213596  1.230956           731545  \n",
       "1  3.257332  3.272893  3.292044  3.303465          4903185  \n",
       "2  2.897140  2.918281  2.945188  2.987106          3017804  \n",
       "3  3.037211  3.049040  3.057379  3.069236          7278717  \n",
       "4  2.114862  2.121690  2.130743  2.140092         39512223  \n",
       "\n",
       "[5 rows x 263 columns]"
      ]
     },
     "execution_count": 12,
     "metadata": {},
     "output_type": "execute_result"
    }
   ],
   "source": [
    "state_cases_corrected.head()"
   ]
  },
  {
   "cell_type": "markdown",
   "metadata": {},
   "source": [
    "Now that we have standardized the COVID cases data by population, we will do the same thing to the deaths data"
   ]
  },
  {
   "cell_type": "code",
   "execution_count": 13,
   "metadata": {},
   "outputs": [],
   "source": [
    "#Merge the data together\n",
    "state_deaths_pop_df = state_deaths_df.merge(right = state_populations_df, left_on = [\"State\"], right_on = [\"STNAME\"])\n",
    "state_deaths_pop_df = state_deaths_pop_df.drop(columns = \"STNAME\")"
   ]
  },
  {
   "cell_type": "code",
   "execution_count": 14,
   "metadata": {},
   "outputs": [],
   "source": [
    "#First, we will get a list of all of the columns that we are going to transform - all of the dates with COVID observations\n",
    "death_df_cols = list(state_deaths_pop_df.columns.values)\n",
    "death_df_cols.remove('State')\n",
    "death_df_cols.remove('POPESTIMATE2019')\n",
    "\n",
    "state_deaths_pop_df[death_df_cols] = state_deaths_pop_df[death_df_cols].apply(pd.to_numeric)\n",
    "#Make a copy that we can modify\n",
    "state_deaths_corrected = state_deaths_pop_df.copy(deep = True)\n",
    "\n",
    "\n",
    "#divide the COVID death count in each column by the Population in its row  * 100\n",
    "#It will represent the COVID deaths \n",
    "for col in death_df_cols:\n",
    "    state_deaths_corrected.loc[:, col] = (state_deaths_corrected.loc[:, col] / state_deaths_corrected.loc[:, \"POPESTIMATE2019\"]) * 100"
   ]
  },
  {
   "cell_type": "markdown",
   "metadata": {},
   "source": [
    "This will show the percent of the population that has died from COVID by state "
   ]
  },
  {
   "cell_type": "code",
   "execution_count": 15,
   "metadata": {},
   "outputs": [
    {
     "data": {
      "text/html": [
       "<div>\n",
       "<style scoped>\n",
       "    .dataframe tbody tr th:only-of-type {\n",
       "        vertical-align: middle;\n",
       "    }\n",
       "\n",
       "    .dataframe tbody tr th {\n",
       "        vertical-align: top;\n",
       "    }\n",
       "\n",
       "    .dataframe thead th {\n",
       "        text-align: right;\n",
       "    }\n",
       "</style>\n",
       "<table border=\"1\" class=\"dataframe\">\n",
       "  <thead>\n",
       "    <tr style=\"text-align: right;\">\n",
       "      <th></th>\n",
       "      <th>State</th>\n",
       "      <th>1/22/20</th>\n",
       "      <th>1/23/20</th>\n",
       "      <th>1/24/20</th>\n",
       "      <th>1/25/20</th>\n",
       "      <th>1/26/20</th>\n",
       "      <th>1/27/20</th>\n",
       "      <th>1/28/20</th>\n",
       "      <th>1/29/20</th>\n",
       "      <th>1/30/20</th>\n",
       "      <th>...</th>\n",
       "      <th>9/30/20</th>\n",
       "      <th>10/1/20</th>\n",
       "      <th>10/2/20</th>\n",
       "      <th>10/3/20</th>\n",
       "      <th>10/4/20</th>\n",
       "      <th>10/5/20</th>\n",
       "      <th>10/6/20</th>\n",
       "      <th>10/7/20</th>\n",
       "      <th>10/8/20</th>\n",
       "      <th>POPESTIMATE2019</th>\n",
       "    </tr>\n",
       "  </thead>\n",
       "  <tbody>\n",
       "    <tr>\n",
       "      <th>0</th>\n",
       "      <td>AK</td>\n",
       "      <td>0.0</td>\n",
       "      <td>0.0</td>\n",
       "      <td>0.0</td>\n",
       "      <td>0.0</td>\n",
       "      <td>0.0</td>\n",
       "      <td>0.0</td>\n",
       "      <td>0.0</td>\n",
       "      <td>0.0</td>\n",
       "      <td>0.0</td>\n",
       "      <td>...</td>\n",
       "      <td>0.007655</td>\n",
       "      <td>0.007792</td>\n",
       "      <td>0.007792</td>\n",
       "      <td>0.007928</td>\n",
       "      <td>0.007928</td>\n",
       "      <td>0.007928</td>\n",
       "      <td>0.007928</td>\n",
       "      <td>0.008065</td>\n",
       "      <td>0.008202</td>\n",
       "      <td>731545</td>\n",
       "    </tr>\n",
       "    <tr>\n",
       "      <th>1</th>\n",
       "      <td>AL</td>\n",
       "      <td>0.0</td>\n",
       "      <td>0.0</td>\n",
       "      <td>0.0</td>\n",
       "      <td>0.0</td>\n",
       "      <td>0.0</td>\n",
       "      <td>0.0</td>\n",
       "      <td>0.0</td>\n",
       "      <td>0.0</td>\n",
       "      <td>0.0</td>\n",
       "      <td>...</td>\n",
       "      <td>0.051599</td>\n",
       "      <td>0.051823</td>\n",
       "      <td>0.051987</td>\n",
       "      <td>0.052150</td>\n",
       "      <td>0.052150</td>\n",
       "      <td>0.052150</td>\n",
       "      <td>0.052619</td>\n",
       "      <td>0.053047</td>\n",
       "      <td>0.053781</td>\n",
       "      <td>4903185</td>\n",
       "    </tr>\n",
       "    <tr>\n",
       "      <th>2</th>\n",
       "      <td>AR</td>\n",
       "      <td>0.0</td>\n",
       "      <td>0.0</td>\n",
       "      <td>0.0</td>\n",
       "      <td>0.0</td>\n",
       "      <td>0.0</td>\n",
       "      <td>0.0</td>\n",
       "      <td>0.0</td>\n",
       "      <td>0.0</td>\n",
       "      <td>0.0</td>\n",
       "      <td>...</td>\n",
       "      <td>0.045364</td>\n",
       "      <td>0.045861</td>\n",
       "      <td>0.046093</td>\n",
       "      <td>0.046623</td>\n",
       "      <td>0.047220</td>\n",
       "      <td>0.047220</td>\n",
       "      <td>0.048678</td>\n",
       "      <td>0.049075</td>\n",
       "      <td>0.049804</td>\n",
       "      <td>3017804</td>\n",
       "    </tr>\n",
       "    <tr>\n",
       "      <th>3</th>\n",
       "      <td>AZ</td>\n",
       "      <td>0.0</td>\n",
       "      <td>0.0</td>\n",
       "      <td>0.0</td>\n",
       "      <td>0.0</td>\n",
       "      <td>0.0</td>\n",
       "      <td>0.0</td>\n",
       "      <td>0.0</td>\n",
       "      <td>0.0</td>\n",
       "      <td>0.0</td>\n",
       "      <td>...</td>\n",
       "      <td>0.077624</td>\n",
       "      <td>0.077940</td>\n",
       "      <td>0.078214</td>\n",
       "      <td>0.078352</td>\n",
       "      <td>0.078379</td>\n",
       "      <td>0.078407</td>\n",
       "      <td>0.078475</td>\n",
       "      <td>0.078764</td>\n",
       "      <td>0.078901</td>\n",
       "      <td>7278717</td>\n",
       "    </tr>\n",
       "    <tr>\n",
       "      <th>4</th>\n",
       "      <td>CA</td>\n",
       "      <td>0.0</td>\n",
       "      <td>0.0</td>\n",
       "      <td>0.0</td>\n",
       "      <td>0.0</td>\n",
       "      <td>0.0</td>\n",
       "      <td>0.0</td>\n",
       "      <td>0.0</td>\n",
       "      <td>0.0</td>\n",
       "      <td>0.0</td>\n",
       "      <td>...</td>\n",
       "      <td>0.040241</td>\n",
       "      <td>0.040494</td>\n",
       "      <td>0.040739</td>\n",
       "      <td>0.040851</td>\n",
       "      <td>0.040914</td>\n",
       "      <td>0.041000</td>\n",
       "      <td>0.041200</td>\n",
       "      <td>0.041445</td>\n",
       "      <td>0.041633</td>\n",
       "      <td>39512223</td>\n",
       "    </tr>\n",
       "  </tbody>\n",
       "</table>\n",
       "<p>5 rows × 263 columns</p>\n",
       "</div>"
      ],
      "text/plain": [
       "  State  1/22/20  1/23/20  1/24/20  1/25/20  1/26/20  1/27/20  1/28/20  \\\n",
       "0    AK      0.0      0.0      0.0      0.0      0.0      0.0      0.0   \n",
       "1    AL      0.0      0.0      0.0      0.0      0.0      0.0      0.0   \n",
       "2    AR      0.0      0.0      0.0      0.0      0.0      0.0      0.0   \n",
       "3    AZ      0.0      0.0      0.0      0.0      0.0      0.0      0.0   \n",
       "4    CA      0.0      0.0      0.0      0.0      0.0      0.0      0.0   \n",
       "\n",
       "   1/29/20  1/30/20  ...   9/30/20   10/1/20   10/2/20   10/3/20   10/4/20  \\\n",
       "0      0.0      0.0  ...  0.007655  0.007792  0.007792  0.007928  0.007928   \n",
       "1      0.0      0.0  ...  0.051599  0.051823  0.051987  0.052150  0.052150   \n",
       "2      0.0      0.0  ...  0.045364  0.045861  0.046093  0.046623  0.047220   \n",
       "3      0.0      0.0  ...  0.077624  0.077940  0.078214  0.078352  0.078379   \n",
       "4      0.0      0.0  ...  0.040241  0.040494  0.040739  0.040851  0.040914   \n",
       "\n",
       "    10/5/20   10/6/20   10/7/20   10/8/20  POPESTIMATE2019  \n",
       "0  0.007928  0.007928  0.008065  0.008202           731545  \n",
       "1  0.052150  0.052619  0.053047  0.053781          4903185  \n",
       "2  0.047220  0.048678  0.049075  0.049804          3017804  \n",
       "3  0.078407  0.078475  0.078764  0.078901          7278717  \n",
       "4  0.041000  0.041200  0.041445  0.041633         39512223  \n",
       "\n",
       "[5 rows x 263 columns]"
      ]
     },
     "execution_count": 15,
     "metadata": {},
     "output_type": "execute_result"
    }
   ],
   "source": [
    "state_deaths_corrected.head()"
   ]
  },
  {
   "cell_type": "markdown",
   "metadata": {},
   "source": [
    "Output the data to a csv file\n"
   ]
  },
  {
   "cell_type": "code",
   "execution_count": 16,
   "metadata": {},
   "outputs": [],
   "source": [
    "state_cases_corrected.to_csv(\"./data/covid_case_percentages.csv\", index = False)\n",
    "state_deaths_corrected.to_csv(\"./data/covid_death_percentages.csv\", index = False)"
   ]
  },
  {
   "cell_type": "markdown",
   "metadata": {},
   "source": [
    "Next, let's look at our Ozone data "
   ]
  },
  {
   "cell_type": "code",
   "execution_count": 17,
   "metadata": {},
   "outputs": [
    {
     "data": {
      "text/html": [
       "<div>\n",
       "<style scoped>\n",
       "    .dataframe tbody tr th:only-of-type {\n",
       "        vertical-align: middle;\n",
       "    }\n",
       "\n",
       "    .dataframe tbody tr th {\n",
       "        vertical-align: top;\n",
       "    }\n",
       "\n",
       "    .dataframe thead th {\n",
       "        text-align: right;\n",
       "    }\n",
       "</style>\n",
       "<table border=\"1\" class=\"dataframe\">\n",
       "  <thead>\n",
       "    <tr style=\"text-align: right;\">\n",
       "      <th></th>\n",
       "      <th>State Code</th>\n",
       "      <th>County Code</th>\n",
       "      <th>Site Num</th>\n",
       "      <th>Parameter Code</th>\n",
       "      <th>POC</th>\n",
       "      <th>Latitude</th>\n",
       "      <th>Longitude</th>\n",
       "      <th>Datum</th>\n",
       "      <th>Parameter Name</th>\n",
       "      <th>Sample Duration</th>\n",
       "      <th>...</th>\n",
       "      <th>AQI</th>\n",
       "      <th>Method Code</th>\n",
       "      <th>Method Name</th>\n",
       "      <th>Local Site Name</th>\n",
       "      <th>Address</th>\n",
       "      <th>State Name</th>\n",
       "      <th>County Name</th>\n",
       "      <th>City Name</th>\n",
       "      <th>CBSA Name</th>\n",
       "      <th>Date of Last Change</th>\n",
       "    </tr>\n",
       "  </thead>\n",
       "  <tbody>\n",
       "    <tr>\n",
       "      <th>0</th>\n",
       "      <td>1</td>\n",
       "      <td>49</td>\n",
       "      <td>9991</td>\n",
       "      <td>44201</td>\n",
       "      <td>1</td>\n",
       "      <td>34.289001</td>\n",
       "      <td>-85.970065</td>\n",
       "      <td>NAD83</td>\n",
       "      <td>Ozone</td>\n",
       "      <td>8-HR RUN AVG BEGIN HOUR</td>\n",
       "      <td>...</td>\n",
       "      <td>38</td>\n",
       "      <td>NaN</td>\n",
       "      <td>-</td>\n",
       "      <td>Sand Mountain</td>\n",
       "      <td>Sand Mountain Alabama Agricultural Experiment ...</td>\n",
       "      <td>Alabama</td>\n",
       "      <td>DeKalb</td>\n",
       "      <td>Crossville</td>\n",
       "      <td>Fort Payne, AL</td>\n",
       "      <td>2020-05-01</td>\n",
       "    </tr>\n",
       "    <tr>\n",
       "      <th>1</th>\n",
       "      <td>1</td>\n",
       "      <td>49</td>\n",
       "      <td>9991</td>\n",
       "      <td>44201</td>\n",
       "      <td>1</td>\n",
       "      <td>34.289001</td>\n",
       "      <td>-85.970065</td>\n",
       "      <td>NAD83</td>\n",
       "      <td>Ozone</td>\n",
       "      <td>8-HR RUN AVG BEGIN HOUR</td>\n",
       "      <td>...</td>\n",
       "      <td>25</td>\n",
       "      <td>NaN</td>\n",
       "      <td>-</td>\n",
       "      <td>Sand Mountain</td>\n",
       "      <td>Sand Mountain Alabama Agricultural Experiment ...</td>\n",
       "      <td>Alabama</td>\n",
       "      <td>DeKalb</td>\n",
       "      <td>Crossville</td>\n",
       "      <td>Fort Payne, AL</td>\n",
       "      <td>2020-05-01</td>\n",
       "    </tr>\n",
       "    <tr>\n",
       "      <th>2</th>\n",
       "      <td>1</td>\n",
       "      <td>49</td>\n",
       "      <td>9991</td>\n",
       "      <td>44201</td>\n",
       "      <td>1</td>\n",
       "      <td>34.289001</td>\n",
       "      <td>-85.970065</td>\n",
       "      <td>NAD83</td>\n",
       "      <td>Ozone</td>\n",
       "      <td>8-HR RUN AVG BEGIN HOUR</td>\n",
       "      <td>...</td>\n",
       "      <td>35</td>\n",
       "      <td>NaN</td>\n",
       "      <td>-</td>\n",
       "      <td>Sand Mountain</td>\n",
       "      <td>Sand Mountain Alabama Agricultural Experiment ...</td>\n",
       "      <td>Alabama</td>\n",
       "      <td>DeKalb</td>\n",
       "      <td>Crossville</td>\n",
       "      <td>Fort Payne, AL</td>\n",
       "      <td>2020-05-01</td>\n",
       "    </tr>\n",
       "    <tr>\n",
       "      <th>3</th>\n",
       "      <td>1</td>\n",
       "      <td>49</td>\n",
       "      <td>9991</td>\n",
       "      <td>44201</td>\n",
       "      <td>1</td>\n",
       "      <td>34.289001</td>\n",
       "      <td>-85.970065</td>\n",
       "      <td>NAD83</td>\n",
       "      <td>Ozone</td>\n",
       "      <td>8-HR RUN AVG BEGIN HOUR</td>\n",
       "      <td>...</td>\n",
       "      <td>31</td>\n",
       "      <td>NaN</td>\n",
       "      <td>-</td>\n",
       "      <td>Sand Mountain</td>\n",
       "      <td>Sand Mountain Alabama Agricultural Experiment ...</td>\n",
       "      <td>Alabama</td>\n",
       "      <td>DeKalb</td>\n",
       "      <td>Crossville</td>\n",
       "      <td>Fort Payne, AL</td>\n",
       "      <td>2020-05-01</td>\n",
       "    </tr>\n",
       "    <tr>\n",
       "      <th>4</th>\n",
       "      <td>1</td>\n",
       "      <td>49</td>\n",
       "      <td>9991</td>\n",
       "      <td>44201</td>\n",
       "      <td>1</td>\n",
       "      <td>34.289001</td>\n",
       "      <td>-85.970065</td>\n",
       "      <td>NAD83</td>\n",
       "      <td>Ozone</td>\n",
       "      <td>8-HR RUN AVG BEGIN HOUR</td>\n",
       "      <td>...</td>\n",
       "      <td>32</td>\n",
       "      <td>NaN</td>\n",
       "      <td>-</td>\n",
       "      <td>Sand Mountain</td>\n",
       "      <td>Sand Mountain Alabama Agricultural Experiment ...</td>\n",
       "      <td>Alabama</td>\n",
       "      <td>DeKalb</td>\n",
       "      <td>Crossville</td>\n",
       "      <td>Fort Payne, AL</td>\n",
       "      <td>2020-05-01</td>\n",
       "    </tr>\n",
       "  </tbody>\n",
       "</table>\n",
       "<p>5 rows × 29 columns</p>\n",
       "</div>"
      ],
      "text/plain": [
       "   State Code  County Code  Site Num  Parameter Code  POC   Latitude  \\\n",
       "0           1           49      9991           44201    1  34.289001   \n",
       "1           1           49      9991           44201    1  34.289001   \n",
       "2           1           49      9991           44201    1  34.289001   \n",
       "3           1           49      9991           44201    1  34.289001   \n",
       "4           1           49      9991           44201    1  34.289001   \n",
       "\n",
       "   Longitude  Datum Parameter Name          Sample Duration  ... AQI  \\\n",
       "0 -85.970065  NAD83          Ozone  8-HR RUN AVG BEGIN HOUR  ...  38   \n",
       "1 -85.970065  NAD83          Ozone  8-HR RUN AVG BEGIN HOUR  ...  25   \n",
       "2 -85.970065  NAD83          Ozone  8-HR RUN AVG BEGIN HOUR  ...  35   \n",
       "3 -85.970065  NAD83          Ozone  8-HR RUN AVG BEGIN HOUR  ...  31   \n",
       "4 -85.970065  NAD83          Ozone  8-HR RUN AVG BEGIN HOUR  ...  32   \n",
       "\n",
       "  Method Code Method Name Local Site Name  \\\n",
       "0         NaN          -    Sand Mountain   \n",
       "1         NaN          -    Sand Mountain   \n",
       "2         NaN          -    Sand Mountain   \n",
       "3         NaN          -    Sand Mountain   \n",
       "4         NaN          -    Sand Mountain   \n",
       "\n",
       "                                             Address  State Name  County Name  \\\n",
       "0  Sand Mountain Alabama Agricultural Experiment ...     Alabama       DeKalb   \n",
       "1  Sand Mountain Alabama Agricultural Experiment ...     Alabama       DeKalb   \n",
       "2  Sand Mountain Alabama Agricultural Experiment ...     Alabama       DeKalb   \n",
       "3  Sand Mountain Alabama Agricultural Experiment ...     Alabama       DeKalb   \n",
       "4  Sand Mountain Alabama Agricultural Experiment ...     Alabama       DeKalb   \n",
       "\n",
       "    City Name       CBSA Name  Date of Last Change  \n",
       "0  Crossville  Fort Payne, AL           2020-05-01  \n",
       "1  Crossville  Fort Payne, AL           2020-05-01  \n",
       "2  Crossville  Fort Payne, AL           2020-05-01  \n",
       "3  Crossville  Fort Payne, AL           2020-05-01  \n",
       "4  Crossville  Fort Payne, AL           2020-05-01  \n",
       "\n",
       "[5 rows x 29 columns]"
      ]
     },
     "execution_count": 17,
     "metadata": {},
     "output_type": "execute_result"
    }
   ],
   "source": [
    "ozone = pd.read_csv(\"./data/daily_2020_ozone.csv\")\n",
    "ozone.head()"
   ]
  },
  {
   "cell_type": "code",
   "execution_count": 18,
   "metadata": {},
   "outputs": [
    {
     "data": {
      "text/html": [
       "<div>\n",
       "<style scoped>\n",
       "    .dataframe tbody tr th:only-of-type {\n",
       "        vertical-align: middle;\n",
       "    }\n",
       "\n",
       "    .dataframe tbody tr th {\n",
       "        vertical-align: top;\n",
       "    }\n",
       "\n",
       "    .dataframe thead th {\n",
       "        text-align: right;\n",
       "    }\n",
       "</style>\n",
       "<table border=\"1\" class=\"dataframe\">\n",
       "  <thead>\n",
       "    <tr style=\"text-align: right;\">\n",
       "      <th></th>\n",
       "      <th>Arithmetic Mean</th>\n",
       "      <th>State Name</th>\n",
       "      <th>County Name</th>\n",
       "      <th>AQI</th>\n",
       "    </tr>\n",
       "  </thead>\n",
       "  <tbody>\n",
       "    <tr>\n",
       "      <th>0</th>\n",
       "      <td>0.036529</td>\n",
       "      <td>Alabama</td>\n",
       "      <td>DeKalb</td>\n",
       "      <td>38</td>\n",
       "    </tr>\n",
       "    <tr>\n",
       "      <th>1</th>\n",
       "      <td>0.025176</td>\n",
       "      <td>Alabama</td>\n",
       "      <td>DeKalb</td>\n",
       "      <td>25</td>\n",
       "    </tr>\n",
       "    <tr>\n",
       "      <th>2</th>\n",
       "      <td>0.031647</td>\n",
       "      <td>Alabama</td>\n",
       "      <td>DeKalb</td>\n",
       "      <td>35</td>\n",
       "    </tr>\n",
       "    <tr>\n",
       "      <th>3</th>\n",
       "      <td>0.029941</td>\n",
       "      <td>Alabama</td>\n",
       "      <td>DeKalb</td>\n",
       "      <td>31</td>\n",
       "    </tr>\n",
       "    <tr>\n",
       "      <th>4</th>\n",
       "      <td>0.030824</td>\n",
       "      <td>Alabama</td>\n",
       "      <td>DeKalb</td>\n",
       "      <td>32</td>\n",
       "    </tr>\n",
       "  </tbody>\n",
       "</table>\n",
       "</div>"
      ],
      "text/plain": [
       "   Arithmetic Mean State Name County Name  AQI\n",
       "0         0.036529    Alabama      DeKalb   38\n",
       "1         0.025176    Alabama      DeKalb   25\n",
       "2         0.031647    Alabama      DeKalb   35\n",
       "3         0.029941    Alabama      DeKalb   31\n",
       "4         0.030824    Alabama      DeKalb   32"
      ]
     },
     "execution_count": 18,
     "metadata": {},
     "output_type": "execute_result"
    }
   ],
   "source": [
    "#only select the columns we are interested in\n",
    "ozone_observations = ozone.loc[:, ['Arithmetic Mean', 'State Name', 'County Name', 'AQI' ]]\n",
    "ozone_observations.head()"
   ]
  },
  {
   "cell_type": "markdown",
   "metadata": {},
   "source": [
    "The data above had an observation for each testing site for every day for January, February, and March in 2020. Let's group that data by county so we can see how the counties' air quality was as a whole in 2020 before COVID hit "
   ]
  },
  {
   "cell_type": "code",
   "execution_count": 19,
   "metadata": {},
   "outputs": [
    {
     "data": {
      "text/html": [
       "<div>\n",
       "<style scoped>\n",
       "    .dataframe tbody tr th:only-of-type {\n",
       "        vertical-align: middle;\n",
       "    }\n",
       "\n",
       "    .dataframe tbody tr th {\n",
       "        vertical-align: top;\n",
       "    }\n",
       "\n",
       "    .dataframe thead th {\n",
       "        text-align: right;\n",
       "    }\n",
       "</style>\n",
       "<table border=\"1\" class=\"dataframe\">\n",
       "  <thead>\n",
       "    <tr style=\"text-align: right;\">\n",
       "      <th></th>\n",
       "      <th>State Name</th>\n",
       "      <th>County Name</th>\n",
       "      <th>Arithmetic Mean</th>\n",
       "      <th>AQI</th>\n",
       "    </tr>\n",
       "  </thead>\n",
       "  <tbody>\n",
       "    <tr>\n",
       "      <th>0</th>\n",
       "      <td>Alabama</td>\n",
       "      <td>DeKalb</td>\n",
       "      <td>0.030230</td>\n",
       "      <td>31.583333</td>\n",
       "    </tr>\n",
       "    <tr>\n",
       "      <th>1</th>\n",
       "      <td>Alabama</td>\n",
       "      <td>Jefferson</td>\n",
       "      <td>0.024297</td>\n",
       "      <td>29.766667</td>\n",
       "    </tr>\n",
       "    <tr>\n",
       "      <th>2</th>\n",
       "      <td>Alaska</td>\n",
       "      <td>Denali</td>\n",
       "      <td>0.036942</td>\n",
       "      <td>35.500000</td>\n",
       "    </tr>\n",
       "    <tr>\n",
       "      <th>3</th>\n",
       "      <td>Arizona</td>\n",
       "      <td>Cochise</td>\n",
       "      <td>0.037699</td>\n",
       "      <td>39.406780</td>\n",
       "    </tr>\n",
       "    <tr>\n",
       "      <th>4</th>\n",
       "      <td>Arizona</td>\n",
       "      <td>Coconino</td>\n",
       "      <td>0.038844</td>\n",
       "      <td>40.662252</td>\n",
       "    </tr>\n",
       "  </tbody>\n",
       "</table>\n",
       "</div>"
      ],
      "text/plain": [
       "  State Name County Name  Arithmetic Mean        AQI\n",
       "0    Alabama      DeKalb         0.030230  31.583333\n",
       "1    Alabama   Jefferson         0.024297  29.766667\n",
       "2     Alaska     Denali          0.036942  35.500000\n",
       "3    Arizona     Cochise         0.037699  39.406780\n",
       "4    Arizona    Coconino         0.038844  40.662252"
      ]
     },
     "execution_count": 19,
     "metadata": {},
     "output_type": "execute_result"
    }
   ],
   "source": [
    "ozone_by_state = ozone_observations.groupby(['State Name', 'County Name']).mean()\n",
    "ozone_by_state =  ozone_by_state.reset_index()\n",
    "ozone_by_state.head()"
   ]
  },
  {
   "cell_type": "code",
   "execution_count": 20,
   "metadata": {},
   "outputs": [],
   "source": [
    "#output the data to csv\n",
    "ozone_by_state.to_csv(\"./data/ozone_data_clean.csv\")"
   ]
  },
  {
   "cell_type": "markdown",
   "metadata": {},
   "source": [
    "Perhaps the likelihood of dying from COVID is higher where the air quality is poorer? Let's find out "
   ]
  },
  {
   "cell_type": "code",
   "execution_count": 21,
   "metadata": {},
   "outputs": [
    {
     "data": {
      "text/html": [
       "<div>\n",
       "<style scoped>\n",
       "    .dataframe tbody tr th:only-of-type {\n",
       "        vertical-align: middle;\n",
       "    }\n",
       "\n",
       "    .dataframe tbody tr th {\n",
       "        vertical-align: top;\n",
       "    }\n",
       "\n",
       "    .dataframe thead th {\n",
       "        text-align: right;\n",
       "    }\n",
       "</style>\n",
       "<table border=\"1\" class=\"dataframe\">\n",
       "  <thead>\n",
       "    <tr style=\"text-align: right;\">\n",
       "      <th></th>\n",
       "      <th>State</th>\n",
       "      <th>9/25/20_x</th>\n",
       "      <th>9/25/20_y</th>\n",
       "      <th>percent_infected_who_die</th>\n",
       "    </tr>\n",
       "  </thead>\n",
       "  <tbody>\n",
       "    <tr>\n",
       "      <th>0</th>\n",
       "      <td>AK</td>\n",
       "      <td>0.991190</td>\n",
       "      <td>0.007108</td>\n",
       "      <td>0.007171</td>\n",
       "    </tr>\n",
       "    <tr>\n",
       "      <th>1</th>\n",
       "      <td>AL</td>\n",
       "      <td>3.072493</td>\n",
       "      <td>0.050906</td>\n",
       "      <td>0.016568</td>\n",
       "    </tr>\n",
       "    <tr>\n",
       "      <th>2</th>\n",
       "      <td>AR</td>\n",
       "      <td>2.649145</td>\n",
       "      <td>0.041951</td>\n",
       "      <td>0.015836</td>\n",
       "    </tr>\n",
       "    <tr>\n",
       "      <th>3</th>\n",
       "      <td>AZ</td>\n",
       "      <td>2.972571</td>\n",
       "      <td>0.076703</td>\n",
       "      <td>0.025804</td>\n",
       "    </tr>\n",
       "    <tr>\n",
       "      <th>4</th>\n",
       "      <td>CA</td>\n",
       "      <td>2.034497</td>\n",
       "      <td>0.039297</td>\n",
       "      <td>0.019315</td>\n",
       "    </tr>\n",
       "  </tbody>\n",
       "</table>\n",
       "</div>"
      ],
      "text/plain": [
       "  State  9/25/20_x  9/25/20_y  percent_infected_who_die\n",
       "0    AK   0.991190   0.007108                  0.007171\n",
       "1    AL   3.072493   0.050906                  0.016568\n",
       "2    AR   2.649145   0.041951                  0.015836\n",
       "3    AZ   2.972571   0.076703                  0.025804\n",
       "4    CA   2.034497   0.039297                  0.019315"
      ]
     },
     "execution_count": 21,
     "metadata": {},
     "output_type": "execute_result"
    }
   ],
   "source": [
    "state_deaths_over_cases = state_cases_corrected.loc[:, ['State', '9/25/20']].merge(on = 'State', right = state_deaths_corrected.loc[:, ['State', '9/25/20']])\n",
    "state_deaths_over_cases['percent_infected_who_die'] = state_deaths_over_cases['9/25/20_y'] / state_deaths_over_cases['9/25/20_x']\n",
    "state_deaths_over_cases.head()"
   ]
  },
  {
   "cell_type": "code",
   "execution_count": 22,
   "metadata": {},
   "outputs": [],
   "source": [
    "#modify the state name to match our COVID data\n",
    "ozone_abbrev = ozone_by_state.replace({'State Name': us_state_abbrev})\n",
    "#Merge the state percentages with the ozone state-level data\n",
    "state_deaths_air = state_deaths_over_cases.merge(left_on = 'State', right_on = 'State Name', right = ozone_abbrev.loc[:, ['State Name', 'Arithmetic Mean', 'AQI']])"
   ]
  },
  {
   "cell_type": "code",
   "execution_count": 23,
   "metadata": {},
   "outputs": [],
   "source": [
    "#The above still needs to be continued"
   ]
  },
  {
   "cell_type": "markdown",
   "metadata": {},
   "source": [
    "Since both our COVID data and our ozone data are at the county-level, let's look closer at these values at the county-level"
   ]
  },
  {
   "cell_type": "code",
   "execution_count": 24,
   "metadata": {},
   "outputs": [
    {
     "data": {
      "text/html": [
       "<div>\n",
       "<style scoped>\n",
       "    .dataframe tbody tr th:only-of-type {\n",
       "        vertical-align: middle;\n",
       "    }\n",
       "\n",
       "    .dataframe tbody tr th {\n",
       "        vertical-align: top;\n",
       "    }\n",
       "\n",
       "    .dataframe thead th {\n",
       "        text-align: right;\n",
       "    }\n",
       "</style>\n",
       "<table border=\"1\" class=\"dataframe\">\n",
       "  <thead>\n",
       "    <tr style=\"text-align: right;\">\n",
       "      <th></th>\n",
       "      <th>State Name</th>\n",
       "      <th>County Name</th>\n",
       "      <th>Arithmetic Mean</th>\n",
       "      <th>AQI</th>\n",
       "    </tr>\n",
       "  </thead>\n",
       "  <tbody>\n",
       "    <tr>\n",
       "      <th>0</th>\n",
       "      <td>AL</td>\n",
       "      <td>DeKalb</td>\n",
       "      <td>0.030230</td>\n",
       "      <td>31.583333</td>\n",
       "    </tr>\n",
       "    <tr>\n",
       "      <th>1</th>\n",
       "      <td>AL</td>\n",
       "      <td>Jefferson</td>\n",
       "      <td>0.024297</td>\n",
       "      <td>29.766667</td>\n",
       "    </tr>\n",
       "    <tr>\n",
       "      <th>2</th>\n",
       "      <td>AK</td>\n",
       "      <td>Denali</td>\n",
       "      <td>0.036942</td>\n",
       "      <td>35.500000</td>\n",
       "    </tr>\n",
       "    <tr>\n",
       "      <th>3</th>\n",
       "      <td>AZ</td>\n",
       "      <td>Cochise</td>\n",
       "      <td>0.037699</td>\n",
       "      <td>39.406780</td>\n",
       "    </tr>\n",
       "    <tr>\n",
       "      <th>4</th>\n",
       "      <td>AZ</td>\n",
       "      <td>Coconino</td>\n",
       "      <td>0.038844</td>\n",
       "      <td>40.662252</td>\n",
       "    </tr>\n",
       "  </tbody>\n",
       "</table>\n",
       "</div>"
      ],
      "text/plain": [
       "  State Name County Name  Arithmetic Mean        AQI\n",
       "0         AL      DeKalb         0.030230  31.583333\n",
       "1         AL   Jefferson         0.024297  29.766667\n",
       "2         AK     Denali          0.036942  35.500000\n",
       "3         AZ     Cochise         0.037699  39.406780\n",
       "4         AZ    Coconino         0.038844  40.662252"
      ]
     },
     "execution_count": 24,
     "metadata": {},
     "output_type": "execute_result"
    }
   ],
   "source": [
    "ozone_abbrev.head()"
   ]
  },
  {
   "cell_type": "code",
   "execution_count": 25,
   "metadata": {},
   "outputs": [],
   "source": [
    "#let's only take the cumulative cases - in column 9/25/20\n",
    "covid_cases_county = covid_cases_df.loc[:, ['County Name', 'State', '9/25/20']]\n",
    "\n",
    "#strip the word 'County' from the county names in the covid data\n",
    "covid_cases_county['County Name'] = [row.replace(' County', '') for row in covid_cases_county['County Name']]\n",
    "#Merge the ozone data to the covid cases data\n",
    "covid_cases_county = covid_cases_county.merge(left_on = ['State', 'County Name'], right_on = ['State Name', 'County Name'], right = ozone_abbrev )\n",
    "\n",
    "covid_deaths_county = covid_deaths_df.loc[:, ['County Name', 'State', '9/25/20']]\n",
    "#strip the word 'County' from the county names in the covid data\n",
    "covid_deaths_county['County Name'] = [row.replace(' County', '') for row in covid_deaths_county['County Name']]\n",
    "#Merge the ozone data to the ovid cases data\n",
    "covid_deaths_county = covid_deaths_county.merge(left_on = ['State', 'County Name'], right_on = ['State Name', 'County Name'], right = ozone_abbrev )"
   ]
  },
  {
   "cell_type": "code",
   "execution_count": 26,
   "metadata": {},
   "outputs": [],
   "source": [
    "#rename the observation column so that we can merge them together\n",
    "covid_cases_county = covid_cases_county.rename(columns = {'9/25/20': 'cumulative cases'})\n",
    "covid_death_county = covid_deaths_county.rename(columns = {'9/25/20': 'cumulative deaths'})\n",
    "\n",
    "#merge the deaths data and the cases data together\n",
    "covid_county = covid_cases_county.merge(right = covid_death_county.loc[:, ['cumulative deaths', 'State', 'County Name']], on = ['State', 'County Name'])\n",
    "#drop the extra state column\n",
    "covid_county = covid_county.drop(columns = 'State Name')"
   ]
  },
  {
   "cell_type": "code",
   "execution_count": 27,
   "metadata": {},
   "outputs": [],
   "source": [
    "#calculate the death rate for those infected in each county\n",
    "covid_county['percent_infected_fatal'] = covid_county['cumulative deaths'] / covid_county['cumulative cases']"
   ]
  },
  {
   "cell_type": "code",
   "execution_count": 28,
   "metadata": {},
   "outputs": [
    {
     "data": {
      "text/html": [
       "<div>\n",
       "<style scoped>\n",
       "    .dataframe tbody tr th:only-of-type {\n",
       "        vertical-align: middle;\n",
       "    }\n",
       "\n",
       "    .dataframe tbody tr th {\n",
       "        vertical-align: top;\n",
       "    }\n",
       "\n",
       "    .dataframe thead th {\n",
       "        text-align: right;\n",
       "    }\n",
       "</style>\n",
       "<table border=\"1\" class=\"dataframe\">\n",
       "  <thead>\n",
       "    <tr style=\"text-align: right;\">\n",
       "      <th></th>\n",
       "      <th>County Name</th>\n",
       "      <th>State</th>\n",
       "      <th>cumulative cases</th>\n",
       "      <th>Arithmetic Mean</th>\n",
       "      <th>AQI</th>\n",
       "      <th>cumulative deaths</th>\n",
       "      <th>percent_infected_fatal</th>\n",
       "    </tr>\n",
       "  </thead>\n",
       "  <tbody>\n",
       "    <tr>\n",
       "      <th>0</th>\n",
       "      <td>DeKalb</td>\n",
       "      <td>AL</td>\n",
       "      <td>2406</td>\n",
       "      <td>0.030230</td>\n",
       "      <td>31.583333</td>\n",
       "      <td>21</td>\n",
       "      <td>0.008728</td>\n",
       "    </tr>\n",
       "    <tr>\n",
       "      <th>1</th>\n",
       "      <td>Jefferson</td>\n",
       "      <td>AL</td>\n",
       "      <td>19572</td>\n",
       "      <td>0.024297</td>\n",
       "      <td>29.766667</td>\n",
       "      <td>350</td>\n",
       "      <td>0.017883</td>\n",
       "    </tr>\n",
       "    <tr>\n",
       "      <th>2</th>\n",
       "      <td>Cochise</td>\n",
       "      <td>AZ</td>\n",
       "      <td>1893</td>\n",
       "      <td>0.037699</td>\n",
       "      <td>39.406780</td>\n",
       "      <td>71</td>\n",
       "      <td>0.037507</td>\n",
       "    </tr>\n",
       "    <tr>\n",
       "      <th>3</th>\n",
       "      <td>Coconino</td>\n",
       "      <td>AZ</td>\n",
       "      <td>3985</td>\n",
       "      <td>0.038844</td>\n",
       "      <td>40.662252</td>\n",
       "      <td>134</td>\n",
       "      <td>0.033626</td>\n",
       "    </tr>\n",
       "    <tr>\n",
       "      <th>4</th>\n",
       "      <td>Gila</td>\n",
       "      <td>AZ</td>\n",
       "      <td>1287</td>\n",
       "      <td>0.035354</td>\n",
       "      <td>37.439560</td>\n",
       "      <td>56</td>\n",
       "      <td>0.043512</td>\n",
       "    </tr>\n",
       "  </tbody>\n",
       "</table>\n",
       "</div>"
      ],
      "text/plain": [
       "  County Name State  cumulative cases  Arithmetic Mean        AQI  \\\n",
       "0      DeKalb    AL              2406         0.030230  31.583333   \n",
       "1   Jefferson    AL             19572         0.024297  29.766667   \n",
       "2     Cochise    AZ              1893         0.037699  39.406780   \n",
       "3    Coconino    AZ              3985         0.038844  40.662252   \n",
       "4        Gila    AZ              1287         0.035354  37.439560   \n",
       "\n",
       "   cumulative deaths  percent_infected_fatal  \n",
       "0                 21                0.008728  \n",
       "1                350                0.017883  \n",
       "2                 71                0.037507  \n",
       "3                134                0.033626  \n",
       "4                 56                0.043512  "
      ]
     },
     "execution_count": 28,
     "metadata": {},
     "output_type": "execute_result"
    }
   ],
   "source": [
    "covid_county.head()"
   ]
  },
  {
   "cell_type": "code",
   "execution_count": 29,
   "metadata": {},
   "outputs": [
    {
     "data": {
      "text/plain": [
       "Text(0.5, 1.0, 'COVID Fatality and Air Quality')"
      ]
     },
     "execution_count": 29,
     "metadata": {},
     "output_type": "execute_result"
    },
    {
     "data": {
      "image/png": "[encoded data removed]",
      "text/plain": [
       "<Figure size 1440x720 with 1 Axes>"
      ]
     },
     "metadata": {
      "needs_background": "light"
     },
     "output_type": "display_data"
    }
   ],
   "source": [
    "plt.figure(figsize=(20,10))\n",
    "plt.scatter(covid_county['Arithmetic Mean'], covid_county['percent_infected_fatal'])\n",
    "plt.xlabel(\"Mean Ozone Observation in 2020 (ppm)\")\n",
    "plt.ylabel(\"Percent of COVID Cases which were Fatal\")\n",
    "plt.title(\"COVID Fatality and Air Quality\")\n",
    "\n"
   ]
  },
  {
   "cell_type": "code",
   "execution_count": 30,
   "metadata": {},
   "outputs": [
    {
     "data": {
      "text/plain": [
       "Text(0.5, 1.0, 'COVID Fatality and Air Quality')"
      ]
     },
     "execution_count": 30,
     "metadata": {},
     "output_type": "execute_result"
    },
    {
     "data": {
      "image/png": "[encoded data removed]",
      "text/plain": [
       "<Figure size 1440x720 with 1 Axes>"
      ]
     },
     "metadata": {
      "needs_background": "light"
     },
     "output_type": "display_data"
    }
   ],
   "source": [
    "plt.figure(figsize=(20,10))\n",
    "plt.scatter(covid_county['AQI'], covid_county['percent_infected_fatal'])\n",
    "plt.xlabel(\"AQI (Air Quality Index)\")\n",
    "plt.ylabel(\"Percent of COVID Cases which were Fatal\")\n",
    "plt.title(\"COVID Fatality and Air Quality\")"
   ]
  },
  {
   "cell_type": "markdown",
   "metadata": {},
   "source": [
    "I imagine that the percent of cases which are fatal would also depend on the average age of the residents..."
   ]
  },
  {
   "cell_type": "code",
   "execution_count": null,
   "metadata": {},
   "outputs": [],
   "source": []
  },
  {
   "cell_type": "markdown",
   "metadata": {},
   "source": [
    "Now let's look at the chemicals PM2.5, PM10, and NO2 in the air and if they relate to COVID cases"
   ]
  },
  {
   "cell_type": "code",
   "execution_count": 31,
   "metadata": {},
   "outputs": [],
   "source": [
    "PM25_2018 = pd.read_csv(\"./data/raw_data/daily_PM2.5/daily_88101_2018.csv\")\n",
    "PM25_2019 = pd.read_csv(\"./data/raw_data/daily_PM2.5/daily_88101_2019.csv\")\n",
    "PM25_2020 = pd.read_csv(\"./data/raw_data/daily_PM2.5/daily_88101_2020.csv\")\n",
    "\n",
    "PM10_2018 = pd.read_csv(\"./data/raw_data/daily_PM10/daily_81102_2018.csv\")\n",
    "PM10_2019 = pd.read_csv(\"./data/raw_data/daily_PM10/daily_81102_2019.csv\")\n",
    "PM10_2020 = pd.read_csv(\"./data/raw_data/daily_PM10/daily_81102_2020.csv\")\n",
    "\n",
    "NO2_2018 = pd.read_csv(\"./data/raw_data/daily_NO2/daily_42602_2018.csv\")\n",
    "NO2_2019 = pd.read_csv(\"./data/raw_data/daily_NO2/daily_42602_2019.csv\")\n",
    "NO2_2020 = pd.read_csv(\"./data/raw_data/daily_NO2/daily_42602_2020.csv\")"
   ]
  },
  {
   "cell_type": "markdown",
   "metadata": {},
   "source": [
    "Combine years 2018, 2019 and 2020 and clean the PM2.5 Data"
   ]
  },
  {
   "cell_type": "code",
   "execution_count": 32,
   "metadata": {},
   "outputs": [
    {
     "data": {
      "text/html": [
       "<div>\n",
       "<style scoped>\n",
       "    .dataframe tbody tr th:only-of-type {\n",
       "        vertical-align: middle;\n",
       "    }\n",
       "\n",
       "    .dataframe tbody tr th {\n",
       "        vertical-align: top;\n",
       "    }\n",
       "\n",
       "    .dataframe thead th {\n",
       "        text-align: right;\n",
       "    }\n",
       "</style>\n",
       "<table border=\"1\" class=\"dataframe\">\n",
       "  <thead>\n",
       "    <tr style=\"text-align: right;\">\n",
       "      <th></th>\n",
       "      <th>State Name</th>\n",
       "      <th>County Name</th>\n",
       "      <th>Mean_PM2.5</th>\n",
       "      <th>AQI</th>\n",
       "    </tr>\n",
       "  </thead>\n",
       "  <tbody>\n",
       "    <tr>\n",
       "      <th>0</th>\n",
       "      <td>Alabama</td>\n",
       "      <td>Baldwin</td>\n",
       "      <td>7.287556</td>\n",
       "      <td>30.035556</td>\n",
       "    </tr>\n",
       "    <tr>\n",
       "      <th>1</th>\n",
       "      <td>Alabama</td>\n",
       "      <td>Clay</td>\n",
       "      <td>7.207207</td>\n",
       "      <td>29.770270</td>\n",
       "    </tr>\n",
       "    <tr>\n",
       "      <th>2</th>\n",
       "      <td>Alabama</td>\n",
       "      <td>Colbert</td>\n",
       "      <td>7.420635</td>\n",
       "      <td>30.523810</td>\n",
       "    </tr>\n",
       "    <tr>\n",
       "      <th>3</th>\n",
       "      <td>Alabama</td>\n",
       "      <td>DeKalb</td>\n",
       "      <td>7.261404</td>\n",
       "      <td>29.929825</td>\n",
       "    </tr>\n",
       "    <tr>\n",
       "      <th>4</th>\n",
       "      <td>Alabama</td>\n",
       "      <td>Etowah</td>\n",
       "      <td>7.998739</td>\n",
       "      <td>32.886555</td>\n",
       "    </tr>\n",
       "  </tbody>\n",
       "</table>\n",
       "</div>"
      ],
      "text/plain": [
       "  State Name County Name  Mean_PM2.5        AQI\n",
       "0    Alabama     Baldwin    7.287556  30.035556\n",
       "1    Alabama        Clay    7.207207  29.770270\n",
       "2    Alabama     Colbert    7.420635  30.523810\n",
       "3    Alabama      DeKalb    7.261404  29.929825\n",
       "4    Alabama      Etowah    7.998739  32.886555"
      ]
     },
     "execution_count": 32,
     "metadata": {},
     "output_type": "execute_result"
    }
   ],
   "source": [
    "PM25_total = PM25_2018.append(PM25_2019).append(PM25_2020)\n",
    "PM25_total = PM25_total[['Arithmetic Mean', 'AQI', 'State Name', 'County Name', 'Date Local']]\n",
    "\n",
    "#find the mean PM2.5 value over 2018-2020 for each county\n",
    "PM25_county = PM25_total.groupby(['State Name', 'County Name']).mean()\n",
    "PM25_county.reset_index(inplace = True)\n",
    "PM25_county = PM25_county.rename(columns = {'Arithmetic Mean' : 'Mean_PM2.5'})\n",
    "PM25_county.head()"
   ]
  },
  {
   "cell_type": "markdown",
   "metadata": {},
   "source": [
    "Combine years 2018, 2019, and 2020 and clean the PM10 Data"
   ]
  },
  {
   "cell_type": "code",
   "execution_count": 33,
   "metadata": {},
   "outputs": [
    {
     "data": {
      "text/html": [
       "<div>\n",
       "<style scoped>\n",
       "    .dataframe tbody tr th:only-of-type {\n",
       "        vertical-align: middle;\n",
       "    }\n",
       "\n",
       "    .dataframe tbody tr th {\n",
       "        vertical-align: top;\n",
       "    }\n",
       "\n",
       "    .dataframe thead th {\n",
       "        text-align: right;\n",
       "    }\n",
       "</style>\n",
       "<table border=\"1\" class=\"dataframe\">\n",
       "  <thead>\n",
       "    <tr style=\"text-align: right;\">\n",
       "      <th></th>\n",
       "      <th>State Name</th>\n",
       "      <th>County Name</th>\n",
       "      <th>Mean_PM10</th>\n",
       "      <th>AQI</th>\n",
       "    </tr>\n",
       "  </thead>\n",
       "  <tbody>\n",
       "    <tr>\n",
       "      <th>0</th>\n",
       "      <td>Alabama</td>\n",
       "      <td>Jefferson</td>\n",
       "      <td>20.365941</td>\n",
       "      <td>18.766656</td>\n",
       "    </tr>\n",
       "    <tr>\n",
       "      <th>1</th>\n",
       "      <td>Alabama</td>\n",
       "      <td>Madison</td>\n",
       "      <td>13.695699</td>\n",
       "      <td>12.655914</td>\n",
       "    </tr>\n",
       "    <tr>\n",
       "      <th>2</th>\n",
       "      <td>Alabama</td>\n",
       "      <td>Montgomery</td>\n",
       "      <td>14.424370</td>\n",
       "      <td>13.285714</td>\n",
       "    </tr>\n",
       "    <tr>\n",
       "      <th>3</th>\n",
       "      <td>Alaska</td>\n",
       "      <td>Anchorage</td>\n",
       "      <td>15.725806</td>\n",
       "      <td>14.257143</td>\n",
       "    </tr>\n",
       "    <tr>\n",
       "      <th>4</th>\n",
       "      <td>Alaska</td>\n",
       "      <td>Bethel</td>\n",
       "      <td>12.085657</td>\n",
       "      <td>11.039841</td>\n",
       "    </tr>\n",
       "  </tbody>\n",
       "</table>\n",
       "</div>"
      ],
      "text/plain": [
       "  State Name County Name  Mean_PM10        AQI\n",
       "0    Alabama   Jefferson  20.365941  18.766656\n",
       "1    Alabama     Madison  13.695699  12.655914\n",
       "2    Alabama  Montgomery  14.424370  13.285714\n",
       "3     Alaska  Anchorage   15.725806  14.257143\n",
       "4     Alaska     Bethel   12.085657  11.039841"
      ]
     },
     "execution_count": 33,
     "metadata": {},
     "output_type": "execute_result"
    }
   ],
   "source": [
    "PM10_total = PM10_2018.append(PM10_2019).append(PM10_2020)\n",
    "PM10_total = PM10_total[['Arithmetic Mean', 'AQI', 'State Name', 'County Name', 'Date Local']]\n",
    "\n",
    "#find the mean PM10 value over 2018-2020 for each county\n",
    "PM10_county = PM10_total.groupby(['State Name', 'County Name']).mean()\n",
    "PM10_county.reset_index(inplace = True)\n",
    "PM10_county = PM10_county.rename(columns = {'Arithmetic Mean' : 'Mean_PM10'})\n",
    "PM10_county.head()"
   ]
  },
  {
   "cell_type": "markdown",
   "metadata": {},
   "source": [
    "Combine years 2018, 2019, and 2020 and clean the NO2 data"
   ]
  },
  {
   "cell_type": "code",
   "execution_count": 34,
   "metadata": {},
   "outputs": [
    {
     "data": {
      "text/html": [
       "<div>\n",
       "<style scoped>\n",
       "    .dataframe tbody tr th:only-of-type {\n",
       "        vertical-align: middle;\n",
       "    }\n",
       "\n",
       "    .dataframe tbody tr th {\n",
       "        vertical-align: top;\n",
       "    }\n",
       "\n",
       "    .dataframe thead th {\n",
       "        text-align: right;\n",
       "    }\n",
       "</style>\n",
       "<table border=\"1\" class=\"dataframe\">\n",
       "  <thead>\n",
       "    <tr style=\"text-align: right;\">\n",
       "      <th></th>\n",
       "      <th>State Name</th>\n",
       "      <th>County Name</th>\n",
       "      <th>Mean_NO2</th>\n",
       "      <th>AQI</th>\n",
       "    </tr>\n",
       "  </thead>\n",
       "  <tbody>\n",
       "    <tr>\n",
       "      <th>0</th>\n",
       "      <td>Alabama</td>\n",
       "      <td>Jefferson</td>\n",
       "      <td>10.467098</td>\n",
       "      <td>21.470468</td>\n",
       "    </tr>\n",
       "    <tr>\n",
       "      <th>1</th>\n",
       "      <td>Alaska</td>\n",
       "      <td>Fairbanks North Star</td>\n",
       "      <td>11.071608</td>\n",
       "      <td>19.199313</td>\n",
       "    </tr>\n",
       "    <tr>\n",
       "      <th>2</th>\n",
       "      <td>Arizona</td>\n",
       "      <td>Maricopa</td>\n",
       "      <td>16.211190</td>\n",
       "      <td>30.082415</td>\n",
       "    </tr>\n",
       "    <tr>\n",
       "      <th>3</th>\n",
       "      <td>Arizona</td>\n",
       "      <td>Pima</td>\n",
       "      <td>7.843879</td>\n",
       "      <td>16.934028</td>\n",
       "    </tr>\n",
       "    <tr>\n",
       "      <th>4</th>\n",
       "      <td>Arkansas</td>\n",
       "      <td>Crittenden</td>\n",
       "      <td>7.317950</td>\n",
       "      <td>16.151478</td>\n",
       "    </tr>\n",
       "  </tbody>\n",
       "</table>\n",
       "</div>"
      ],
      "text/plain": [
       "  State Name            County Name   Mean_NO2        AQI\n",
       "0    Alabama              Jefferson  10.467098  21.470468\n",
       "1     Alaska  Fairbanks North Star   11.071608  19.199313\n",
       "2    Arizona               Maricopa  16.211190  30.082415\n",
       "3    Arizona                   Pima   7.843879  16.934028\n",
       "4   Arkansas             Crittenden   7.317950  16.151478"
      ]
     },
     "execution_count": 34,
     "metadata": {},
     "output_type": "execute_result"
    }
   ],
   "source": [
    "NO2_total = NO2_2018.append(NO2_2019).append(NO2_2020)\n",
    "NO2_total = NO2_total[['Arithmetic Mean', 'AQI', 'State Name', 'County Name', 'Date Local']]\n",
    "\n",
    "#find the mean NO2 value over 2018-2020 for each county\n",
    "NO2_county = NO2_total.groupby(['State Name', 'County Name']).mean()\n",
    "NO2_county.reset_index(inplace = True)\n",
    "NO2_county = NO2_county.rename(columns = {'Arithmetic Mean' : 'Mean_NO2'})\n",
    "NO2_county.head()"
   ]
  },
  {
   "cell_type": "markdown",
   "metadata": {},
   "source": [
    "We did some data wrangling of the state-level data, but let's look at the county-level data now. \n",
    "\n",
    "To start, we will calculate the percent of people who got COVID that died"
   ]
  },
  {
   "cell_type": "code",
   "execution_count": 35,
   "metadata": {},
   "outputs": [],
   "source": [
    "percent_died_county = [covid_deaths_df.loc[:, col] / covid_cases_df.loc[:, col] if is_numeric_dtype(covid_cases_df[col]) else covid_cases_df[col] for col in covid_cases_df.columns.values]\n",
    "percent_died_county = pd.DataFrame(percent_died_county).transpose()\n",
    "percent_died_county = percent_died_county[['County Name', 'State', '10/8/20']]\n",
    "percent_died_county.rename(columns = {'10/8/20': 'oct_deaths/cases'}, inplace = True)"
   ]
  },
  {
   "cell_type": "code",
   "execution_count": 36,
   "metadata": {},
   "outputs": [
    {
     "data": {
      "text/html": [
       "<div>\n",
       "<style scoped>\n",
       "    .dataframe tbody tr th:only-of-type {\n",
       "        vertical-align: middle;\n",
       "    }\n",
       "\n",
       "    .dataframe tbody tr th {\n",
       "        vertical-align: top;\n",
       "    }\n",
       "\n",
       "    .dataframe thead th {\n",
       "        text-align: right;\n",
       "    }\n",
       "</style>\n",
       "<table border=\"1\" class=\"dataframe\">\n",
       "  <thead>\n",
       "    <tr style=\"text-align: right;\">\n",
       "      <th></th>\n",
       "      <th>County Name</th>\n",
       "      <th>State</th>\n",
       "      <th>oct_deaths/cases</th>\n",
       "    </tr>\n",
       "  </thead>\n",
       "  <tbody>\n",
       "    <tr>\n",
       "      <th>0</th>\n",
       "      <td>Statewide Unallocated</td>\n",
       "      <td>AL</td>\n",
       "      <td>NaN</td>\n",
       "    </tr>\n",
       "    <tr>\n",
       "      <th>1</th>\n",
       "      <td>Autauga County</td>\n",
       "      <td>AL</td>\n",
       "      <td>0.0150295</td>\n",
       "    </tr>\n",
       "    <tr>\n",
       "      <th>2</th>\n",
       "      <td>Baldwin County</td>\n",
       "      <td>AL</td>\n",
       "      <td>0.0104218</td>\n",
       "    </tr>\n",
       "    <tr>\n",
       "      <th>3</th>\n",
       "      <td>Barbour County</td>\n",
       "      <td>AL</td>\n",
       "      <td>0.00970874</td>\n",
       "    </tr>\n",
       "    <tr>\n",
       "      <th>4</th>\n",
       "      <td>Bibb County</td>\n",
       "      <td>AL</td>\n",
       "      <td>0.0169492</td>\n",
       "    </tr>\n",
       "    <tr>\n",
       "      <th>...</th>\n",
       "      <td>...</td>\n",
       "      <td>...</td>\n",
       "      <td>...</td>\n",
       "    </tr>\n",
       "    <tr>\n",
       "      <th>3190</th>\n",
       "      <td>Sweetwater County</td>\n",
       "      <td>WY</td>\n",
       "      <td>0.0052356</td>\n",
       "    </tr>\n",
       "    <tr>\n",
       "      <th>3191</th>\n",
       "      <td>Teton County</td>\n",
       "      <td>WY</td>\n",
       "      <td>0.00155039</td>\n",
       "    </tr>\n",
       "    <tr>\n",
       "      <th>3192</th>\n",
       "      <td>Uinta County</td>\n",
       "      <td>WY</td>\n",
       "      <td>0.00536193</td>\n",
       "    </tr>\n",
       "    <tr>\n",
       "      <th>3193</th>\n",
       "      <td>Washakie County</td>\n",
       "      <td>WY</td>\n",
       "      <td>0.0487805</td>\n",
       "    </tr>\n",
       "    <tr>\n",
       "      <th>3194</th>\n",
       "      <td>Weston County</td>\n",
       "      <td>WY</td>\n",
       "      <td>0</td>\n",
       "    </tr>\n",
       "  </tbody>\n",
       "</table>\n",
       "<p>3195 rows × 3 columns</p>\n",
       "</div>"
      ],
      "text/plain": [
       "                County Name State oct_deaths/cases\n",
       "0     Statewide Unallocated    AL              NaN\n",
       "1            Autauga County    AL        0.0150295\n",
       "2            Baldwin County    AL        0.0104218\n",
       "3            Barbour County    AL       0.00970874\n",
       "4               Bibb County    AL        0.0169492\n",
       "...                     ...   ...              ...\n",
       "3190      Sweetwater County    WY        0.0052356\n",
       "3191           Teton County    WY       0.00155039\n",
       "3192           Uinta County    WY       0.00536193\n",
       "3193        Washakie County    WY        0.0487805\n",
       "3194          Weston County    WY                0\n",
       "\n",
       "[3195 rows x 3 columns]"
      ]
     },
     "execution_count": 36,
     "metadata": {},
     "output_type": "execute_result"
    }
   ],
   "source": [
    "percent_died_county"
   ]
  },
  {
   "cell_type": "code",
   "execution_count": 37,
   "metadata": {},
   "outputs": [
    {
     "name": "stderr",
     "output_type": "stream",
     "text": [
      "C:\\Users\\baile\\anaconda3\\lib\\site-packages\\pandas\\core\\indexing.py:1048: SettingWithCopyWarning: \n",
      "A value is trying to be set on a copy of a slice from a DataFrame.\n",
      "Try using .loc[row_indexer,col_indexer] = value instead\n",
      "\n",
      "See the caveats in the documentation: https://pandas.pydata.org/pandas-docs/stable/user_guide/indexing.html#returning-a-view-versus-a-copy\n",
      "  self.obj[item_labels[indexer[info_axis]]] = value\n"
     ]
    },
    {
     "data": {
      "text/html": [
       "<div>\n",
       "<style scoped>\n",
       "    .dataframe tbody tr th:only-of-type {\n",
       "        vertical-align: middle;\n",
       "    }\n",
       "\n",
       "    .dataframe tbody tr th {\n",
       "        vertical-align: top;\n",
       "    }\n",
       "\n",
       "    .dataframe thead th {\n",
       "        text-align: right;\n",
       "    }\n",
       "</style>\n",
       "<table border=\"1\" class=\"dataframe\">\n",
       "  <thead>\n",
       "    <tr style=\"text-align: right;\">\n",
       "      <th></th>\n",
       "      <th>County Name</th>\n",
       "      <th>State</th>\n",
       "      <th>oct_deaths/cases</th>\n",
       "    </tr>\n",
       "  </thead>\n",
       "  <tbody>\n",
       "    <tr>\n",
       "      <th>1</th>\n",
       "      <td>Autauga</td>\n",
       "      <td>AL</td>\n",
       "      <td>0.0150295</td>\n",
       "    </tr>\n",
       "    <tr>\n",
       "      <th>2</th>\n",
       "      <td>Baldwin</td>\n",
       "      <td>AL</td>\n",
       "      <td>0.0104218</td>\n",
       "    </tr>\n",
       "    <tr>\n",
       "      <th>3</th>\n",
       "      <td>Barbour</td>\n",
       "      <td>AL</td>\n",
       "      <td>0.00970874</td>\n",
       "    </tr>\n",
       "    <tr>\n",
       "      <th>4</th>\n",
       "      <td>Bibb</td>\n",
       "      <td>AL</td>\n",
       "      <td>0.0169492</td>\n",
       "    </tr>\n",
       "    <tr>\n",
       "      <th>5</th>\n",
       "      <td>Blount</td>\n",
       "      <td>AL</td>\n",
       "      <td>0.00951814</td>\n",
       "    </tr>\n",
       "  </tbody>\n",
       "</table>\n",
       "</div>"
      ],
      "text/plain": [
       "  County Name State oct_deaths/cases\n",
       "1     Autauga    AL        0.0150295\n",
       "2     Baldwin    AL        0.0104218\n",
       "3     Barbour    AL       0.00970874\n",
       "4        Bibb    AL        0.0169492\n",
       "5      Blount    AL       0.00951814"
      ]
     },
     "execution_count": 37,
     "metadata": {},
     "output_type": "execute_result"
    }
   ],
   "source": [
    "#drop the ones that don't have any data - they aren't helping us\n",
    "percent_died_county = percent_died_county[percent_died_county['County Name'] != 'Statewide Unallocated']\n",
    "percent_died_county.loc[:, 'County Name'] = [row.replace(' County', '') for row in percent_died_county['County Name']]\n",
    "\n",
    "percent_died_county.head()\n"
   ]
  },
  {
   "cell_type": "markdown",
   "metadata": {},
   "source": [
    "Now let's merge our air data onto this percent deaths data"
   ]
  },
  {
   "cell_type": "code",
   "execution_count": 38,
   "metadata": {},
   "outputs": [
    {
     "data": {
      "text/html": [
       "<div>\n",
       "<style scoped>\n",
       "    .dataframe tbody tr th:only-of-type {\n",
       "        vertical-align: middle;\n",
       "    }\n",
       "\n",
       "    .dataframe tbody tr th {\n",
       "        vertical-align: top;\n",
       "    }\n",
       "\n",
       "    .dataframe thead th {\n",
       "        text-align: right;\n",
       "    }\n",
       "</style>\n",
       "<table border=\"1\" class=\"dataframe\">\n",
       "  <thead>\n",
       "    <tr style=\"text-align: right;\">\n",
       "      <th></th>\n",
       "      <th>State Name</th>\n",
       "      <th>County Name</th>\n",
       "      <th>Mean_PM2.5</th>\n",
       "      <th>AQI</th>\n",
       "    </tr>\n",
       "  </thead>\n",
       "  <tbody>\n",
       "    <tr>\n",
       "      <th>0</th>\n",
       "      <td>AL</td>\n",
       "      <td>Baldwin</td>\n",
       "      <td>7.287556</td>\n",
       "      <td>30.035556</td>\n",
       "    </tr>\n",
       "    <tr>\n",
       "      <th>1</th>\n",
       "      <td>AL</td>\n",
       "      <td>Clay</td>\n",
       "      <td>7.207207</td>\n",
       "      <td>29.770270</td>\n",
       "    </tr>\n",
       "    <tr>\n",
       "      <th>2</th>\n",
       "      <td>AL</td>\n",
       "      <td>Colbert</td>\n",
       "      <td>7.420635</td>\n",
       "      <td>30.523810</td>\n",
       "    </tr>\n",
       "    <tr>\n",
       "      <th>3</th>\n",
       "      <td>AL</td>\n",
       "      <td>DeKalb</td>\n",
       "      <td>7.261404</td>\n",
       "      <td>29.929825</td>\n",
       "    </tr>\n",
       "    <tr>\n",
       "      <th>4</th>\n",
       "      <td>AL</td>\n",
       "      <td>Etowah</td>\n",
       "      <td>7.998739</td>\n",
       "      <td>32.886555</td>\n",
       "    </tr>\n",
       "    <tr>\n",
       "      <th>...</th>\n",
       "      <td>...</td>\n",
       "      <td>...</td>\n",
       "      <td>...</td>\n",
       "      <td>...</td>\n",
       "    </tr>\n",
       "    <tr>\n",
       "      <th>639</th>\n",
       "      <td>WY</td>\n",
       "      <td>Park</td>\n",
       "      <td>3.273129</td>\n",
       "      <td>13.343799</td>\n",
       "    </tr>\n",
       "    <tr>\n",
       "      <th>640</th>\n",
       "      <td>WY</td>\n",
       "      <td>Sheridan</td>\n",
       "      <td>6.513791</td>\n",
       "      <td>24.740209</td>\n",
       "    </tr>\n",
       "    <tr>\n",
       "      <th>641</th>\n",
       "      <td>WY</td>\n",
       "      <td>Sublette</td>\n",
       "      <td>4.188339</td>\n",
       "      <td>16.746009</td>\n",
       "    </tr>\n",
       "    <tr>\n",
       "      <th>642</th>\n",
       "      <td>WY</td>\n",
       "      <td>Sweetwater</td>\n",
       "      <td>4.920084</td>\n",
       "      <td>20.041841</td>\n",
       "    </tr>\n",
       "    <tr>\n",
       "      <th>643</th>\n",
       "      <td>WY</td>\n",
       "      <td>Teton</td>\n",
       "      <td>3.113636</td>\n",
       "      <td>12.898810</td>\n",
       "    </tr>\n",
       "  </tbody>\n",
       "</table>\n",
       "<p>644 rows × 4 columns</p>\n",
       "</div>"
      ],
      "text/plain": [
       "    State Name County Name  Mean_PM2.5        AQI\n",
       "0           AL     Baldwin    7.287556  30.035556\n",
       "1           AL        Clay    7.207207  29.770270\n",
       "2           AL     Colbert    7.420635  30.523810\n",
       "3           AL      DeKalb    7.261404  29.929825\n",
       "4           AL      Etowah    7.998739  32.886555\n",
       "..         ...         ...         ...        ...\n",
       "639         WY        Park    3.273129  13.343799\n",
       "640         WY    Sheridan    6.513791  24.740209\n",
       "641         WY    Sublette    4.188339  16.746009\n",
       "642         WY  Sweetwater    4.920084  20.041841\n",
       "643         WY       Teton    3.113636  12.898810\n",
       "\n",
       "[644 rows x 4 columns]"
      ]
     },
     "execution_count": 38,
     "metadata": {},
     "output_type": "execute_result"
    }
   ],
   "source": [
    "#rename our environmental state names to the abbreviations \n",
    "PM25_county = PM25_county.replace({\"State Name\": us_state_abbrev})\n",
    "PM10_county = PM10_county.replace({\"State Name\": us_state_abbrev})\n",
    "NO2_county = NO2_county.replace({\"State Name\": us_state_abbrev})\n",
    "PM25_county"
   ]
  },
  {
   "cell_type": "code",
   "execution_count": 39,
   "metadata": {},
   "outputs": [],
   "source": [
    "pm25_total_df = percent_died_county.merge(right = PM25_county, left_on = ['State', 'County Name'], right_on = ['State Name', 'County Name'])\n",
    "pm10_total_df = percent_died_county.merge(right = PM10_county, left_on = ['State', 'County Name'], right_on = ['State Name', 'County Name'])\n",
    "no2_total_df = percent_died_county.merge(right = NO2_county, left_on = ['State', 'County Name'], right_on = ['State Name', 'County Name'])"
   ]
  },
  {
   "cell_type": "code",
   "execution_count": 40,
   "metadata": {},
   "outputs": [
    {
     "data": {
      "text/plain": [
       "Text(0.5, 1.0, 'COVID Fatality Rates and PM2.5 Levels')"
      ]
     },
     "execution_count": 40,
     "metadata": {},
     "output_type": "execute_result"
    },
    {
     "data": {
      "image/png": "[encoded data removed]",
      "text/plain": [
       "<Figure size 1440x720 with 1 Axes>"
      ]
     },
     "metadata": {
      "needs_background": "light"
     },
     "output_type": "display_data"
    }
   ],
   "source": [
    "plt.figure(figsize= (20,10))\n",
    "plt.scatter(pm25_total_df['Mean_PM2.5'], pm25_total_df['oct_deaths/cases'])\n",
    "plt.xlabel(\"Average PM2.5 Level 2018-2020\")\n",
    "plt.ylabel(\"COVID Fatality Rate\")\n",
    "plt.title(\"COVID Fatality Rates and PM2.5 Levels\")"
   ]
  },
  {
   "cell_type": "code",
   "execution_count": 60,
   "metadata": {},
   "outputs": [
    {
     "data": {
      "text/plain": [
       "Text(0.5, 1.0, 'Distribution of Fatality rate of COVID')"
      ]
     },
     "execution_count": 60,
     "metadata": {},
     "output_type": "execute_result"
    },
    {
     "data": {
      "image/png": "[encoded data removed]",
      "text/plain": [
       "<Figure size 1440x720 with 2 Axes>"
      ]
     },
     "metadata": {
      "needs_background": "light"
     },
     "output_type": "display_data"
    }
   ],
   "source": [
    "fig, (ax1, ax2) = plt.subplots(1,2, figsize = (20,10))\n",
    "ax1.hist(pm25_total_df['Mean_PM2.5'], bins = 'auto')\n",
    "ax1.set_title(\"Distribution of PM2.5 2017-2020\")\n",
    "ax2.hist(pm25_total_df['oct_deaths/cases'], bins = 'auto')\n",
    "ax2.set_title(\"Distribution of Fatality rate of COVID\")"
   ]
  },
  {
   "cell_type": "markdown",
   "metadata": {},
   "source": [
    "The COVID fatality data is not normally distributed, so we will use the spearman correlation coefficient"
   ]
  },
  {
   "cell_type": "code",
   "execution_count": 53,
   "metadata": {},
   "outputs": [
    {
     "name": "stdout",
     "output_type": "stream",
     "text": [
      "SpearmanrResult(correlation=0.1308791154683056, pvalue=0.0012534433338808495)\n"
     ]
    }
   ],
   "source": [
    "pm25_total_corr = stats.spearmanr(pm25_total_df['Mean_PM2.5'], pm25_total_df['oct_deaths/cases'])\n",
    "print(pm25_total_corr)"
   ]
  },
  {
   "cell_type": "markdown",
   "metadata": {},
   "source": [
    "There is a statistically significant weak positive correlation between the past 3 years' worth of PM2.5 data and the severity of COVID cases"
   ]
  },
  {
   "cell_type": "code",
   "execution_count": 43,
   "metadata": {},
   "outputs": [
    {
     "data": {
      "text/plain": [
       "Text(0.5, 1.0, 'COVID Fatality Rates and PM10 Levels')"
      ]
     },
     "execution_count": 43,
     "metadata": {},
     "output_type": "execute_result"
    },
    {
     "data": {
      "image/png": "[encoded data removed]",
      "text/plain": [
       "<Figure size 1440x720 with 1 Axes>"
      ]
     },
     "metadata": {
      "needs_background": "light"
     },
     "output_type": "display_data"
    }
   ],
   "source": [
    "plt.figure(figsize= (20,10))\n",
    "plt.scatter(pm10_total_df['Mean_PM10'], pm10_total_df['oct_deaths/cases'])\n",
    "plt.xlabel(\"Average PM10 Level 2018-2020\")\n",
    "plt.ylabel(\"COVID Fatality Rate\")\n",
    "plt.title(\"COVID Fatality Rates and PM10 Levels\")"
   ]
  },
  {
   "cell_type": "code",
   "execution_count": 61,
   "metadata": {},
   "outputs": [
    {
     "data": {
      "text/plain": [
       "Text(0.5, 1.0, 'Distribution of Fatality rate of COVID')"
      ]
     },
     "execution_count": 61,
     "metadata": {},
     "output_type": "execute_result"
    },
    {
     "data": {
      "image/png": "[encoded data removed]",
      "text/plain": [
       "<Figure size 1440x720 with 2 Axes>"
      ]
     },
     "metadata": {
      "needs_background": "light"
     },
     "output_type": "display_data"
    }
   ],
   "source": [
    "fig, (ax1, ax2) = plt.subplots(1,2, figsize = (20,10))\n",
    "ax1.hist(pm10_total_df['Mean_PM10'], bins = 'auto')\n",
    "ax1.set_title(\"Distribution of PM10 2017-2020\")\n",
    "ax2.hist(pm10_total_df['oct_deaths/cases'], bins = 'auto')\n",
    "ax2.set_title(\"Distribution of Fatality rate of COVID\")"
   ]
  },
  {
   "cell_type": "code",
   "execution_count": 84,
   "metadata": {},
   "outputs": [
    {
     "name": "stdout",
     "output_type": "stream",
     "text": [
      "SpearmanrResult(correlation=-0.0518986185211591, pvalue=0.3472989486045436)\n"
     ]
    }
   ],
   "source": [
    "pm10_total_corr = stats.spearmanr(pm10_total_df['Mean_PM10'], pm10_total_df['oct_deaths/cases'])\n",
    "print(pm10_total_corr)"
   ]
  },
  {
   "cell_type": "markdown",
   "metadata": {},
   "source": [
    "Correlation is not statistically significant for PM10 over the last 3 years"
   ]
  },
  {
   "cell_type": "code",
   "execution_count": 231,
   "metadata": {},
   "outputs": [
    {
     "data": {
      "text/plain": [
       "Text(0.5, 1.0, 'COVID Fatality Rates and NO2 Levels')"
      ]
     },
     "execution_count": 231,
     "metadata": {},
     "output_type": "execute_result"
    },
    {
     "data": {
      "image/png": "[encoded data removed]",
      "text/plain": [
       "<Figure size 1440x720 with 1 Axes>"
      ]
     },
     "metadata": {
      "needs_background": "light"
     },
     "output_type": "display_data"
    }
   ],
   "source": [
    "plt.figure(figsize= (20,10))\n",
    "plt.scatter(no2_total_df['Mean_NO2'], no2_total_df['oct_deaths/cases'])\n",
    "plt.xlabel(\"Average NO2 Level 2018-2020\")\n",
    "plt.ylabel(\"COVID Fatality Rate\")\n",
    "plt.title(\"COVID Fatality Rates and NO2 Levels\")"
   ]
  },
  {
   "cell_type": "code",
   "execution_count": 62,
   "metadata": {},
   "outputs": [
    {
     "data": {
      "text/plain": [
       "Text(0.5, 1.0, 'Distribution of Fatality rate of COVID')"
      ]
     },
     "execution_count": 62,
     "metadata": {},
     "output_type": "execute_result"
    },
    {
     "data": {
      "image/png": "[encoded data removed]",
      "text/plain": [
       "<Figure size 1440x720 with 2 Axes>"
      ]
     },
     "metadata": {
      "needs_background": "light"
     },
     "output_type": "display_data"
    }
   ],
   "source": [
    "fig, (ax1, ax2) = plt.subplots(1,2, figsize = (20,10))\n",
    "ax1.hist(no2_total_df['Mean_NO2'], bins = 'auto')\n",
    "ax1.set_title(\"Distribution of NO2 2017-2020\")\n",
    "ax2.hist(no2_total_df['oct_deaths/cases'], bins = 'auto')\n",
    "ax2.set_title(\"Distribution of Fatality rate of COVID\")"
   ]
  },
  {
   "cell_type": "code",
   "execution_count": 63,
   "metadata": {},
   "outputs": [
    {
     "name": "stdout",
     "output_type": "stream",
     "text": [
      "SpearmanrResult(correlation=0.3773694173562608, pvalue=7.561999594251502e-10)\n"
     ]
    }
   ],
   "source": [
    "no2_total_corr = stats.spearmanr(no2_total_df['Mean_NO2'], no2_total_df['oct_deaths/cases'])\n",
    "print(no2_total_corr)"
   ]
  },
  {
   "cell_type": "markdown",
   "metadata": {},
   "source": [
    "This one is HIGHLY significant! "
   ]
  },
  {
   "cell_type": "markdown",
   "metadata": {},
   "source": [
    "Let's look at this same question, but zoomed in to the air quality since 2020. PM2.5, PM10, and NO2 all stay in the air less than a day, so the more recent data is what really matters"
   ]
  },
  {
   "cell_type": "code",
   "execution_count": 68,
   "metadata": {},
   "outputs": [
    {
     "data": {
      "text/html": [
       "<div>\n",
       "<style scoped>\n",
       "    .dataframe tbody tr th:only-of-type {\n",
       "        vertical-align: middle;\n",
       "    }\n",
       "\n",
       "    .dataframe tbody tr th {\n",
       "        vertical-align: top;\n",
       "    }\n",
       "\n",
       "    .dataframe thead th {\n",
       "        text-align: right;\n",
       "    }\n",
       "</style>\n",
       "<table border=\"1\" class=\"dataframe\">\n",
       "  <thead>\n",
       "    <tr style=\"text-align: right;\">\n",
       "      <th></th>\n",
       "      <th>State Name</th>\n",
       "      <th>County Name</th>\n",
       "      <th>Mean_PM2.5</th>\n",
       "      <th>AQI</th>\n",
       "    </tr>\n",
       "  </thead>\n",
       "  <tbody>\n",
       "    <tr>\n",
       "      <th>0</th>\n",
       "      <td>Alabama</td>\n",
       "      <td>Baldwin</td>\n",
       "      <td>5.972727</td>\n",
       "      <td>24.818182</td>\n",
       "    </tr>\n",
       "    <tr>\n",
       "      <th>1</th>\n",
       "      <td>Alabama</td>\n",
       "      <td>Clay</td>\n",
       "      <td>4.160000</td>\n",
       "      <td>17.400000</td>\n",
       "    </tr>\n",
       "    <tr>\n",
       "      <th>2</th>\n",
       "      <td>Alabama</td>\n",
       "      <td>DeKalb</td>\n",
       "      <td>5.900000</td>\n",
       "      <td>24.666667</td>\n",
       "    </tr>\n",
       "    <tr>\n",
       "      <th>3</th>\n",
       "      <td>Alabama</td>\n",
       "      <td>Etowah</td>\n",
       "      <td>5.900000</td>\n",
       "      <td>24.500000</td>\n",
       "    </tr>\n",
       "    <tr>\n",
       "      <th>4</th>\n",
       "      <td>Alabama</td>\n",
       "      <td>Jefferson</td>\n",
       "      <td>8.007725</td>\n",
       "      <td>32.285714</td>\n",
       "    </tr>\n",
       "  </tbody>\n",
       "</table>\n",
       "</div>"
      ],
      "text/plain": [
       "  State Name County Name  Mean_PM2.5        AQI\n",
       "0    Alabama     Baldwin    5.972727  24.818182\n",
       "1    Alabama        Clay    4.160000  17.400000\n",
       "2    Alabama      DeKalb    5.900000  24.666667\n",
       "3    Alabama      Etowah    5.900000  24.500000\n",
       "4    Alabama   Jefferson    8.007725  32.285714"
      ]
     },
     "execution_count": 68,
     "metadata": {},
     "output_type": "execute_result"
    }
   ],
   "source": [
    "PM25_2020_df = PM25_2020[['Arithmetic Mean', 'AQI', 'State Name', 'County Name', 'Date Local']]\n",
    "\n",
    "\n",
    "#find the mean PM2.5 value over 2020 for each county\n",
    "PM25_2020_df = PM25_2020_df.groupby(['State Name', 'County Name']).mean()\n",
    "PM25_2020_df.reset_index(inplace = True)\n",
    "PM25_2020_df = PM25_2020_df.rename(columns = {'Arithmetic Mean' : 'Mean_PM2.5'})\n",
    "PM25_2020_df.head()"
   ]
  },
  {
   "cell_type": "code",
   "execution_count": 69,
   "metadata": {},
   "outputs": [
    {
     "data": {
      "text/html": [
       "<div>\n",
       "<style scoped>\n",
       "    .dataframe tbody tr th:only-of-type {\n",
       "        vertical-align: middle;\n",
       "    }\n",
       "\n",
       "    .dataframe tbody tr th {\n",
       "        vertical-align: top;\n",
       "    }\n",
       "\n",
       "    .dataframe thead th {\n",
       "        text-align: right;\n",
       "    }\n",
       "</style>\n",
       "<table border=\"1\" class=\"dataframe\">\n",
       "  <thead>\n",
       "    <tr style=\"text-align: right;\">\n",
       "      <th></th>\n",
       "      <th>State Name</th>\n",
       "      <th>County Name</th>\n",
       "      <th>Mean_PM10</th>\n",
       "      <th>AQI</th>\n",
       "    </tr>\n",
       "  </thead>\n",
       "  <tbody>\n",
       "    <tr>\n",
       "      <th>0</th>\n",
       "      <td>Alabama</td>\n",
       "      <td>Jefferson</td>\n",
       "      <td>18.431034</td>\n",
       "      <td>16.879310</td>\n",
       "    </tr>\n",
       "    <tr>\n",
       "      <th>1</th>\n",
       "      <td>Alabama</td>\n",
       "      <td>Montgomery</td>\n",
       "      <td>10.750000</td>\n",
       "      <td>10.000000</td>\n",
       "    </tr>\n",
       "    <tr>\n",
       "      <th>2</th>\n",
       "      <td>Arizona</td>\n",
       "      <td>Apache</td>\n",
       "      <td>9.285714</td>\n",
       "      <td>8.571429</td>\n",
       "    </tr>\n",
       "    <tr>\n",
       "      <th>3</th>\n",
       "      <td>Arizona</td>\n",
       "      <td>Cochise</td>\n",
       "      <td>13.269231</td>\n",
       "      <td>12.258242</td>\n",
       "    </tr>\n",
       "    <tr>\n",
       "      <th>4</th>\n",
       "      <td>Arizona</td>\n",
       "      <td>Gila</td>\n",
       "      <td>13.919414</td>\n",
       "      <td>12.824176</td>\n",
       "    </tr>\n",
       "  </tbody>\n",
       "</table>\n",
       "</div>"
      ],
      "text/plain": [
       "  State Name County Name  Mean_PM10        AQI\n",
       "0    Alabama   Jefferson  18.431034  16.879310\n",
       "1    Alabama  Montgomery  10.750000  10.000000\n",
       "2    Arizona      Apache   9.285714   8.571429\n",
       "3    Arizona     Cochise  13.269231  12.258242\n",
       "4    Arizona        Gila  13.919414  12.824176"
      ]
     },
     "execution_count": 69,
     "metadata": {},
     "output_type": "execute_result"
    }
   ],
   "source": [
    "PM10_2020_df = PM10_2020[['Arithmetic Mean', 'AQI', 'State Name', 'County Name', 'Date Local']]\n",
    "\n",
    "#find the mean PM10 value over 2020 for each county\n",
    "PM10_2020_df = PM10_2020_df.groupby(['State Name', 'County Name']).mean()\n",
    "PM10_2020_df.reset_index(inplace = True)\n",
    "PM10_2020_df = PM10_2020_df.rename(columns = {'Arithmetic Mean' : 'Mean_PM10'})\n",
    "PM10_2020_df.head()"
   ]
  },
  {
   "cell_type": "code",
   "execution_count": 70,
   "metadata": {},
   "outputs": [
    {
     "data": {
      "text/html": [
       "<div>\n",
       "<style scoped>\n",
       "    .dataframe tbody tr th:only-of-type {\n",
       "        vertical-align: middle;\n",
       "    }\n",
       "\n",
       "    .dataframe tbody tr th {\n",
       "        vertical-align: top;\n",
       "    }\n",
       "\n",
       "    .dataframe thead th {\n",
       "        text-align: right;\n",
       "    }\n",
       "</style>\n",
       "<table border=\"1\" class=\"dataframe\">\n",
       "  <thead>\n",
       "    <tr style=\"text-align: right;\">\n",
       "      <th></th>\n",
       "      <th>State Name</th>\n",
       "      <th>County Name</th>\n",
       "      <th>Mean_NO2</th>\n",
       "      <th>AQI</th>\n",
       "    </tr>\n",
       "  </thead>\n",
       "  <tbody>\n",
       "    <tr>\n",
       "      <th>0</th>\n",
       "      <td>Alabama</td>\n",
       "      <td>Jefferson</td>\n",
       "      <td>12.966146</td>\n",
       "      <td>23.112903</td>\n",
       "    </tr>\n",
       "    <tr>\n",
       "      <th>1</th>\n",
       "      <td>Arizona</td>\n",
       "      <td>Maricopa</td>\n",
       "      <td>18.369909</td>\n",
       "      <td>30.754464</td>\n",
       "    </tr>\n",
       "    <tr>\n",
       "      <th>2</th>\n",
       "      <td>Arkansas</td>\n",
       "      <td>Crittenden</td>\n",
       "      <td>7.289488</td>\n",
       "      <td>15.967033</td>\n",
       "    </tr>\n",
       "    <tr>\n",
       "      <th>3</th>\n",
       "      <td>Arkansas</td>\n",
       "      <td>Pulaski</td>\n",
       "      <td>8.204746</td>\n",
       "      <td>18.098901</td>\n",
       "    </tr>\n",
       "    <tr>\n",
       "      <th>4</th>\n",
       "      <td>California</td>\n",
       "      <td>Riverside</td>\n",
       "      <td>2.820523</td>\n",
       "      <td>7.225806</td>\n",
       "    </tr>\n",
       "  </tbody>\n",
       "</table>\n",
       "</div>"
      ],
      "text/plain": [
       "   State Name County Name   Mean_NO2        AQI\n",
       "0     Alabama   Jefferson  12.966146  23.112903\n",
       "1     Arizona    Maricopa  18.369909  30.754464\n",
       "2    Arkansas  Crittenden   7.289488  15.967033\n",
       "3    Arkansas     Pulaski   8.204746  18.098901\n",
       "4  California   Riverside   2.820523   7.225806"
      ]
     },
     "execution_count": 70,
     "metadata": {},
     "output_type": "execute_result"
    }
   ],
   "source": [
    "NO2_2020_df = NO2_2020[['Arithmetic Mean', 'AQI', 'State Name', 'County Name', 'Date Local']]\n",
    "\n",
    "#find the mean PM10 value over 2020 for each county\n",
    "NO2_2020_df = NO2_2020_df.groupby(['State Name', 'County Name']).mean()\n",
    "NO2_2020_df.reset_index(inplace = True)\n",
    "NO2_2020_df = NO2_2020_df.rename(columns = {'Arithmetic Mean' : 'Mean_NO2'})\n",
    "NO2_2020_df.head()"
   ]
  },
  {
   "cell_type": "code",
   "execution_count": 71,
   "metadata": {},
   "outputs": [],
   "source": [
    "#rename our environmental state names to the abbreviations \n",
    "PM25_2020_df = PM25_2020_df.replace({\"State Name\": us_state_abbrev})\n",
    "PM10_2020_df = PM10_2020_df.replace({\"State Name\": us_state_abbrev})\n",
    "NO2_2020_df = NO2_2020_df.replace({\"State Name\": us_state_abbrev})\n",
    "\n",
    "pm25_post_covid = percent_died_county.merge(right = PM25_2020_df, left_on = ['State', 'County Name'], right_on = ['State Name', 'County Name'])\n",
    "pm10_post_covid = percent_died_county.merge(right = PM10_2020_df, left_on = ['State', 'County Name'], right_on = ['State Name', 'County Name'])\n",
    "no2_post_covid = percent_died_county.merge(right = NO2_2020_df, left_on = ['State', 'County Name'], right_on = ['State Name', 'County Name'])"
   ]
  },
  {
   "cell_type": "code",
   "execution_count": 72,
   "metadata": {},
   "outputs": [
    {
     "data": {
      "text/plain": [
       "Text(0.5, 1.0, 'COVID Fatality Rates and PM2.5 Levels')"
      ]
     },
     "execution_count": 72,
     "metadata": {},
     "output_type": "execute_result"
    },
    {
     "data": {
      "image/png": "[encoded data removed]",
      "text/plain": [
       "<Figure size 1440x720 with 1 Axes>"
      ]
     },
     "metadata": {
      "needs_background": "light"
     },
     "output_type": "display_data"
    }
   ],
   "source": [
    "plt.figure(figsize= (20,10))\n",
    "plt.scatter(pm25_post_covid['Mean_PM2.5'], pm25_post_covid['oct_deaths/cases'])\n",
    "plt.xlabel(\"Average PM2.5 Level 2020\")\n",
    "plt.ylabel(\"COVID Fatality Rate\")\n",
    "plt.title(\"COVID Fatality Rates and PM2.5 Levels\")"
   ]
  },
  {
   "cell_type": "code",
   "execution_count": 76,
   "metadata": {},
   "outputs": [
    {
     "data": {
      "text/plain": [
       "Text(0.5, 1.0, 'Distribution of Fatality rate of COVID')"
      ]
     },
     "execution_count": 76,
     "metadata": {},
     "output_type": "execute_result"
    },
    {
     "data": {
      "image/png": "[encoded data removed]",
      "text/plain": [
       "<Figure size 1440x720 with 2 Axes>"
      ]
     },
     "metadata": {
      "needs_background": "light"
     },
     "output_type": "display_data"
    }
   ],
   "source": [
    "fig, (ax1, ax2) = plt.subplots(1,2, figsize = (20,10))\n",
    "ax1.hist(pm25_post_covid['Mean_PM2.5'], bins = 'auto')\n",
    "ax1.set_title(\"Distribution of PM2.5 in 2020\")\n",
    "ax2.hist(pm25_post_covid['oct_deaths/cases'], bins = 'auto')\n",
    "ax2.set_title(\"Distribution of Fatality rate of COVID\")"
   ]
  },
  {
   "cell_type": "code",
   "execution_count": 80,
   "metadata": {},
   "outputs": [
    {
     "name": "stdout",
     "output_type": "stream",
     "text": [
      "SpearmanrResult(correlation=0.21140429523579196, pvalue=8.557187560820302e-05)\n"
     ]
    }
   ],
   "source": [
    "pm25_2020_corr = stats.spearmanr(pm25_post_covid['Mean_PM2.5'], pm25_post_covid['oct_deaths/cases'])\n",
    "print(pm25_2020_corr)"
   ]
  },
  {
   "cell_type": "markdown",
   "metadata": {},
   "source": [
    "The correlation between 2020 PM2.5 and covid severity is statistically significant, with a weak positive correlation"
   ]
  },
  {
   "cell_type": "code",
   "execution_count": 261,
   "metadata": {},
   "outputs": [
    {
     "data": {
      "text/plain": [
       "Text(0.5, 1.0, 'COVID Fatality Rates and PM2.5 Levels')"
      ]
     },
     "execution_count": 261,
     "metadata": {},
     "output_type": "execute_result"
    },
    {
     "data": {
      "image/png": "[encoded data removed]",
      "text/plain": [
       "<Figure size 1440x720 with 1 Axes>"
      ]
     },
     "metadata": {
      "needs_background": "light"
     },
     "output_type": "display_data"
    }
   ],
   "source": [
    "plt.figure(figsize= (20,10))\n",
    "plt.scatter(pm10_post_covid['Mean_PM10'], pm10_post_covid['oct_deaths/cases'])\n",
    "plt.xlabel(\"Average PM10 Level 2020\")\n",
    "plt.ylabel(\"COVID Fatality Rate\")\n",
    "plt.title(\"COVID Fatality Rates and PM10 Levels\")"
   ]
  },
  {
   "cell_type": "code",
   "execution_count": 78,
   "metadata": {},
   "outputs": [
    {
     "data": {
      "text/plain": [
       "Text(0.5, 1.0, 'Distribution of Fatality rate of COVID')"
      ]
     },
     "execution_count": 78,
     "metadata": {},
     "output_type": "execute_result"
    },
    {
     "data": {
      "image/png": "[encoded data removed]",
      "text/plain": [
       "<Figure size 1440x720 with 2 Axes>"
      ]
     },
     "metadata": {
      "needs_background": "light"
     },
     "output_type": "display_data"
    }
   ],
   "source": [
    "fig, (ax1, ax2) = plt.subplots(1,2, figsize = (20,10))\n",
    "ax1.hist(pm10_post_covid['Mean_PM10'], bins = 'auto')\n",
    "ax1.set_title(\"Distribution of PM10 in 2020\")\n",
    "ax2.hist(pm10_post_covid['oct_deaths/cases'], bins = 'auto')\n",
    "ax2.set_title(\"Distribution of Fatality rate of COVID\")"
   ]
  },
  {
   "cell_type": "code",
   "execution_count": 81,
   "metadata": {},
   "outputs": [
    {
     "name": "stdout",
     "output_type": "stream",
     "text": [
      "SpearmanrResult(correlation=0.04548125900741794, pvalue=0.5830767339661478)\n"
     ]
    }
   ],
   "source": [
    "pm10_2020_corr = stats.spearmanr(pm10_post_covid['Mean_PM10'], pm10_post_covid['oct_deaths/cases'])\n",
    "print(pm10_2020_corr)"
   ]
  },
  {
   "cell_type": "markdown",
   "metadata": {},
   "source": [
    "the correlation between PM10 levels in 2020 and covid severity is not significant"
   ]
  },
  {
   "cell_type": "code",
   "execution_count": 263,
   "metadata": {},
   "outputs": [
    {
     "data": {
      "text/plain": [
       "Text(0.5, 1.0, 'COVID Fatality Rates and NO2 Levels')"
      ]
     },
     "execution_count": 263,
     "metadata": {},
     "output_type": "execute_result"
    },
    {
     "data": {
      "image/png": "[encoded data removed]",
      "text/plain": [
       "<Figure size 1440x720 with 1 Axes>"
      ]
     },
     "metadata": {
      "needs_background": "light"
     },
     "output_type": "display_data"
    }
   ],
   "source": [
    "plt.figure(figsize= (20,10))\n",
    "plt.scatter(no2_post_covid['Mean_NO2'], no2_post_covid['oct_deaths/cases'])\n",
    "plt.xlabel(\"Average NO2 Level 2020\")\n",
    "plt.ylabel(\"COVID Fatality Rate\")\n",
    "plt.title(\"COVID Fatality Rates and NO2 Levels\")"
   ]
  },
  {
   "cell_type": "code",
   "execution_count": 82,
   "metadata": {},
   "outputs": [
    {
     "data": {
      "text/plain": [
       "Text(0.5, 1.0, 'Distribution of Fatality rate of COVID')"
      ]
     },
     "execution_count": 82,
     "metadata": {},
     "output_type": "execute_result"
    },
    {
     "data": {
      "image/png": "[encoded data removed]",
      "text/plain": [
       "<Figure size 1440x720 with 2 Axes>"
      ]
     },
     "metadata": {
      "needs_background": "light"
     },
     "output_type": "display_data"
    }
   ],
   "source": [
    "fig, (ax1, ax2) = plt.subplots(1,2, figsize = (20,10))\n",
    "ax1.hist(no2_post_covid['Mean_NO2'], bins = 'auto')\n",
    "ax1.set_title(\"Distribution of NO2 in 2020\")\n",
    "ax2.hist(no2_post_covid['oct_deaths/cases'], bins = 'auto')\n",
    "ax2.set_title(\"Distribution of Fatality rate of COVID\")"
   ]
  },
  {
   "cell_type": "code",
   "execution_count": 83,
   "metadata": {},
   "outputs": [
    {
     "name": "stdout",
     "output_type": "stream",
     "text": [
      "SpearmanrResult(correlation=0.4376631547809837, pvalue=2.1735903840855208e-06)\n"
     ]
    }
   ],
   "source": [
    "no2_2020_corr = stats.spearmanr(no2_post_covid['Mean_NO2'], no2_post_covid['oct_deaths/cases'])\n",
    "print(no2_2020_corr)"
   ]
  },
  {
   "cell_type": "markdown",
   "metadata": {},
   "source": [
    "The correlation between 2020 NO2 levels and severity of covid is significant!"
   ]
  },
  {
   "cell_type": "markdown",
   "metadata": {},
   "source": [
    "In summary:  \n",
    "\n",
    "PM2.5:   \n",
    "* The correlation between average county PM2.5 levels over the past 3 years and severity of COVID cases is a weak, positive, statistically significant correlation. The correlation coefficient is 0.131 with a  pvalue of 0.0013.  \n",
    "* The correlation between average county PM2.5 levels in 2020 and severity of COVID cases is a weak, positive, highly statistically significant correlation. The correlation coefficient is 0.211 with a  pvalue of 8.557 * 10 ^ -05\n",
    "\n",
    "  \n",
    "PM10:  \n",
    "* The correlation between PM10 levels and severity of COVID cases is not significant over the last 3 years or in 2020.\n",
    "\n",
    "  \n",
    "NO2:   \n",
    "* The correlation between average county NO2 levels over the past 3 years and COVID severity is a medium, positive, statistically significant correlation The correlation coefficient is 0.377 with a pvalue of 7.56 * 10 ^ -10  \n",
    "* The correlation between average county NO2 levels in 2020 alone and COVID severity is a medium, positive, statistically significant correlation. The correlation coefficient is 0.438 with a pvalue of 2.17 * 10 ^ -6\n"
   ]
  },
  {
   "cell_type": "code",
   "execution_count": null,
   "metadata": {},
   "outputs": [],
   "source": []
  }
 ],
 "metadata": {
  "kernelspec": {
   "display_name": "Python 3",
   "language": "python",
   "name": "python3"
  },
  "language_info": {
   "codemirror_mode": {
    "name": "ipython",
    "version": 3
   },
   "file_extension": ".py",
   "mimetype": "text/x-python",
   "name": "python",
   "nbconvert_exporter": "python",
   "pygments_lexer": "ipython3",
   "version": "3.8.3"
  }
 },
 "nbformat": 4,
 "nbformat_minor": 2
}
