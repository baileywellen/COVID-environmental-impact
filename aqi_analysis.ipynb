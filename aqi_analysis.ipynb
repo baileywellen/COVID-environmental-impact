{
 "cells": [
  {
   "cell_type": "code",
   "execution_count": 1,
   "metadata": {},
   "outputs": [],
   "source": [
    "import pandas as pd\n",
    "import matplotlib.pyplot as plt\n",
    "import numpy as np\n",
    "from scipy import stats"
   ]
  },
  {
   "cell_type": "code",
   "execution_count": 2,
   "metadata": {},
   "outputs": [],
   "source": [
    "aqi_2019_csv = pd.read_csv(\"./data/raw_data/daily_aqi_by_county_2019.csv\")\n",
    "aqi_2020_csv = pd.read_csv(\"./data/raw_data/daily_aqi_by_county_2020.csv\")"
   ]
  },
  {
   "cell_type": "code",
   "execution_count": 3,
   "metadata": {},
   "outputs": [],
   "source": [
    "aqi_2019 = aqi_2019_csv.groupby(by = ['State Name', 'county Name']).mean()\n",
    "aqi_2019.reset_index(inplace = True)\n",
    "aqi_2019.drop(columns = ['State Code', 'County Code', 'Number of Sites Reporting'], inplace = True)\n",
    "aqi_2019.rename(columns = {'county Name' : 'County Name', 'AQI' : 'Mean_Annual_AQI'}, inplace = True)"
   ]
  },
  {
   "cell_type": "code",
   "execution_count": 4,
   "metadata": {},
   "outputs": [],
   "source": [
    "aqi_2020 = aqi_2020_csv.groupby(by = ['State Name', 'county Name']).mean()\n",
    "aqi_2020.reset_index(inplace = True)\n",
    "aqi_2020.drop(columns = ['State Code', 'County Code', 'Number of Sites Reporting'], inplace = True)\n",
    "aqi_2020.rename(columns = {'county Name' : 'County Name', 'AQI' : 'Mean_Annual_AQI'}, inplace = True)"
   ]
  },
  {
   "cell_type": "code",
   "execution_count": 5,
   "metadata": {},
   "outputs": [],
   "source": [
    "#output them to a csv file\n",
    "aqi_2019.to_csv(\"./data/aqi_2019.csv\")\n",
    "aqi_2020.to_csv(\"./data/aqi_2020.csv\")"
   ]
  },
  {
   "cell_type": "code",
   "execution_count": 6,
   "metadata": {},
   "outputs": [
    {
     "data": {
      "text/html": [
       "<div>\n",
       "<style scoped>\n",
       "    .dataframe tbody tr th:only-of-type {\n",
       "        vertical-align: middle;\n",
       "    }\n",
       "\n",
       "    .dataframe tbody tr th {\n",
       "        vertical-align: top;\n",
       "    }\n",
       "\n",
       "    .dataframe thead th {\n",
       "        text-align: right;\n",
       "    }\n",
       "</style>\n",
       "<table border=\"1\" class=\"dataframe\">\n",
       "  <thead>\n",
       "    <tr style=\"text-align: right;\">\n",
       "      <th></th>\n",
       "      <th>State Name</th>\n",
       "      <th>County Name</th>\n",
       "      <th>Mean_Annual_AQI</th>\n",
       "    </tr>\n",
       "  </thead>\n",
       "  <tbody>\n",
       "    <tr>\n",
       "      <th>0</th>\n",
       "      <td>Alabama</td>\n",
       "      <td>Baldwin</td>\n",
       "      <td>38.291513</td>\n",
       "    </tr>\n",
       "    <tr>\n",
       "      <th>1</th>\n",
       "      <td>Alabama</td>\n",
       "      <td>Clay</td>\n",
       "      <td>31.149533</td>\n",
       "    </tr>\n",
       "    <tr>\n",
       "      <th>2</th>\n",
       "      <td>Alabama</td>\n",
       "      <td>Colbert</td>\n",
       "      <td>35.520913</td>\n",
       "    </tr>\n",
       "    <tr>\n",
       "      <th>3</th>\n",
       "      <td>Alabama</td>\n",
       "      <td>DeKalb</td>\n",
       "      <td>39.711911</td>\n",
       "    </tr>\n",
       "    <tr>\n",
       "      <th>4</th>\n",
       "      <td>Alabama</td>\n",
       "      <td>Elmore</td>\n",
       "      <td>38.421053</td>\n",
       "    </tr>\n",
       "  </tbody>\n",
       "</table>\n",
       "</div>"
      ],
      "text/plain": [
       "  State Name County Name  Mean_Annual_AQI\n",
       "0    Alabama     Baldwin        38.291513\n",
       "1    Alabama        Clay        31.149533\n",
       "2    Alabama     Colbert        35.520913\n",
       "3    Alabama      DeKalb        39.711911\n",
       "4    Alabama      Elmore        38.421053"
      ]
     },
     "execution_count": 6,
     "metadata": {},
     "output_type": "execute_result"
    }
   ],
   "source": [
    "aqi_2019.head()"
   ]
  },
  {
   "cell_type": "code",
   "execution_count": 7,
   "metadata": {},
   "outputs": [],
   "source": [
    "aqi_2020_csv['Month'] = [int(date[5:7]) for date in aqi_2020_csv['Date']]\n",
    "aqi_2019_csv['Month'] = [int(date[5:7]) for date in aqi_2019_csv['Date']]\n",
    "\n",
    "\n",
    "aqi_2020_csv['Day'] = [int(date[8:]) for date in aqi_2020_csv['Date']]\n",
    "aqi_2019_csv['Day'] = [int(date[8:]) for date in aqi_2019_csv['Date']]"
   ]
  },
  {
   "cell_type": "code",
   "execution_count": 8,
   "metadata": {},
   "outputs": [],
   "source": [
    "march_may_2020 = aqi_2020_csv[(aqi_2020_csv['Month'] >= 3) & (aqi_2020_csv['Month'] <= 5)]\n",
    "march_may_2019 = aqi_2019_csv[(aqi_2019_csv['Month'] >= 3) & (aqi_2019_csv['Month'] <= 5)]"
   ]
  },
  {
   "cell_type": "code",
   "execution_count": 9,
   "metadata": {},
   "outputs": [],
   "source": [
    "march_may_2020 = march_may_2020.groupby(by = ['State Name', 'county Name']).mean()\n",
    "march_may_2020.reset_index(inplace = True)\n",
    "march_may_2020.drop(columns = ['State Code', 'County Code', 'Number of Sites Reporting'], inplace = True)\n",
    "march_may_2020.rename(columns = {'county Name' : 'County Name', 'AQI' : 'Mean_Annual_AQI'}, inplace = True)"
   ]
  },
  {
   "cell_type": "code",
   "execution_count": 10,
   "metadata": {},
   "outputs": [],
   "source": [
    "march_may_2019 = march_may_2019.groupby(by = ['State Name', 'county Name']).mean()\n",
    "march_may_2019.reset_index(inplace = True)\n",
    "march_may_2019.drop(columns = ['State Code', 'County Code', 'Number of Sites Reporting'], inplace = True)\n",
    "march_may_2019.rename(columns = {'county Name' : 'County Name', 'AQI' : 'Mean_Annual_AQI'}, inplace = True)"
   ]
  },
  {
   "cell_type": "code",
   "execution_count": 11,
   "metadata": {},
   "outputs": [],
   "source": [
    "#output the spring AQI data to a csv file\n",
    "\n",
    "march_may_2019.to_csv(\"./data/spring_aqi_2019.csv\")\n",
    "march_may_2020.to_csv(\"./data/spring_aqi_2020.csv\")"
   ]
  },
  {
   "cell_type": "code",
   "execution_count": 12,
   "metadata": {},
   "outputs": [
    {
     "data": {
      "text/html": [
       "<div>\n",
       "<style scoped>\n",
       "    .dataframe tbody tr th:only-of-type {\n",
       "        vertical-align: middle;\n",
       "    }\n",
       "\n",
       "    .dataframe tbody tr th {\n",
       "        vertical-align: top;\n",
       "    }\n",
       "\n",
       "    .dataframe thead th {\n",
       "        text-align: right;\n",
       "    }\n",
       "</style>\n",
       "<table border=\"1\" class=\"dataframe\">\n",
       "  <thead>\n",
       "    <tr style=\"text-align: right;\">\n",
       "      <th></th>\n",
       "      <th>State Name</th>\n",
       "      <th>County Name</th>\n",
       "      <th>Mean_Annual_AQI</th>\n",
       "      <th>Month</th>\n",
       "      <th>Day</th>\n",
       "    </tr>\n",
       "  </thead>\n",
       "  <tbody>\n",
       "    <tr>\n",
       "      <th>0</th>\n",
       "      <td>Alabama</td>\n",
       "      <td>Baldwin</td>\n",
       "      <td>42.056180</td>\n",
       "      <td>3.988764</td>\n",
       "      <td>16.078652</td>\n",
       "    </tr>\n",
       "    <tr>\n",
       "      <th>1</th>\n",
       "      <td>Alabama</td>\n",
       "      <td>Clay</td>\n",
       "      <td>30.785714</td>\n",
       "      <td>4.000000</td>\n",
       "      <td>16.500000</td>\n",
       "    </tr>\n",
       "    <tr>\n",
       "      <th>2</th>\n",
       "      <td>Alabama</td>\n",
       "      <td>Colbert</td>\n",
       "      <td>39.163043</td>\n",
       "      <td>4.000000</td>\n",
       "      <td>15.836957</td>\n",
       "    </tr>\n",
       "    <tr>\n",
       "      <th>3</th>\n",
       "      <td>Alabama</td>\n",
       "      <td>DeKalb</td>\n",
       "      <td>43.329545</td>\n",
       "      <td>4.045455</td>\n",
       "      <td>15.556818</td>\n",
       "    </tr>\n",
       "    <tr>\n",
       "      <th>4</th>\n",
       "      <td>Alabama</td>\n",
       "      <td>Elmore</td>\n",
       "      <td>40.932584</td>\n",
       "      <td>4.033708</td>\n",
       "      <td>15.820225</td>\n",
       "    </tr>\n",
       "  </tbody>\n",
       "</table>\n",
       "</div>"
      ],
      "text/plain": [
       "  State Name County Name  Mean_Annual_AQI     Month        Day\n",
       "0    Alabama     Baldwin        42.056180  3.988764  16.078652\n",
       "1    Alabama        Clay        30.785714  4.000000  16.500000\n",
       "2    Alabama     Colbert        39.163043  4.000000  15.836957\n",
       "3    Alabama      DeKalb        43.329545  4.045455  15.556818\n",
       "4    Alabama      Elmore        40.932584  4.033708  15.820225"
      ]
     },
     "execution_count": 12,
     "metadata": {},
     "output_type": "execute_result"
    }
   ],
   "source": [
    "march_may_2019.head()"
   ]
  },
  {
   "cell_type": "markdown",
   "metadata": {},
   "source": [
    "Here, I do a hypothesis test to see if the mean from this year and last are different. We will only use the data from locations that have values in both 2019 and 2020 to compare"
   ]
  },
  {
   "cell_type": "code",
   "execution_count": 13,
   "metadata": {},
   "outputs": [],
   "source": [
    "march_may_2019.rename(columns = {'Mean_Annual_AQI' : 'Mean_AQI_2019'}, inplace = True)\n",
    "march_may_2019 = march_may_2019[['State Name', 'County Name', 'Mean_AQI_2019']]\n",
    "march_may_2020.rename(columns = {'Mean_Annual_AQI' : 'Mean_AQI_2020'}, inplace = True)\n",
    "march_may_2020 = march_may_2020[['State Name', 'County Name', 'Mean_AQI_2020']]\n",
    "\n",
    "aqi_both_years = march_may_2019.merge(right = march_may_2020, on = ['State Name', 'County Name'], how = 'inner')"
   ]
  },
  {
   "cell_type": "code",
   "execution_count": 14,
   "metadata": {},
   "outputs": [],
   "source": [
    "aqi_both_years['Difference'] = aqi_both_years['Mean_AQI_2020'] - aqi_both_years['Mean_AQI_2019']"
   ]
  },
  {
   "cell_type": "code",
   "execution_count": 15,
   "metadata": {},
   "outputs": [
    {
     "data": {
      "text/html": [
       "<div>\n",
       "<style scoped>\n",
       "    .dataframe tbody tr th:only-of-type {\n",
       "        vertical-align: middle;\n",
       "    }\n",
       "\n",
       "    .dataframe tbody tr th {\n",
       "        vertical-align: top;\n",
       "    }\n",
       "\n",
       "    .dataframe thead th {\n",
       "        text-align: right;\n",
       "    }\n",
       "</style>\n",
       "<table border=\"1\" class=\"dataframe\">\n",
       "  <thead>\n",
       "    <tr style=\"text-align: right;\">\n",
       "      <th></th>\n",
       "      <th>State Name</th>\n",
       "      <th>County Name</th>\n",
       "      <th>Mean_AQI_2019</th>\n",
       "      <th>Mean_AQI_2020</th>\n",
       "      <th>Difference</th>\n",
       "    </tr>\n",
       "  </thead>\n",
       "  <tbody>\n",
       "    <tr>\n",
       "      <th>0</th>\n",
       "      <td>Arizona</td>\n",
       "      <td>Apache</td>\n",
       "      <td>11.032609</td>\n",
       "      <td>7.709677</td>\n",
       "      <td>-3.322931</td>\n",
       "    </tr>\n",
       "    <tr>\n",
       "      <th>1</th>\n",
       "      <td>Arizona</td>\n",
       "      <td>Cochise</td>\n",
       "      <td>56.141304</td>\n",
       "      <td>14.451613</td>\n",
       "      <td>-41.689691</td>\n",
       "    </tr>\n",
       "    <tr>\n",
       "      <th>2</th>\n",
       "      <td>Arizona</td>\n",
       "      <td>Coconino</td>\n",
       "      <td>49.641304</td>\n",
       "      <td>43.064516</td>\n",
       "      <td>-6.576788</td>\n",
       "    </tr>\n",
       "    <tr>\n",
       "      <th>3</th>\n",
       "      <td>Arizona</td>\n",
       "      <td>Gila</td>\n",
       "      <td>65.847826</td>\n",
       "      <td>42.193548</td>\n",
       "      <td>-23.654278</td>\n",
       "    </tr>\n",
       "    <tr>\n",
       "      <th>4</th>\n",
       "      <td>Arizona</td>\n",
       "      <td>La Paz</td>\n",
       "      <td>50.879121</td>\n",
       "      <td>40.322581</td>\n",
       "      <td>-10.556540</td>\n",
       "    </tr>\n",
       "  </tbody>\n",
       "</table>\n",
       "</div>"
      ],
      "text/plain": [
       "  State Name County Name  Mean_AQI_2019  Mean_AQI_2020  Difference\n",
       "0    Arizona      Apache      11.032609       7.709677   -3.322931\n",
       "1    Arizona     Cochise      56.141304      14.451613  -41.689691\n",
       "2    Arizona    Coconino      49.641304      43.064516   -6.576788\n",
       "3    Arizona        Gila      65.847826      42.193548  -23.654278\n",
       "4    Arizona      La Paz      50.879121      40.322581  -10.556540"
      ]
     },
     "execution_count": 15,
     "metadata": {},
     "output_type": "execute_result"
    }
   ],
   "source": [
    "aqi_both_years.head()"
   ]
  },
  {
   "cell_type": "code",
   "execution_count": 16,
   "metadata": {},
   "outputs": [
    {
     "name": "stdout",
     "output_type": "stream",
     "text": [
      "40.97532333372741\n"
     ]
    }
   ],
   "source": [
    "print(aqi_both_years['Mean_AQI_2019'].mean())"
   ]
  },
  {
   "cell_type": "code",
   "execution_count": 17,
   "metadata": {},
   "outputs": [
    {
     "name": "stdout",
     "output_type": "stream",
     "text": [
      "30.333414585614968\n"
     ]
    }
   ],
   "source": [
    "print(aqi_both_years['Mean_AQI_2020'].mean())"
   ]
  },
  {
   "cell_type": "markdown",
   "metadata": {},
   "source": [
    "Now that we have cleaned our data, we can do the hypothesis test! We are wanting to test if there is a difference between the Mean AQI of Spring 2019 and Spring 2020. We will use a one sample t test on the difference between Spring 2020 and Spring 2019. This assumes that the observations for the two years are independent. If there has been no change, we would expect the difference to be 0. \n",
    "\n",
    "Null hypothesis:   \n",
    "Mu of the differences = 0\n",
    "\n",
    "Alternative Hypothesis:  \n",
    "Mu of the differences does not = 0"
   ]
  },
  {
   "cell_type": "code",
   "execution_count": 18,
   "metadata": {},
   "outputs": [
    {
     "data": {
      "text/plain": [
       "Ttest_1sampResult(statistic=-15.925452393126719, pvalue=8.803100876483336e-44)"
      ]
     },
     "execution_count": 18,
     "metadata": {},
     "output_type": "execute_result"
    }
   ],
   "source": [
    "stats.ttest_1samp(aqi_both_years['Difference'], popmean = 0 )"
   ]
  },
  {
   "cell_type": "markdown",
   "metadata": {},
   "source": [
    "From the results of this t test, we reject the null hypothesis that there is no difference between the mean AQI in Spring 2019 and the mean AQI in Spring 2020. There is sufficient evidence that these means are difference, with a p value of 8.803 * 10 ^ -44."
   ]
  },
  {
   "cell_type": "markdown",
   "metadata": {},
   "source": [
    "Next, we will do a hypothesis test to see if AQI is correlated with covid deaths"
   ]
  },
  {
   "cell_type": "code",
   "execution_count": 19,
   "metadata": {},
   "outputs": [],
   "source": [
    "covid_percent_deaths = pd.read_csv(\"./data/covid_percent_died.csv\")"
   ]
  },
  {
   "cell_type": "code",
   "execution_count": 20,
   "metadata": {},
   "outputs": [],
   "source": [
    "#rename the data to have state abbreviations instead of full name\n",
    "us_state_abbrev = {\n",
    "    'Alabama': 'AL',\n",
    "    'Alaska': 'AK',\n",
    "    'American Samoa': 'AS',\n",
    "    'Arizona': 'AZ',\n",
    "    'Arkansas': 'AR',\n",
    "    'California': 'CA',\n",
    "    'Colorado': 'CO',\n",
    "    'Connecticut': 'CT',\n",
    "    'Delaware': 'DE',\n",
    "    'District of Columbia': 'DC',\n",
    "    'Florida': 'FL',\n",
    "    'Georgia': 'GA',\n",
    "    'Guam': 'GU',\n",
    "    'Hawaii': 'HI',\n",
    "    'Idaho': 'ID',\n",
    "    'Illinois': 'IL',\n",
    "    'Indiana': 'IN',\n",
    "    'Iowa': 'IA',\n",
    "    'Kansas': 'KS',\n",
    "    'Kentucky': 'KY',\n",
    "    'Louisiana': 'LA',\n",
    "    'Maine': 'ME',\n",
    "    'Maryland': 'MD',\n",
    "    'Massachusetts': 'MA',\n",
    "    'Michigan': 'MI',\n",
    "    'Minnesota': 'MN',\n",
    "    'Mississippi': 'MS',\n",
    "    'Missouri': 'MO',\n",
    "    'Montana': 'MT',\n",
    "    'Nebraska': 'NE',\n",
    "    'Nevada': 'NV',\n",
    "    'New Hampshire': 'NH',\n",
    "    'New Jersey': 'NJ',\n",
    "    'New Mexico': 'NM',\n",
    "    'New York': 'NY',\n",
    "    'North Carolina': 'NC',\n",
    "    'North Dakota': 'ND',\n",
    "    'Northern Mariana Islands':'MP',\n",
    "    'Ohio': 'OH',\n",
    "    'Oklahoma': 'OK',\n",
    "    'Oregon': 'OR',\n",
    "    'Pennsylvania': 'PA',\n",
    "    'Puerto Rico': 'PR',\n",
    "    'Rhode Island': 'RI',\n",
    "    'South Carolina': 'SC',\n",
    "    'South Dakota': 'SD',\n",
    "    'Tennessee': 'TN',\n",
    "    'Texas': 'TX',\n",
    "    'Utah': 'UT',\n",
    "    'Vermont': 'VT',\n",
    "    'Virgin Islands': 'VI',\n",
    "    'Virginia': 'VA',\n",
    "    'Washington': 'WA',\n",
    "    'West Virginia': 'WV',\n",
    "    'Wisconsin': 'WI',\n",
    "    'Wyoming': 'WY'\n",
    "}\n",
    "\n",
    "aqi_2020 = aqi_2020.replace({'State Name': us_state_abbrev})\n",
    "aqi_2019 = aqi_2019.replace({'State Name': us_state_abbrev})"
   ]
  },
  {
   "cell_type": "code",
   "execution_count": 21,
   "metadata": {},
   "outputs": [
    {
     "data": {
      "text/html": [
       "<div>\n",
       "<style scoped>\n",
       "    .dataframe tbody tr th:only-of-type {\n",
       "        vertical-align: middle;\n",
       "    }\n",
       "\n",
       "    .dataframe tbody tr th {\n",
       "        vertical-align: top;\n",
       "    }\n",
       "\n",
       "    .dataframe thead th {\n",
       "        text-align: right;\n",
       "    }\n",
       "</style>\n",
       "<table border=\"1\" class=\"dataframe\">\n",
       "  <thead>\n",
       "    <tr style=\"text-align: right;\">\n",
       "      <th></th>\n",
       "      <th>County Name</th>\n",
       "      <th>State</th>\n",
       "      <th>death_rate</th>\n",
       "    </tr>\n",
       "  </thead>\n",
       "  <tbody>\n",
       "    <tr>\n",
       "      <th>0</th>\n",
       "      <td>Autauga</td>\n",
       "      <td>AL</td>\n",
       "      <td>1.502952</td>\n",
       "    </tr>\n",
       "    <tr>\n",
       "      <th>1</th>\n",
       "      <td>Baldwin</td>\n",
       "      <td>AL</td>\n",
       "      <td>1.042176</td>\n",
       "    </tr>\n",
       "    <tr>\n",
       "      <th>2</th>\n",
       "      <td>Barbour</td>\n",
       "      <td>AL</td>\n",
       "      <td>0.970874</td>\n",
       "    </tr>\n",
       "    <tr>\n",
       "      <th>3</th>\n",
       "      <td>Bibb</td>\n",
       "      <td>AL</td>\n",
       "      <td>1.694915</td>\n",
       "    </tr>\n",
       "    <tr>\n",
       "      <th>4</th>\n",
       "      <td>Blount</td>\n",
       "      <td>AL</td>\n",
       "      <td>0.951814</td>\n",
       "    </tr>\n",
       "  </tbody>\n",
       "</table>\n",
       "</div>"
      ],
      "text/plain": [
       "  County Name State  death_rate\n",
       "0     Autauga    AL    1.502952\n",
       "1     Baldwin    AL    1.042176\n",
       "2     Barbour    AL    0.970874\n",
       "3        Bibb    AL    1.694915\n",
       "4      Blount    AL    0.951814"
      ]
     },
     "execution_count": 21,
     "metadata": {},
     "output_type": "execute_result"
    }
   ],
   "source": [
    "covid_percent_deaths.head()"
   ]
  },
  {
   "cell_type": "code",
   "execution_count": 22,
   "metadata": {},
   "outputs": [],
   "source": [
    "#calculate the mean and fill any null values with that mean\n",
    "covid_percent_deaths = covid_percent_deaths.replace([np.inf, -np.inf], np.nan)\n",
    "mean_fatality_rate = covid_percent_deaths['death_rate'].mean()\n",
    "covid_percent_deaths['death_rate'] = covid_percent_deaths['death_rate'].fillna(mean_fatality_rate)"
   ]
  },
  {
   "cell_type": "code",
   "execution_count": 23,
   "metadata": {},
   "outputs": [],
   "source": [
    "aqi_2020_covid = aqi_2020.merge(right = covid_percent_deaths, right_on = ['State', 'County Name'], left_on = ['State Name', 'County Name'])\n",
    "\n",
    "aqi_2019_covid = aqi_2019.merge(right = covid_percent_deaths, right_on = ['State', 'County Name'], left_on = ['State Name', 'County Name'])"
   ]
  },
  {
   "cell_type": "code",
   "execution_count": 34,
   "metadata": {},
   "outputs": [
    {
     "data": {
      "text/plain": [
       "<matplotlib.legend.Legend at 0x22f57f1d0d0>"
      ]
     },
     "execution_count": 34,
     "metadata": {},
     "output_type": "execute_result"
    },
    {
     "data": {
      "image/png": "[encoded data removed]",
      "text/plain": [
       "<Figure size 1440x720 with 1 Axes>"
      ]
     },
     "metadata": {
      "needs_background": "light"
     },
     "output_type": "display_data"
    }
   ],
   "source": [
    "plt.figure(figsize=(20,10))\n",
    "plt.scatter(aqi_2019_covid['Mean_Annual_AQI'], aqi_2019_covid['death_rate'])\n",
    "plt.hlines(y=mean_fatality_rate, xmin = 0, xmax = 120, linewidth=2, color='r', label = \"Nationwide Death Rate\")\n",
    "plt.title(\"Mean 2019 AQI and COVID Fatality Rates\")\n",
    "plt.xlabel(\"Mean AQI\")\n",
    "plt.ylabel(\"COVID Fatality Rate (%)\")\n",
    "plt.legend()"
   ]
  },
  {
   "cell_type": "markdown",
   "metadata": {},
   "source": [
    "Those values to the right seem a little strange... let's look into them"
   ]
  },
  {
   "cell_type": "code",
   "execution_count": 25,
   "metadata": {},
   "outputs": [
    {
     "data": {
      "text/html": [
       "<div>\n",
       "<style scoped>\n",
       "    .dataframe tbody tr th:only-of-type {\n",
       "        vertical-align: middle;\n",
       "    }\n",
       "\n",
       "    .dataframe tbody tr th {\n",
       "        vertical-align: top;\n",
       "    }\n",
       "\n",
       "    .dataframe thead th {\n",
       "        text-align: right;\n",
       "    }\n",
       "</style>\n",
       "<table border=\"1\" class=\"dataframe\">\n",
       "  <thead>\n",
       "    <tr style=\"text-align: right;\">\n",
       "      <th></th>\n",
       "      <th>State Name</th>\n",
       "      <th>County Name</th>\n",
       "      <th>Mean_Annual_AQI</th>\n",
       "      <th>State</th>\n",
       "      <th>death_rate</th>\n",
       "    </tr>\n",
       "  </thead>\n",
       "  <tbody>\n",
       "    <tr>\n",
       "      <th>26</th>\n",
       "      <td>AZ</td>\n",
       "      <td>Pinal</td>\n",
       "      <td>80.178082</td>\n",
       "      <td>AZ</td>\n",
       "      <td>1.959886</td>\n",
       "    </tr>\n",
       "    <tr>\n",
       "      <th>59</th>\n",
       "      <td>CA</td>\n",
       "      <td>Los Angeles</td>\n",
       "      <td>81.920548</td>\n",
       "      <td>CA</td>\n",
       "      <td>2.413651</td>\n",
       "    </tr>\n",
       "    <tr>\n",
       "      <th>65</th>\n",
       "      <td>CA</td>\n",
       "      <td>Mono</td>\n",
       "      <td>80.216438</td>\n",
       "      <td>CA</td>\n",
       "      <td>1.176471</td>\n",
       "    </tr>\n",
       "    <tr>\n",
       "      <th>72</th>\n",
       "      <td>CA</td>\n",
       "      <td>Riverside</td>\n",
       "      <td>87.427397</td>\n",
       "      <td>CA</td>\n",
       "      <td>2.032044</td>\n",
       "    </tr>\n",
       "    <tr>\n",
       "      <th>75</th>\n",
       "      <td>CA</td>\n",
       "      <td>San Bernardino</td>\n",
       "      <td>95.290411</td>\n",
       "      <td>CA</td>\n",
       "      <td>1.702708</td>\n",
       "    </tr>\n",
       "    <tr>\n",
       "      <th>459</th>\n",
       "      <td>MO</td>\n",
       "      <td>New Madrid</td>\n",
       "      <td>121.876712</td>\n",
       "      <td>MO</td>\n",
       "      <td>2.627258</td>\n",
       "    </tr>\n",
       "  </tbody>\n",
       "</table>\n",
       "</div>"
      ],
      "text/plain": [
       "    State Name     County Name  Mean_Annual_AQI State  death_rate\n",
       "26          AZ           Pinal        80.178082    AZ    1.959886\n",
       "59          CA     Los Angeles        81.920548    CA    2.413651\n",
       "65          CA            Mono        80.216438    CA    1.176471\n",
       "72          CA       Riverside        87.427397    CA    2.032044\n",
       "75          CA  San Bernardino        95.290411    CA    1.702708\n",
       "459         MO      New Madrid       121.876712    MO    2.627258"
      ]
     },
     "execution_count": 25,
     "metadata": {},
     "output_type": "execute_result"
    }
   ],
   "source": [
    "aqi_2019_covid[aqi_2019_covid['Mean_Annual_AQI'] >= 80]"
   ]
  },
  {
   "cell_type": "code",
   "execution_count": 26,
   "metadata": {},
   "outputs": [
    {
     "data": {
      "text/plain": [
       "Text(0.5, 1.0, 'New Madrid, MO AQI')"
      ]
     },
     "execution_count": 26,
     "metadata": {},
     "output_type": "execute_result"
    },
    {
     "data": {
      "image/png": "[encoded data removed]",
      "text/plain": [
       "<Figure size 1440x720 with 6 Axes>"
      ]
     },
     "metadata": {
      "needs_background": "light"
     },
     "output_type": "display_data"
    }
   ],
   "source": [
    "fig, axs = plt.subplots(nrows = 3, ncols = 2, figsize = (20,10))\n",
    "axs[0,0].hist(aqi_2019_csv[aqi_2019_csv['county Name'] == 'Pinal']['AQI'], bins = 'auto')\n",
    "axs[0,0].set_title(\"Pinal, AZ\")\n",
    "axs[0,1].hist(aqi_2019_csv[aqi_2019_csv['county Name'] == 'Los Angeles']['AQI'], bins = 'auto')\n",
    "axs[0,1].set_title(\"Los Angeles, CA AQI\")\n",
    "axs[1,0].hist(aqi_2019_csv[aqi_2019_csv['county Name'] == 'Mono']['AQI'], bins = 'auto')\n",
    "axs[1,0].set_title(\"Mono, CA AQI\")\n",
    "axs[1,1].hist(aqi_2019_csv[aqi_2019_csv['county Name'] == 'Riverside']['AQI'], bins = 'auto')\n",
    "axs[1,1].set_title(\"Riverside, CA AQI\")\n",
    "axs[2,0].hist(aqi_2019_csv[aqi_2019_csv['county Name'] == 'San Bernardino']['AQI'], bins = 'auto')\n",
    "axs[2,0].set_title(\"San Bernadino, CA AQI\")\n",
    "axs[2,1].hist(aqi_2019_csv[aqi_2019_csv['county Name'] == 'New Madrid']['AQI'], bins = 'auto')\n",
    "axs[2,1].set_title(\"New Madrid, MO AQI\")"
   ]
  },
  {
   "cell_type": "markdown",
   "metadata": {},
   "source": [
    "For the most part, these are surprisingly evenly distributed (unfortunately for the environment). The only one I consider to be a mistake is Mono, CA, where the AQI is over 3000.... Pinal, AZ may also have had some mistypes, but there are several days worth of 886 AQI, so that is strange. Either way, we will leave the data as is since there are only a few values that may be erroneous"
   ]
  },
  {
   "cell_type": "code",
   "execution_count": 33,
   "metadata": {},
   "outputs": [
    {
     "data": {
      "text/plain": [
       "<matplotlib.legend.Legend at 0x22f57b6a7f0>"
      ]
     },
     "execution_count": 33,
     "metadata": {},
     "output_type": "execute_result"
    },
    {
     "data": {
      "image/png": "[encoded data removed]",
      "text/plain": [
       "<Figure size 1440x720 with 1 Axes>"
      ]
     },
     "metadata": {
      "needs_background": "light"
     },
     "output_type": "display_data"
    }
   ],
   "source": [
    "plt.figure(figsize=(20,10))\n",
    "plt.scatter(aqi_2020_covid['Mean_Annual_AQI'], aqi_2020_covid['death_rate'])\n",
    "plt.hlines(y=mean_fatality_rate, xmin = 0, xmax = 120, linewidth=2, color='r', label = \"Nationwide death rate\")\n",
    "plt.title(\"Mean 2020 AQI and COVID Fatality Rates\")\n",
    "plt.xlabel(\"Mean AQI\")\n",
    "plt.ylabel(\"COVID Fatality Rate (%)\")\n",
    "plt.legend()"
   ]
  },
  {
   "cell_type": "markdown",
   "metadata": {},
   "source": [
    "Let's see if there is a significant correlation between these "
   ]
  },
  {
   "cell_type": "code",
   "execution_count": 29,
   "metadata": {},
   "outputs": [
    {
     "data": {
      "text/plain": [
       "Text(0.5, 1.0, 'Distribution of COVID Death Rate')"
      ]
     },
     "execution_count": 29,
     "metadata": {},
     "output_type": "execute_result"
    },
    {
     "data": {
      "image/png": "[encoded data removed]",
      "text/plain": [
       "<Figure size 1440x720 with 2 Axes>"
      ]
     },
     "metadata": {
      "needs_background": "light"
     },
     "output_type": "display_data"
    }
   ],
   "source": [
    "fig, axs = plt.subplots(nrows = 1, ncols = 2, figsize = (20,10))\n",
    "axs[0].hist(aqi_2019_covid['Mean_Annual_AQI'])\n",
    "axs[0].set_title('Distribution of AQI')\n",
    "axs[1].hist(aqi_2019_covid['death_rate'])\n",
    "axs[1].set_title('Distribution of COVID Death Rate')"
   ]
  },
  {
   "cell_type": "markdown",
   "metadata": {},
   "source": [
    "We see that this data is at least near normal. The data is also continuous and there appears to be a near linear relationship between the two, so we will use pearson's correlation coefficient"
   ]
  },
  {
   "cell_type": "code",
   "execution_count": 30,
   "metadata": {},
   "outputs": [
    {
     "name": "stdout",
     "output_type": "stream",
     "text": [
      "SpearmanrResult(correlation=0.1599565656905478, pvalue=4.3841014951741387e-07)\n"
     ]
    }
   ],
   "source": [
    "aqi_2019_corr = stats.spearmanr(aqi_2019_covid['Mean_Annual_AQI'], aqi_2019_covid['death_rate'])\n",
    "print(aqi_2019_corr)"
   ]
  },
  {
   "cell_type": "markdown",
   "metadata": {},
   "source": [
    "Conclusion: \n",
    "\n",
    "There is a significant positive correlation between the mean 2019 AQI observation in a county and the county's death rate from COVID.\n",
    "\n",
    "While this is an important finding, we caveat this by pointing out that county population and demographics may be confounding variables. The counties that are more highly populated likely have worse Air quality, and they may have busier hospitals where they received less attention. We highlight these possibilities alongside our findings."
   ]
  },
  {
   "cell_type": "code",
   "execution_count": 31,
   "metadata": {},
   "outputs": [
    {
     "data": {
      "text/plain": [
       "Text(0.5, 1.0, 'Distribution of COVID Death Rate')"
      ]
     },
     "execution_count": 31,
     "metadata": {},
     "output_type": "execute_result"
    },
    {
     "data": {
      "image/png": "[encoded data removed]",
      "text/plain": [
       "<Figure size 1440x720 with 2 Axes>"
      ]
     },
     "metadata": {
      "needs_background": "light"
     },
     "output_type": "display_data"
    }
   ],
   "source": [
    "fig, axs = plt.subplots(nrows = 1, ncols = 2, figsize = (20,10))\n",
    "axs[0].hist(aqi_2020_covid['Mean_Annual_AQI'])\n",
    "axs[0].set_title('Distribution of AQI')\n",
    "axs[1].hist(aqi_2020_covid['death_rate'])\n",
    "axs[1].set_title('Distribution of COVID Death Rate')"
   ]
  },
  {
   "cell_type": "code",
   "execution_count": 32,
   "metadata": {},
   "outputs": [
    {
     "name": "stdout",
     "output_type": "stream",
     "text": [
      "SpearmanrResult(correlation=0.07157759165803539, pvalue=0.08158111203038623)\n"
     ]
    }
   ],
   "source": [
    "aqi_2020_corr = stats.spearmanr(aqi_2020_covid['Mean_Annual_AQI'], aqi_2020_covid['death_rate'])\n",
    "print(aqi_2020_corr)"
   ]
  },
  {
   "cell_type": "markdown",
   "metadata": {},
   "source": [
    "We do not find any evidence to suggest that 2020 air quality is correlated with severity of COVID cases."
   ]
  },
  {
   "cell_type": "code",
   "execution_count": null,
   "metadata": {},
   "outputs": [],
   "source": []
  }
 ],
 "metadata": {
  "kernelspec": {
   "display_name": "Python 3",
   "language": "python",
   "name": "python3"
  },
  "language_info": {
   "codemirror_mode": {
    "name": "ipython",
    "version": 3
   },
   "file_extension": ".py",
   "mimetype": "text/x-python",
   "name": "python",
   "nbconvert_exporter": "python",
   "pygments_lexer": "ipython3",
   "version": "3.8.3"
  }
 },
 "nbformat": 4,
 "nbformat_minor": 4
}
